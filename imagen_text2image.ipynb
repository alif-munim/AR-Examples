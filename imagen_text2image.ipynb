{
  "nbformat": 4,
  "nbformat_minor": 0,
  "metadata": {
    "colab": {
      "provenance": [],
      "include_colab_link": true
    },
    "kernelspec": {
      "name": "python3",
      "display_name": "Python 3"
    },
    "language_info": {
      "name": "python"
    },
    "accelerator": "GPU",
    "gpuClass": "standard",
    "widgets": {
      "application/vnd.jupyter.widget-state+json": {
        "71245909934a4d218ec3b9ba16091e79": {
          "model_module": "@jupyter-widgets/controls",
          "model_name": "HBoxModel",
          "model_module_version": "1.5.0",
          "state": {
            "_dom_classes": [],
            "_model_module": "@jupyter-widgets/controls",
            "_model_module_version": "1.5.0",
            "_model_name": "HBoxModel",
            "_view_count": null,
            "_view_module": "@jupyter-widgets/controls",
            "_view_module_version": "1.5.0",
            "_view_name": "HBoxView",
            "box_style": "",
            "children": [
              "IPY_MODEL_150348cefa7643f39de8b6002830f448",
              "IPY_MODEL_603307e6da9b4b5b8b8891536d5a00ce",
              "IPY_MODEL_fb0e8798fd2244bdbcbbf3627025f760"
            ],
            "layout": "IPY_MODEL_1d73a4772b5a49b58980a17098d4a4b9"
          }
        },
        "150348cefa7643f39de8b6002830f448": {
          "model_module": "@jupyter-widgets/controls",
          "model_name": "HTMLModel",
          "model_module_version": "1.5.0",
          "state": {
            "_dom_classes": [],
            "_model_module": "@jupyter-widgets/controls",
            "_model_module_version": "1.5.0",
            "_model_name": "HTMLModel",
            "_view_count": null,
            "_view_module": "@jupyter-widgets/controls",
            "_view_module_version": "1.5.0",
            "_view_name": "HTMLView",
            "description": "",
            "description_tooltip": null,
            "layout": "IPY_MODEL_ff259fd4c5c045edb8bee5b6ef371ace",
            "placeholder": "​",
            "style": "IPY_MODEL_5d26c091e73a4ef4a0937e48953ca900",
            "value": "Downloading (…)okenizer_config.json: 100%"
          }
        },
        "603307e6da9b4b5b8b8891536d5a00ce": {
          "model_module": "@jupyter-widgets/controls",
          "model_name": "FloatProgressModel",
          "model_module_version": "1.5.0",
          "state": {
            "_dom_classes": [],
            "_model_module": "@jupyter-widgets/controls",
            "_model_module_version": "1.5.0",
            "_model_name": "FloatProgressModel",
            "_view_count": null,
            "_view_module": "@jupyter-widgets/controls",
            "_view_module_version": "1.5.0",
            "_view_name": "ProgressView",
            "bar_style": "success",
            "description": "",
            "description_tooltip": null,
            "layout": "IPY_MODEL_49381e118ae24878999eff62f1d68540",
            "max": 29,
            "min": 0,
            "orientation": "horizontal",
            "style": "IPY_MODEL_99077bbd8ab54ea8afddc3dcc3ac6ebe",
            "value": 29
          }
        },
        "fb0e8798fd2244bdbcbbf3627025f760": {
          "model_module": "@jupyter-widgets/controls",
          "model_name": "HTMLModel",
          "model_module_version": "1.5.0",
          "state": {
            "_dom_classes": [],
            "_model_module": "@jupyter-widgets/controls",
            "_model_module_version": "1.5.0",
            "_model_name": "HTMLModel",
            "_view_count": null,
            "_view_module": "@jupyter-widgets/controls",
            "_view_module_version": "1.5.0",
            "_view_name": "HTMLView",
            "description": "",
            "description_tooltip": null,
            "layout": "IPY_MODEL_83c50575896a406090ad01ca81a63dc4",
            "placeholder": "​",
            "style": "IPY_MODEL_d2391bc166bb4cf989d0657ab57fe112",
            "value": " 29.0/29.0 [00:00&lt;00:00, 1.43kB/s]"
          }
        },
        "1d73a4772b5a49b58980a17098d4a4b9": {
          "model_module": "@jupyter-widgets/base",
          "model_name": "LayoutModel",
          "model_module_version": "1.2.0",
          "state": {
            "_model_module": "@jupyter-widgets/base",
            "_model_module_version": "1.2.0",
            "_model_name": "LayoutModel",
            "_view_count": null,
            "_view_module": "@jupyter-widgets/base",
            "_view_module_version": "1.2.0",
            "_view_name": "LayoutView",
            "align_content": null,
            "align_items": null,
            "align_self": null,
            "border": null,
            "bottom": null,
            "display": null,
            "flex": null,
            "flex_flow": null,
            "grid_area": null,
            "grid_auto_columns": null,
            "grid_auto_flow": null,
            "grid_auto_rows": null,
            "grid_column": null,
            "grid_gap": null,
            "grid_row": null,
            "grid_template_areas": null,
            "grid_template_columns": null,
            "grid_template_rows": null,
            "height": null,
            "justify_content": null,
            "justify_items": null,
            "left": null,
            "margin": null,
            "max_height": null,
            "max_width": null,
            "min_height": null,
            "min_width": null,
            "object_fit": null,
            "object_position": null,
            "order": null,
            "overflow": null,
            "overflow_x": null,
            "overflow_y": null,
            "padding": null,
            "right": null,
            "top": null,
            "visibility": null,
            "width": null
          }
        },
        "ff259fd4c5c045edb8bee5b6ef371ace": {
          "model_module": "@jupyter-widgets/base",
          "model_name": "LayoutModel",
          "model_module_version": "1.2.0",
          "state": {
            "_model_module": "@jupyter-widgets/base",
            "_model_module_version": "1.2.0",
            "_model_name": "LayoutModel",
            "_view_count": null,
            "_view_module": "@jupyter-widgets/base",
            "_view_module_version": "1.2.0",
            "_view_name": "LayoutView",
            "align_content": null,
            "align_items": null,
            "align_self": null,
            "border": null,
            "bottom": null,
            "display": null,
            "flex": null,
            "flex_flow": null,
            "grid_area": null,
            "grid_auto_columns": null,
            "grid_auto_flow": null,
            "grid_auto_rows": null,
            "grid_column": null,
            "grid_gap": null,
            "grid_row": null,
            "grid_template_areas": null,
            "grid_template_columns": null,
            "grid_template_rows": null,
            "height": null,
            "justify_content": null,
            "justify_items": null,
            "left": null,
            "margin": null,
            "max_height": null,
            "max_width": null,
            "min_height": null,
            "min_width": null,
            "object_fit": null,
            "object_position": null,
            "order": null,
            "overflow": null,
            "overflow_x": null,
            "overflow_y": null,
            "padding": null,
            "right": null,
            "top": null,
            "visibility": null,
            "width": null
          }
        },
        "5d26c091e73a4ef4a0937e48953ca900": {
          "model_module": "@jupyter-widgets/controls",
          "model_name": "DescriptionStyleModel",
          "model_module_version": "1.5.0",
          "state": {
            "_model_module": "@jupyter-widgets/controls",
            "_model_module_version": "1.5.0",
            "_model_name": "DescriptionStyleModel",
            "_view_count": null,
            "_view_module": "@jupyter-widgets/base",
            "_view_module_version": "1.2.0",
            "_view_name": "StyleView",
            "description_width": ""
          }
        },
        "49381e118ae24878999eff62f1d68540": {
          "model_module": "@jupyter-widgets/base",
          "model_name": "LayoutModel",
          "model_module_version": "1.2.0",
          "state": {
            "_model_module": "@jupyter-widgets/base",
            "_model_module_version": "1.2.0",
            "_model_name": "LayoutModel",
            "_view_count": null,
            "_view_module": "@jupyter-widgets/base",
            "_view_module_version": "1.2.0",
            "_view_name": "LayoutView",
            "align_content": null,
            "align_items": null,
            "align_self": null,
            "border": null,
            "bottom": null,
            "display": null,
            "flex": null,
            "flex_flow": null,
            "grid_area": null,
            "grid_auto_columns": null,
            "grid_auto_flow": null,
            "grid_auto_rows": null,
            "grid_column": null,
            "grid_gap": null,
            "grid_row": null,
            "grid_template_areas": null,
            "grid_template_columns": null,
            "grid_template_rows": null,
            "height": null,
            "justify_content": null,
            "justify_items": null,
            "left": null,
            "margin": null,
            "max_height": null,
            "max_width": null,
            "min_height": null,
            "min_width": null,
            "object_fit": null,
            "object_position": null,
            "order": null,
            "overflow": null,
            "overflow_x": null,
            "overflow_y": null,
            "padding": null,
            "right": null,
            "top": null,
            "visibility": null,
            "width": null
          }
        },
        "99077bbd8ab54ea8afddc3dcc3ac6ebe": {
          "model_module": "@jupyter-widgets/controls",
          "model_name": "ProgressStyleModel",
          "model_module_version": "1.5.0",
          "state": {
            "_model_module": "@jupyter-widgets/controls",
            "_model_module_version": "1.5.0",
            "_model_name": "ProgressStyleModel",
            "_view_count": null,
            "_view_module": "@jupyter-widgets/base",
            "_view_module_version": "1.2.0",
            "_view_name": "StyleView",
            "bar_color": null,
            "description_width": ""
          }
        },
        "83c50575896a406090ad01ca81a63dc4": {
          "model_module": "@jupyter-widgets/base",
          "model_name": "LayoutModel",
          "model_module_version": "1.2.0",
          "state": {
            "_model_module": "@jupyter-widgets/base",
            "_model_module_version": "1.2.0",
            "_model_name": "LayoutModel",
            "_view_count": null,
            "_view_module": "@jupyter-widgets/base",
            "_view_module_version": "1.2.0",
            "_view_name": "LayoutView",
            "align_content": null,
            "align_items": null,
            "align_self": null,
            "border": null,
            "bottom": null,
            "display": null,
            "flex": null,
            "flex_flow": null,
            "grid_area": null,
            "grid_auto_columns": null,
            "grid_auto_flow": null,
            "grid_auto_rows": null,
            "grid_column": null,
            "grid_gap": null,
            "grid_row": null,
            "grid_template_areas": null,
            "grid_template_columns": null,
            "grid_template_rows": null,
            "height": null,
            "justify_content": null,
            "justify_items": null,
            "left": null,
            "margin": null,
            "max_height": null,
            "max_width": null,
            "min_height": null,
            "min_width": null,
            "object_fit": null,
            "object_position": null,
            "order": null,
            "overflow": null,
            "overflow_x": null,
            "overflow_y": null,
            "padding": null,
            "right": null,
            "top": null,
            "visibility": null,
            "width": null
          }
        },
        "d2391bc166bb4cf989d0657ab57fe112": {
          "model_module": "@jupyter-widgets/controls",
          "model_name": "DescriptionStyleModel",
          "model_module_version": "1.5.0",
          "state": {
            "_model_module": "@jupyter-widgets/controls",
            "_model_module_version": "1.5.0",
            "_model_name": "DescriptionStyleModel",
            "_view_count": null,
            "_view_module": "@jupyter-widgets/base",
            "_view_module_version": "1.2.0",
            "_view_name": "StyleView",
            "description_width": ""
          }
        },
        "ce7ef2fcb42048ecbda2f9dcc69c50f2": {
          "model_module": "@jupyter-widgets/controls",
          "model_name": "HBoxModel",
          "model_module_version": "1.5.0",
          "state": {
            "_dom_classes": [],
            "_model_module": "@jupyter-widgets/controls",
            "_model_module_version": "1.5.0",
            "_model_name": "HBoxModel",
            "_view_count": null,
            "_view_module": "@jupyter-widgets/controls",
            "_view_module_version": "1.5.0",
            "_view_name": "HBoxView",
            "box_style": "",
            "children": [
              "IPY_MODEL_44d2028fc0714766a3ea33ea160165d9",
              "IPY_MODEL_c0542605ced5493880a4754df8252907",
              "IPY_MODEL_07516a2c1f994a8497329649d0bd886f"
            ],
            "layout": "IPY_MODEL_7b60811400214792b2751c6fdb7418e2"
          }
        },
        "44d2028fc0714766a3ea33ea160165d9": {
          "model_module": "@jupyter-widgets/controls",
          "model_name": "HTMLModel",
          "model_module_version": "1.5.0",
          "state": {
            "_dom_classes": [],
            "_model_module": "@jupyter-widgets/controls",
            "_model_module_version": "1.5.0",
            "_model_name": "HTMLModel",
            "_view_count": null,
            "_view_module": "@jupyter-widgets/controls",
            "_view_module_version": "1.5.0",
            "_view_name": "HTMLView",
            "description": "",
            "description_tooltip": null,
            "layout": "IPY_MODEL_afdd9c2178684bdca5a7a9aa121b6498",
            "placeholder": "​",
            "style": "IPY_MODEL_29e0ee785e5142d0a24885d1f5ec67be",
            "value": "Downloading (…)lve/main/config.json: 100%"
          }
        },
        "c0542605ced5493880a4754df8252907": {
          "model_module": "@jupyter-widgets/controls",
          "model_name": "FloatProgressModel",
          "model_module_version": "1.5.0",
          "state": {
            "_dom_classes": [],
            "_model_module": "@jupyter-widgets/controls",
            "_model_module_version": "1.5.0",
            "_model_name": "FloatProgressModel",
            "_view_count": null,
            "_view_module": "@jupyter-widgets/controls",
            "_view_module_version": "1.5.0",
            "_view_name": "ProgressView",
            "bar_style": "success",
            "description": "",
            "description_tooltip": null,
            "layout": "IPY_MODEL_80883f259e0b4beda852e1025a92b5f3",
            "max": 570,
            "min": 0,
            "orientation": "horizontal",
            "style": "IPY_MODEL_baf3cef5130742cbaa0dac498317defa",
            "value": 570
          }
        },
        "07516a2c1f994a8497329649d0bd886f": {
          "model_module": "@jupyter-widgets/controls",
          "model_name": "HTMLModel",
          "model_module_version": "1.5.0",
          "state": {
            "_dom_classes": [],
            "_model_module": "@jupyter-widgets/controls",
            "_model_module_version": "1.5.0",
            "_model_name": "HTMLModel",
            "_view_count": null,
            "_view_module": "@jupyter-widgets/controls",
            "_view_module_version": "1.5.0",
            "_view_name": "HTMLView",
            "description": "",
            "description_tooltip": null,
            "layout": "IPY_MODEL_886e5f75093a4a83831215add8d1cfed",
            "placeholder": "​",
            "style": "IPY_MODEL_880efaaf9edf46999d0515e180cdd574",
            "value": " 570/570 [00:00&lt;00:00, 25.5kB/s]"
          }
        },
        "7b60811400214792b2751c6fdb7418e2": {
          "model_module": "@jupyter-widgets/base",
          "model_name": "LayoutModel",
          "model_module_version": "1.2.0",
          "state": {
            "_model_module": "@jupyter-widgets/base",
            "_model_module_version": "1.2.0",
            "_model_name": "LayoutModel",
            "_view_count": null,
            "_view_module": "@jupyter-widgets/base",
            "_view_module_version": "1.2.0",
            "_view_name": "LayoutView",
            "align_content": null,
            "align_items": null,
            "align_self": null,
            "border": null,
            "bottom": null,
            "display": null,
            "flex": null,
            "flex_flow": null,
            "grid_area": null,
            "grid_auto_columns": null,
            "grid_auto_flow": null,
            "grid_auto_rows": null,
            "grid_column": null,
            "grid_gap": null,
            "grid_row": null,
            "grid_template_areas": null,
            "grid_template_columns": null,
            "grid_template_rows": null,
            "height": null,
            "justify_content": null,
            "justify_items": null,
            "left": null,
            "margin": null,
            "max_height": null,
            "max_width": null,
            "min_height": null,
            "min_width": null,
            "object_fit": null,
            "object_position": null,
            "order": null,
            "overflow": null,
            "overflow_x": null,
            "overflow_y": null,
            "padding": null,
            "right": null,
            "top": null,
            "visibility": null,
            "width": null
          }
        },
        "afdd9c2178684bdca5a7a9aa121b6498": {
          "model_module": "@jupyter-widgets/base",
          "model_name": "LayoutModel",
          "model_module_version": "1.2.0",
          "state": {
            "_model_module": "@jupyter-widgets/base",
            "_model_module_version": "1.2.0",
            "_model_name": "LayoutModel",
            "_view_count": null,
            "_view_module": "@jupyter-widgets/base",
            "_view_module_version": "1.2.0",
            "_view_name": "LayoutView",
            "align_content": null,
            "align_items": null,
            "align_self": null,
            "border": null,
            "bottom": null,
            "display": null,
            "flex": null,
            "flex_flow": null,
            "grid_area": null,
            "grid_auto_columns": null,
            "grid_auto_flow": null,
            "grid_auto_rows": null,
            "grid_column": null,
            "grid_gap": null,
            "grid_row": null,
            "grid_template_areas": null,
            "grid_template_columns": null,
            "grid_template_rows": null,
            "height": null,
            "justify_content": null,
            "justify_items": null,
            "left": null,
            "margin": null,
            "max_height": null,
            "max_width": null,
            "min_height": null,
            "min_width": null,
            "object_fit": null,
            "object_position": null,
            "order": null,
            "overflow": null,
            "overflow_x": null,
            "overflow_y": null,
            "padding": null,
            "right": null,
            "top": null,
            "visibility": null,
            "width": null
          }
        },
        "29e0ee785e5142d0a24885d1f5ec67be": {
          "model_module": "@jupyter-widgets/controls",
          "model_name": "DescriptionStyleModel",
          "model_module_version": "1.5.0",
          "state": {
            "_model_module": "@jupyter-widgets/controls",
            "_model_module_version": "1.5.0",
            "_model_name": "DescriptionStyleModel",
            "_view_count": null,
            "_view_module": "@jupyter-widgets/base",
            "_view_module_version": "1.2.0",
            "_view_name": "StyleView",
            "description_width": ""
          }
        },
        "80883f259e0b4beda852e1025a92b5f3": {
          "model_module": "@jupyter-widgets/base",
          "model_name": "LayoutModel",
          "model_module_version": "1.2.0",
          "state": {
            "_model_module": "@jupyter-widgets/base",
            "_model_module_version": "1.2.0",
            "_model_name": "LayoutModel",
            "_view_count": null,
            "_view_module": "@jupyter-widgets/base",
            "_view_module_version": "1.2.0",
            "_view_name": "LayoutView",
            "align_content": null,
            "align_items": null,
            "align_self": null,
            "border": null,
            "bottom": null,
            "display": null,
            "flex": null,
            "flex_flow": null,
            "grid_area": null,
            "grid_auto_columns": null,
            "grid_auto_flow": null,
            "grid_auto_rows": null,
            "grid_column": null,
            "grid_gap": null,
            "grid_row": null,
            "grid_template_areas": null,
            "grid_template_columns": null,
            "grid_template_rows": null,
            "height": null,
            "justify_content": null,
            "justify_items": null,
            "left": null,
            "margin": null,
            "max_height": null,
            "max_width": null,
            "min_height": null,
            "min_width": null,
            "object_fit": null,
            "object_position": null,
            "order": null,
            "overflow": null,
            "overflow_x": null,
            "overflow_y": null,
            "padding": null,
            "right": null,
            "top": null,
            "visibility": null,
            "width": null
          }
        },
        "baf3cef5130742cbaa0dac498317defa": {
          "model_module": "@jupyter-widgets/controls",
          "model_name": "ProgressStyleModel",
          "model_module_version": "1.5.0",
          "state": {
            "_model_module": "@jupyter-widgets/controls",
            "_model_module_version": "1.5.0",
            "_model_name": "ProgressStyleModel",
            "_view_count": null,
            "_view_module": "@jupyter-widgets/base",
            "_view_module_version": "1.2.0",
            "_view_name": "StyleView",
            "bar_color": null,
            "description_width": ""
          }
        },
        "886e5f75093a4a83831215add8d1cfed": {
          "model_module": "@jupyter-widgets/base",
          "model_name": "LayoutModel",
          "model_module_version": "1.2.0",
          "state": {
            "_model_module": "@jupyter-widgets/base",
            "_model_module_version": "1.2.0",
            "_model_name": "LayoutModel",
            "_view_count": null,
            "_view_module": "@jupyter-widgets/base",
            "_view_module_version": "1.2.0",
            "_view_name": "LayoutView",
            "align_content": null,
            "align_items": null,
            "align_self": null,
            "border": null,
            "bottom": null,
            "display": null,
            "flex": null,
            "flex_flow": null,
            "grid_area": null,
            "grid_auto_columns": null,
            "grid_auto_flow": null,
            "grid_auto_rows": null,
            "grid_column": null,
            "grid_gap": null,
            "grid_row": null,
            "grid_template_areas": null,
            "grid_template_columns": null,
            "grid_template_rows": null,
            "height": null,
            "justify_content": null,
            "justify_items": null,
            "left": null,
            "margin": null,
            "max_height": null,
            "max_width": null,
            "min_height": null,
            "min_width": null,
            "object_fit": null,
            "object_position": null,
            "order": null,
            "overflow": null,
            "overflow_x": null,
            "overflow_y": null,
            "padding": null,
            "right": null,
            "top": null,
            "visibility": null,
            "width": null
          }
        },
        "880efaaf9edf46999d0515e180cdd574": {
          "model_module": "@jupyter-widgets/controls",
          "model_name": "DescriptionStyleModel",
          "model_module_version": "1.5.0",
          "state": {
            "_model_module": "@jupyter-widgets/controls",
            "_model_module_version": "1.5.0",
            "_model_name": "DescriptionStyleModel",
            "_view_count": null,
            "_view_module": "@jupyter-widgets/base",
            "_view_module_version": "1.2.0",
            "_view_name": "StyleView",
            "description_width": ""
          }
        },
        "aed4cfc8b4984530a488e43e87ddce33": {
          "model_module": "@jupyter-widgets/controls",
          "model_name": "HBoxModel",
          "model_module_version": "1.5.0",
          "state": {
            "_dom_classes": [],
            "_model_module": "@jupyter-widgets/controls",
            "_model_module_version": "1.5.0",
            "_model_name": "HBoxModel",
            "_view_count": null,
            "_view_module": "@jupyter-widgets/controls",
            "_view_module_version": "1.5.0",
            "_view_name": "HBoxView",
            "box_style": "",
            "children": [
              "IPY_MODEL_edd6881dae3348f1b77135cb19a9f007",
              "IPY_MODEL_a4a765b292ac428b94d4d2ea75beb83d",
              "IPY_MODEL_e063777b47a94829a7b8a157f4a880b4"
            ],
            "layout": "IPY_MODEL_1873e29cd62c49cabb3c05ff71e73f70"
          }
        },
        "edd6881dae3348f1b77135cb19a9f007": {
          "model_module": "@jupyter-widgets/controls",
          "model_name": "HTMLModel",
          "model_module_version": "1.5.0",
          "state": {
            "_dom_classes": [],
            "_model_module": "@jupyter-widgets/controls",
            "_model_module_version": "1.5.0",
            "_model_name": "HTMLModel",
            "_view_count": null,
            "_view_module": "@jupyter-widgets/controls",
            "_view_module_version": "1.5.0",
            "_view_name": "HTMLView",
            "description": "",
            "description_tooltip": null,
            "layout": "IPY_MODEL_c300f0a08103461e89562ad8f81dab1d",
            "placeholder": "​",
            "style": "IPY_MODEL_068bca312451437dae79a00b00f3be79",
            "value": "Downloading (…)solve/main/vocab.txt: 100%"
          }
        },
        "a4a765b292ac428b94d4d2ea75beb83d": {
          "model_module": "@jupyter-widgets/controls",
          "model_name": "FloatProgressModel",
          "model_module_version": "1.5.0",
          "state": {
            "_dom_classes": [],
            "_model_module": "@jupyter-widgets/controls",
            "_model_module_version": "1.5.0",
            "_model_name": "FloatProgressModel",
            "_view_count": null,
            "_view_module": "@jupyter-widgets/controls",
            "_view_module_version": "1.5.0",
            "_view_name": "ProgressView",
            "bar_style": "success",
            "description": "",
            "description_tooltip": null,
            "layout": "IPY_MODEL_714d6a5804c34724a0fe1c94c1cbffb7",
            "max": 213450,
            "min": 0,
            "orientation": "horizontal",
            "style": "IPY_MODEL_801e7e6bab254ede8addccb56cc38d7a",
            "value": 213450
          }
        },
        "e063777b47a94829a7b8a157f4a880b4": {
          "model_module": "@jupyter-widgets/controls",
          "model_name": "HTMLModel",
          "model_module_version": "1.5.0",
          "state": {
            "_dom_classes": [],
            "_model_module": "@jupyter-widgets/controls",
            "_model_module_version": "1.5.0",
            "_model_name": "HTMLModel",
            "_view_count": null,
            "_view_module": "@jupyter-widgets/controls",
            "_view_module_version": "1.5.0",
            "_view_name": "HTMLView",
            "description": "",
            "description_tooltip": null,
            "layout": "IPY_MODEL_d47502412f3d4214b77ceecc3fef9013",
            "placeholder": "​",
            "style": "IPY_MODEL_1170f3c5b5bd44b3b95ff40bac9321a6",
            "value": " 213k/213k [00:00&lt;00:00, 835kB/s]"
          }
        },
        "1873e29cd62c49cabb3c05ff71e73f70": {
          "model_module": "@jupyter-widgets/base",
          "model_name": "LayoutModel",
          "model_module_version": "1.2.0",
          "state": {
            "_model_module": "@jupyter-widgets/base",
            "_model_module_version": "1.2.0",
            "_model_name": "LayoutModel",
            "_view_count": null,
            "_view_module": "@jupyter-widgets/base",
            "_view_module_version": "1.2.0",
            "_view_name": "LayoutView",
            "align_content": null,
            "align_items": null,
            "align_self": null,
            "border": null,
            "bottom": null,
            "display": null,
            "flex": null,
            "flex_flow": null,
            "grid_area": null,
            "grid_auto_columns": null,
            "grid_auto_flow": null,
            "grid_auto_rows": null,
            "grid_column": null,
            "grid_gap": null,
            "grid_row": null,
            "grid_template_areas": null,
            "grid_template_columns": null,
            "grid_template_rows": null,
            "height": null,
            "justify_content": null,
            "justify_items": null,
            "left": null,
            "margin": null,
            "max_height": null,
            "max_width": null,
            "min_height": null,
            "min_width": null,
            "object_fit": null,
            "object_position": null,
            "order": null,
            "overflow": null,
            "overflow_x": null,
            "overflow_y": null,
            "padding": null,
            "right": null,
            "top": null,
            "visibility": null,
            "width": null
          }
        },
        "c300f0a08103461e89562ad8f81dab1d": {
          "model_module": "@jupyter-widgets/base",
          "model_name": "LayoutModel",
          "model_module_version": "1.2.0",
          "state": {
            "_model_module": "@jupyter-widgets/base",
            "_model_module_version": "1.2.0",
            "_model_name": "LayoutModel",
            "_view_count": null,
            "_view_module": "@jupyter-widgets/base",
            "_view_module_version": "1.2.0",
            "_view_name": "LayoutView",
            "align_content": null,
            "align_items": null,
            "align_self": null,
            "border": null,
            "bottom": null,
            "display": null,
            "flex": null,
            "flex_flow": null,
            "grid_area": null,
            "grid_auto_columns": null,
            "grid_auto_flow": null,
            "grid_auto_rows": null,
            "grid_column": null,
            "grid_gap": null,
            "grid_row": null,
            "grid_template_areas": null,
            "grid_template_columns": null,
            "grid_template_rows": null,
            "height": null,
            "justify_content": null,
            "justify_items": null,
            "left": null,
            "margin": null,
            "max_height": null,
            "max_width": null,
            "min_height": null,
            "min_width": null,
            "object_fit": null,
            "object_position": null,
            "order": null,
            "overflow": null,
            "overflow_x": null,
            "overflow_y": null,
            "padding": null,
            "right": null,
            "top": null,
            "visibility": null,
            "width": null
          }
        },
        "068bca312451437dae79a00b00f3be79": {
          "model_module": "@jupyter-widgets/controls",
          "model_name": "DescriptionStyleModel",
          "model_module_version": "1.5.0",
          "state": {
            "_model_module": "@jupyter-widgets/controls",
            "_model_module_version": "1.5.0",
            "_model_name": "DescriptionStyleModel",
            "_view_count": null,
            "_view_module": "@jupyter-widgets/base",
            "_view_module_version": "1.2.0",
            "_view_name": "StyleView",
            "description_width": ""
          }
        },
        "714d6a5804c34724a0fe1c94c1cbffb7": {
          "model_module": "@jupyter-widgets/base",
          "model_name": "LayoutModel",
          "model_module_version": "1.2.0",
          "state": {
            "_model_module": "@jupyter-widgets/base",
            "_model_module_version": "1.2.0",
            "_model_name": "LayoutModel",
            "_view_count": null,
            "_view_module": "@jupyter-widgets/base",
            "_view_module_version": "1.2.0",
            "_view_name": "LayoutView",
            "align_content": null,
            "align_items": null,
            "align_self": null,
            "border": null,
            "bottom": null,
            "display": null,
            "flex": null,
            "flex_flow": null,
            "grid_area": null,
            "grid_auto_columns": null,
            "grid_auto_flow": null,
            "grid_auto_rows": null,
            "grid_column": null,
            "grid_gap": null,
            "grid_row": null,
            "grid_template_areas": null,
            "grid_template_columns": null,
            "grid_template_rows": null,
            "height": null,
            "justify_content": null,
            "justify_items": null,
            "left": null,
            "margin": null,
            "max_height": null,
            "max_width": null,
            "min_height": null,
            "min_width": null,
            "object_fit": null,
            "object_position": null,
            "order": null,
            "overflow": null,
            "overflow_x": null,
            "overflow_y": null,
            "padding": null,
            "right": null,
            "top": null,
            "visibility": null,
            "width": null
          }
        },
        "801e7e6bab254ede8addccb56cc38d7a": {
          "model_module": "@jupyter-widgets/controls",
          "model_name": "ProgressStyleModel",
          "model_module_version": "1.5.0",
          "state": {
            "_model_module": "@jupyter-widgets/controls",
            "_model_module_version": "1.5.0",
            "_model_name": "ProgressStyleModel",
            "_view_count": null,
            "_view_module": "@jupyter-widgets/base",
            "_view_module_version": "1.2.0",
            "_view_name": "StyleView",
            "bar_color": null,
            "description_width": ""
          }
        },
        "d47502412f3d4214b77ceecc3fef9013": {
          "model_module": "@jupyter-widgets/base",
          "model_name": "LayoutModel",
          "model_module_version": "1.2.0",
          "state": {
            "_model_module": "@jupyter-widgets/base",
            "_model_module_version": "1.2.0",
            "_model_name": "LayoutModel",
            "_view_count": null,
            "_view_module": "@jupyter-widgets/base",
            "_view_module_version": "1.2.0",
            "_view_name": "LayoutView",
            "align_content": null,
            "align_items": null,
            "align_self": null,
            "border": null,
            "bottom": null,
            "display": null,
            "flex": null,
            "flex_flow": null,
            "grid_area": null,
            "grid_auto_columns": null,
            "grid_auto_flow": null,
            "grid_auto_rows": null,
            "grid_column": null,
            "grid_gap": null,
            "grid_row": null,
            "grid_template_areas": null,
            "grid_template_columns": null,
            "grid_template_rows": null,
            "height": null,
            "justify_content": null,
            "justify_items": null,
            "left": null,
            "margin": null,
            "max_height": null,
            "max_width": null,
            "min_height": null,
            "min_width": null,
            "object_fit": null,
            "object_position": null,
            "order": null,
            "overflow": null,
            "overflow_x": null,
            "overflow_y": null,
            "padding": null,
            "right": null,
            "top": null,
            "visibility": null,
            "width": null
          }
        },
        "1170f3c5b5bd44b3b95ff40bac9321a6": {
          "model_module": "@jupyter-widgets/controls",
          "model_name": "DescriptionStyleModel",
          "model_module_version": "1.5.0",
          "state": {
            "_model_module": "@jupyter-widgets/controls",
            "_model_module_version": "1.5.0",
            "_model_name": "DescriptionStyleModel",
            "_view_count": null,
            "_view_module": "@jupyter-widgets/base",
            "_view_module_version": "1.2.0",
            "_view_name": "StyleView",
            "description_width": ""
          }
        },
        "34cfbe9ee913483f8c95c8b390a76deb": {
          "model_module": "@jupyter-widgets/controls",
          "model_name": "HBoxModel",
          "model_module_version": "1.5.0",
          "state": {
            "_dom_classes": [],
            "_model_module": "@jupyter-widgets/controls",
            "_model_module_version": "1.5.0",
            "_model_name": "HBoxModel",
            "_view_count": null,
            "_view_module": "@jupyter-widgets/controls",
            "_view_module_version": "1.5.0",
            "_view_name": "HBoxView",
            "box_style": "",
            "children": [
              "IPY_MODEL_a5eac3270e7e43ea84ad2af6ce584f8e",
              "IPY_MODEL_5684ffceb044487eb89fca3378700907",
              "IPY_MODEL_4cbdef2ac1884918b4faa8b98a81bc31"
            ],
            "layout": "IPY_MODEL_21a4a8ac01614eb9b88731a64f247a97"
          }
        },
        "a5eac3270e7e43ea84ad2af6ce584f8e": {
          "model_module": "@jupyter-widgets/controls",
          "model_name": "HTMLModel",
          "model_module_version": "1.5.0",
          "state": {
            "_dom_classes": [],
            "_model_module": "@jupyter-widgets/controls",
            "_model_module_version": "1.5.0",
            "_model_name": "HTMLModel",
            "_view_count": null,
            "_view_module": "@jupyter-widgets/controls",
            "_view_module_version": "1.5.0",
            "_view_name": "HTMLView",
            "description": "",
            "description_tooltip": null,
            "layout": "IPY_MODEL_df18d6215b41485bb1379d17e8193b12",
            "placeholder": "​",
            "style": "IPY_MODEL_c73131159a724a1aa96c4a44c183a126",
            "value": "Downloading (…)/main/tokenizer.json: 100%"
          }
        },
        "5684ffceb044487eb89fca3378700907": {
          "model_module": "@jupyter-widgets/controls",
          "model_name": "FloatProgressModel",
          "model_module_version": "1.5.0",
          "state": {
            "_dom_classes": [],
            "_model_module": "@jupyter-widgets/controls",
            "_model_module_version": "1.5.0",
            "_model_name": "FloatProgressModel",
            "_view_count": null,
            "_view_module": "@jupyter-widgets/controls",
            "_view_module_version": "1.5.0",
            "_view_name": "ProgressView",
            "bar_style": "success",
            "description": "",
            "description_tooltip": null,
            "layout": "IPY_MODEL_d9e98021667047858ccb293e5b6bbb6b",
            "max": 435797,
            "min": 0,
            "orientation": "horizontal",
            "style": "IPY_MODEL_fd098b22bf86485f8323f7b39e2c9bd4",
            "value": 435797
          }
        },
        "4cbdef2ac1884918b4faa8b98a81bc31": {
          "model_module": "@jupyter-widgets/controls",
          "model_name": "HTMLModel",
          "model_module_version": "1.5.0",
          "state": {
            "_dom_classes": [],
            "_model_module": "@jupyter-widgets/controls",
            "_model_module_version": "1.5.0",
            "_model_name": "HTMLModel",
            "_view_count": null,
            "_view_module": "@jupyter-widgets/controls",
            "_view_module_version": "1.5.0",
            "_view_name": "HTMLView",
            "description": "",
            "description_tooltip": null,
            "layout": "IPY_MODEL_6e1ad87cfa8d494db495b458c9285193",
            "placeholder": "​",
            "style": "IPY_MODEL_7fcdd757db344e9b82880ceae572f8a9",
            "value": " 436k/436k [00:00&lt;00:00, 1.02MB/s]"
          }
        },
        "21a4a8ac01614eb9b88731a64f247a97": {
          "model_module": "@jupyter-widgets/base",
          "model_name": "LayoutModel",
          "model_module_version": "1.2.0",
          "state": {
            "_model_module": "@jupyter-widgets/base",
            "_model_module_version": "1.2.0",
            "_model_name": "LayoutModel",
            "_view_count": null,
            "_view_module": "@jupyter-widgets/base",
            "_view_module_version": "1.2.0",
            "_view_name": "LayoutView",
            "align_content": null,
            "align_items": null,
            "align_self": null,
            "border": null,
            "bottom": null,
            "display": null,
            "flex": null,
            "flex_flow": null,
            "grid_area": null,
            "grid_auto_columns": null,
            "grid_auto_flow": null,
            "grid_auto_rows": null,
            "grid_column": null,
            "grid_gap": null,
            "grid_row": null,
            "grid_template_areas": null,
            "grid_template_columns": null,
            "grid_template_rows": null,
            "height": null,
            "justify_content": null,
            "justify_items": null,
            "left": null,
            "margin": null,
            "max_height": null,
            "max_width": null,
            "min_height": null,
            "min_width": null,
            "object_fit": null,
            "object_position": null,
            "order": null,
            "overflow": null,
            "overflow_x": null,
            "overflow_y": null,
            "padding": null,
            "right": null,
            "top": null,
            "visibility": null,
            "width": null
          }
        },
        "df18d6215b41485bb1379d17e8193b12": {
          "model_module": "@jupyter-widgets/base",
          "model_name": "LayoutModel",
          "model_module_version": "1.2.0",
          "state": {
            "_model_module": "@jupyter-widgets/base",
            "_model_module_version": "1.2.0",
            "_model_name": "LayoutModel",
            "_view_count": null,
            "_view_module": "@jupyter-widgets/base",
            "_view_module_version": "1.2.0",
            "_view_name": "LayoutView",
            "align_content": null,
            "align_items": null,
            "align_self": null,
            "border": null,
            "bottom": null,
            "display": null,
            "flex": null,
            "flex_flow": null,
            "grid_area": null,
            "grid_auto_columns": null,
            "grid_auto_flow": null,
            "grid_auto_rows": null,
            "grid_column": null,
            "grid_gap": null,
            "grid_row": null,
            "grid_template_areas": null,
            "grid_template_columns": null,
            "grid_template_rows": null,
            "height": null,
            "justify_content": null,
            "justify_items": null,
            "left": null,
            "margin": null,
            "max_height": null,
            "max_width": null,
            "min_height": null,
            "min_width": null,
            "object_fit": null,
            "object_position": null,
            "order": null,
            "overflow": null,
            "overflow_x": null,
            "overflow_y": null,
            "padding": null,
            "right": null,
            "top": null,
            "visibility": null,
            "width": null
          }
        },
        "c73131159a724a1aa96c4a44c183a126": {
          "model_module": "@jupyter-widgets/controls",
          "model_name": "DescriptionStyleModel",
          "model_module_version": "1.5.0",
          "state": {
            "_model_module": "@jupyter-widgets/controls",
            "_model_module_version": "1.5.0",
            "_model_name": "DescriptionStyleModel",
            "_view_count": null,
            "_view_module": "@jupyter-widgets/base",
            "_view_module_version": "1.2.0",
            "_view_name": "StyleView",
            "description_width": ""
          }
        },
        "d9e98021667047858ccb293e5b6bbb6b": {
          "model_module": "@jupyter-widgets/base",
          "model_name": "LayoutModel",
          "model_module_version": "1.2.0",
          "state": {
            "_model_module": "@jupyter-widgets/base",
            "_model_module_version": "1.2.0",
            "_model_name": "LayoutModel",
            "_view_count": null,
            "_view_module": "@jupyter-widgets/base",
            "_view_module_version": "1.2.0",
            "_view_name": "LayoutView",
            "align_content": null,
            "align_items": null,
            "align_self": null,
            "border": null,
            "bottom": null,
            "display": null,
            "flex": null,
            "flex_flow": null,
            "grid_area": null,
            "grid_auto_columns": null,
            "grid_auto_flow": null,
            "grid_auto_rows": null,
            "grid_column": null,
            "grid_gap": null,
            "grid_row": null,
            "grid_template_areas": null,
            "grid_template_columns": null,
            "grid_template_rows": null,
            "height": null,
            "justify_content": null,
            "justify_items": null,
            "left": null,
            "margin": null,
            "max_height": null,
            "max_width": null,
            "min_height": null,
            "min_width": null,
            "object_fit": null,
            "object_position": null,
            "order": null,
            "overflow": null,
            "overflow_x": null,
            "overflow_y": null,
            "padding": null,
            "right": null,
            "top": null,
            "visibility": null,
            "width": null
          }
        },
        "fd098b22bf86485f8323f7b39e2c9bd4": {
          "model_module": "@jupyter-widgets/controls",
          "model_name": "ProgressStyleModel",
          "model_module_version": "1.5.0",
          "state": {
            "_model_module": "@jupyter-widgets/controls",
            "_model_module_version": "1.5.0",
            "_model_name": "ProgressStyleModel",
            "_view_count": null,
            "_view_module": "@jupyter-widgets/base",
            "_view_module_version": "1.2.0",
            "_view_name": "StyleView",
            "bar_color": null,
            "description_width": ""
          }
        },
        "6e1ad87cfa8d494db495b458c9285193": {
          "model_module": "@jupyter-widgets/base",
          "model_name": "LayoutModel",
          "model_module_version": "1.2.0",
          "state": {
            "_model_module": "@jupyter-widgets/base",
            "_model_module_version": "1.2.0",
            "_model_name": "LayoutModel",
            "_view_count": null,
            "_view_module": "@jupyter-widgets/base",
            "_view_module_version": "1.2.0",
            "_view_name": "LayoutView",
            "align_content": null,
            "align_items": null,
            "align_self": null,
            "border": null,
            "bottom": null,
            "display": null,
            "flex": null,
            "flex_flow": null,
            "grid_area": null,
            "grid_auto_columns": null,
            "grid_auto_flow": null,
            "grid_auto_rows": null,
            "grid_column": null,
            "grid_gap": null,
            "grid_row": null,
            "grid_template_areas": null,
            "grid_template_columns": null,
            "grid_template_rows": null,
            "height": null,
            "justify_content": null,
            "justify_items": null,
            "left": null,
            "margin": null,
            "max_height": null,
            "max_width": null,
            "min_height": null,
            "min_width": null,
            "object_fit": null,
            "object_position": null,
            "order": null,
            "overflow": null,
            "overflow_x": null,
            "overflow_y": null,
            "padding": null,
            "right": null,
            "top": null,
            "visibility": null,
            "width": null
          }
        },
        "7fcdd757db344e9b82880ceae572f8a9": {
          "model_module": "@jupyter-widgets/controls",
          "model_name": "DescriptionStyleModel",
          "model_module_version": "1.5.0",
          "state": {
            "_model_module": "@jupyter-widgets/controls",
            "_model_module_version": "1.5.0",
            "_model_name": "DescriptionStyleModel",
            "_view_count": null,
            "_view_module": "@jupyter-widgets/base",
            "_view_module_version": "1.2.0",
            "_view_name": "StyleView",
            "description_width": ""
          }
        },
        "112728a7a5ca48528031b81019503825": {
          "model_module": "@jupyter-widgets/controls",
          "model_name": "HBoxModel",
          "model_module_version": "1.5.0",
          "state": {
            "_dom_classes": [],
            "_model_module": "@jupyter-widgets/controls",
            "_model_module_version": "1.5.0",
            "_model_name": "HBoxModel",
            "_view_count": null,
            "_view_module": "@jupyter-widgets/controls",
            "_view_module_version": "1.5.0",
            "_view_name": "HBoxView",
            "box_style": "",
            "children": [
              "IPY_MODEL_f413578e160a4080ab489e9f13013660",
              "IPY_MODEL_aecafde67ac6404585cd498bfef799fe",
              "IPY_MODEL_47080d30d734457a8ef457e1608e5592"
            ],
            "layout": "IPY_MODEL_3f4204138854418aab2d31bf5d842e6c"
          }
        },
        "f413578e160a4080ab489e9f13013660": {
          "model_module": "@jupyter-widgets/controls",
          "model_name": "HTMLModel",
          "model_module_version": "1.5.0",
          "state": {
            "_dom_classes": [],
            "_model_module": "@jupyter-widgets/controls",
            "_model_module_version": "1.5.0",
            "_model_name": "HTMLModel",
            "_view_count": null,
            "_view_module": "@jupyter-widgets/controls",
            "_view_module_version": "1.5.0",
            "_view_name": "HTMLView",
            "description": "",
            "description_tooltip": null,
            "layout": "IPY_MODEL_35e5b3dd2ab64fcfbd3b5026bf29cc4f",
            "placeholder": "​",
            "style": "IPY_MODEL_ee4cd2270fc04037b965b82b78a68aa1",
            "value": "Downloading (…)&quot;pytorch_model.bin&quot;;: 100%"
          }
        },
        "aecafde67ac6404585cd498bfef799fe": {
          "model_module": "@jupyter-widgets/controls",
          "model_name": "FloatProgressModel",
          "model_module_version": "1.5.0",
          "state": {
            "_dom_classes": [],
            "_model_module": "@jupyter-widgets/controls",
            "_model_module_version": "1.5.0",
            "_model_name": "FloatProgressModel",
            "_view_count": null,
            "_view_module": "@jupyter-widgets/controls",
            "_view_module_version": "1.5.0",
            "_view_name": "ProgressView",
            "bar_style": "success",
            "description": "",
            "description_tooltip": null,
            "layout": "IPY_MODEL_ba2f91467d3448e2ac0f89067518f959",
            "max": 435779157,
            "min": 0,
            "orientation": "horizontal",
            "style": "IPY_MODEL_2ac3816d4112478ab5df31029fba48d9",
            "value": 435779157
          }
        },
        "47080d30d734457a8ef457e1608e5592": {
          "model_module": "@jupyter-widgets/controls",
          "model_name": "HTMLModel",
          "model_module_version": "1.5.0",
          "state": {
            "_dom_classes": [],
            "_model_module": "@jupyter-widgets/controls",
            "_model_module_version": "1.5.0",
            "_model_name": "HTMLModel",
            "_view_count": null,
            "_view_module": "@jupyter-widgets/controls",
            "_view_module_version": "1.5.0",
            "_view_name": "HTMLView",
            "description": "",
            "description_tooltip": null,
            "layout": "IPY_MODEL_bc8563cb5d074899941c2f2dbf1a060a",
            "placeholder": "​",
            "style": "IPY_MODEL_d777d144cf2d4b18b00709953313b48d",
            "value": " 436M/436M [00:02&lt;00:00, 230MB/s]"
          }
        },
        "3f4204138854418aab2d31bf5d842e6c": {
          "model_module": "@jupyter-widgets/base",
          "model_name": "LayoutModel",
          "model_module_version": "1.2.0",
          "state": {
            "_model_module": "@jupyter-widgets/base",
            "_model_module_version": "1.2.0",
            "_model_name": "LayoutModel",
            "_view_count": null,
            "_view_module": "@jupyter-widgets/base",
            "_view_module_version": "1.2.0",
            "_view_name": "LayoutView",
            "align_content": null,
            "align_items": null,
            "align_self": null,
            "border": null,
            "bottom": null,
            "display": null,
            "flex": null,
            "flex_flow": null,
            "grid_area": null,
            "grid_auto_columns": null,
            "grid_auto_flow": null,
            "grid_auto_rows": null,
            "grid_column": null,
            "grid_gap": null,
            "grid_row": null,
            "grid_template_areas": null,
            "grid_template_columns": null,
            "grid_template_rows": null,
            "height": null,
            "justify_content": null,
            "justify_items": null,
            "left": null,
            "margin": null,
            "max_height": null,
            "max_width": null,
            "min_height": null,
            "min_width": null,
            "object_fit": null,
            "object_position": null,
            "order": null,
            "overflow": null,
            "overflow_x": null,
            "overflow_y": null,
            "padding": null,
            "right": null,
            "top": null,
            "visibility": null,
            "width": null
          }
        },
        "35e5b3dd2ab64fcfbd3b5026bf29cc4f": {
          "model_module": "@jupyter-widgets/base",
          "model_name": "LayoutModel",
          "model_module_version": "1.2.0",
          "state": {
            "_model_module": "@jupyter-widgets/base",
            "_model_module_version": "1.2.0",
            "_model_name": "LayoutModel",
            "_view_count": null,
            "_view_module": "@jupyter-widgets/base",
            "_view_module_version": "1.2.0",
            "_view_name": "LayoutView",
            "align_content": null,
            "align_items": null,
            "align_self": null,
            "border": null,
            "bottom": null,
            "display": null,
            "flex": null,
            "flex_flow": null,
            "grid_area": null,
            "grid_auto_columns": null,
            "grid_auto_flow": null,
            "grid_auto_rows": null,
            "grid_column": null,
            "grid_gap": null,
            "grid_row": null,
            "grid_template_areas": null,
            "grid_template_columns": null,
            "grid_template_rows": null,
            "height": null,
            "justify_content": null,
            "justify_items": null,
            "left": null,
            "margin": null,
            "max_height": null,
            "max_width": null,
            "min_height": null,
            "min_width": null,
            "object_fit": null,
            "object_position": null,
            "order": null,
            "overflow": null,
            "overflow_x": null,
            "overflow_y": null,
            "padding": null,
            "right": null,
            "top": null,
            "visibility": null,
            "width": null
          }
        },
        "ee4cd2270fc04037b965b82b78a68aa1": {
          "model_module": "@jupyter-widgets/controls",
          "model_name": "DescriptionStyleModel",
          "model_module_version": "1.5.0",
          "state": {
            "_model_module": "@jupyter-widgets/controls",
            "_model_module_version": "1.5.0",
            "_model_name": "DescriptionStyleModel",
            "_view_count": null,
            "_view_module": "@jupyter-widgets/base",
            "_view_module_version": "1.2.0",
            "_view_name": "StyleView",
            "description_width": ""
          }
        },
        "ba2f91467d3448e2ac0f89067518f959": {
          "model_module": "@jupyter-widgets/base",
          "model_name": "LayoutModel",
          "model_module_version": "1.2.0",
          "state": {
            "_model_module": "@jupyter-widgets/base",
            "_model_module_version": "1.2.0",
            "_model_name": "LayoutModel",
            "_view_count": null,
            "_view_module": "@jupyter-widgets/base",
            "_view_module_version": "1.2.0",
            "_view_name": "LayoutView",
            "align_content": null,
            "align_items": null,
            "align_self": null,
            "border": null,
            "bottom": null,
            "display": null,
            "flex": null,
            "flex_flow": null,
            "grid_area": null,
            "grid_auto_columns": null,
            "grid_auto_flow": null,
            "grid_auto_rows": null,
            "grid_column": null,
            "grid_gap": null,
            "grid_row": null,
            "grid_template_areas": null,
            "grid_template_columns": null,
            "grid_template_rows": null,
            "height": null,
            "justify_content": null,
            "justify_items": null,
            "left": null,
            "margin": null,
            "max_height": null,
            "max_width": null,
            "min_height": null,
            "min_width": null,
            "object_fit": null,
            "object_position": null,
            "order": null,
            "overflow": null,
            "overflow_x": null,
            "overflow_y": null,
            "padding": null,
            "right": null,
            "top": null,
            "visibility": null,
            "width": null
          }
        },
        "2ac3816d4112478ab5df31029fba48d9": {
          "model_module": "@jupyter-widgets/controls",
          "model_name": "ProgressStyleModel",
          "model_module_version": "1.5.0",
          "state": {
            "_model_module": "@jupyter-widgets/controls",
            "_model_module_version": "1.5.0",
            "_model_name": "ProgressStyleModel",
            "_view_count": null,
            "_view_module": "@jupyter-widgets/base",
            "_view_module_version": "1.2.0",
            "_view_name": "StyleView",
            "bar_color": null,
            "description_width": ""
          }
        },
        "bc8563cb5d074899941c2f2dbf1a060a": {
          "model_module": "@jupyter-widgets/base",
          "model_name": "LayoutModel",
          "model_module_version": "1.2.0",
          "state": {
            "_model_module": "@jupyter-widgets/base",
            "_model_module_version": "1.2.0",
            "_model_name": "LayoutModel",
            "_view_count": null,
            "_view_module": "@jupyter-widgets/base",
            "_view_module_version": "1.2.0",
            "_view_name": "LayoutView",
            "align_content": null,
            "align_items": null,
            "align_self": null,
            "border": null,
            "bottom": null,
            "display": null,
            "flex": null,
            "flex_flow": null,
            "grid_area": null,
            "grid_auto_columns": null,
            "grid_auto_flow": null,
            "grid_auto_rows": null,
            "grid_column": null,
            "grid_gap": null,
            "grid_row": null,
            "grid_template_areas": null,
            "grid_template_columns": null,
            "grid_template_rows": null,
            "height": null,
            "justify_content": null,
            "justify_items": null,
            "left": null,
            "margin": null,
            "max_height": null,
            "max_width": null,
            "min_height": null,
            "min_width": null,
            "object_fit": null,
            "object_position": null,
            "order": null,
            "overflow": null,
            "overflow_x": null,
            "overflow_y": null,
            "padding": null,
            "right": null,
            "top": null,
            "visibility": null,
            "width": null
          }
        },
        "d777d144cf2d4b18b00709953313b48d": {
          "model_module": "@jupyter-widgets/controls",
          "model_name": "DescriptionStyleModel",
          "model_module_version": "1.5.0",
          "state": {
            "_model_module": "@jupyter-widgets/controls",
            "_model_module_version": "1.5.0",
            "_model_name": "DescriptionStyleModel",
            "_view_count": null,
            "_view_module": "@jupyter-widgets/base",
            "_view_module_version": "1.2.0",
            "_view_name": "StyleView",
            "description_width": ""
          }
        },
        "25a9ae89164c4c7aa3481a6a53642fda": {
          "model_module": "@jupyter-widgets/controls",
          "model_name": "HBoxModel",
          "model_module_version": "1.5.0",
          "state": {
            "_dom_classes": [],
            "_model_module": "@jupyter-widgets/controls",
            "_model_module_version": "1.5.0",
            "_model_name": "HBoxModel",
            "_view_count": null,
            "_view_module": "@jupyter-widgets/controls",
            "_view_module_version": "1.5.0",
            "_view_name": "HBoxView",
            "box_style": "",
            "children": [
              "IPY_MODEL_ac559f487fd7453cb3d9ca26db5f754f",
              "IPY_MODEL_20cdc3f524a2482a9c6dbbe08a160e9a",
              "IPY_MODEL_45e300500e8440e994f3eab4e32e3f53"
            ],
            "layout": "IPY_MODEL_bbf299a3700746888bfca91889c39045"
          }
        },
        "ac559f487fd7453cb3d9ca26db5f754f": {
          "model_module": "@jupyter-widgets/controls",
          "model_name": "HTMLModel",
          "model_module_version": "1.5.0",
          "state": {
            "_dom_classes": [],
            "_model_module": "@jupyter-widgets/controls",
            "_model_module_version": "1.5.0",
            "_model_name": "HTMLModel",
            "_view_count": null,
            "_view_module": "@jupyter-widgets/controls",
            "_view_module_version": "1.5.0",
            "_view_name": "HTMLView",
            "description": "",
            "description_tooltip": null,
            "layout": "IPY_MODEL_eabacb48873248b8958f4cfc54ca21cd",
            "placeholder": "​",
            "style": "IPY_MODEL_2fc6a6fc8bc340aea1ec887bd8acf0fe",
            "value": ""
          }
        },
        "20cdc3f524a2482a9c6dbbe08a160e9a": {
          "model_module": "@jupyter-widgets/controls",
          "model_name": "FloatProgressModel",
          "model_module_version": "1.5.0",
          "state": {
            "_dom_classes": [],
            "_model_module": "@jupyter-widgets/controls",
            "_model_module_version": "1.5.0",
            "_model_name": "FloatProgressModel",
            "_view_count": null,
            "_view_module": "@jupyter-widgets/controls",
            "_view_module_version": "1.5.0",
            "_view_name": "ProgressView",
            "bar_style": "success",
            "description": "",
            "description_tooltip": null,
            "layout": "IPY_MODEL_080992592c4d4dccba427b2a65a28820",
            "max": 1,
            "min": 0,
            "orientation": "horizontal",
            "style": "IPY_MODEL_b84869437528468c823be5ff2add24f4",
            "value": 1
          }
        },
        "45e300500e8440e994f3eab4e32e3f53": {
          "model_module": "@jupyter-widgets/controls",
          "model_name": "HTMLModel",
          "model_module_version": "1.5.0",
          "state": {
            "_dom_classes": [],
            "_model_module": "@jupyter-widgets/controls",
            "_model_module_version": "1.5.0",
            "_model_name": "HTMLModel",
            "_view_count": null,
            "_view_module": "@jupyter-widgets/controls",
            "_view_module_version": "1.5.0",
            "_view_name": "HTMLView",
            "description": "",
            "description_tooltip": null,
            "layout": "IPY_MODEL_9223f2562f334c9bbd292e7569725231",
            "placeholder": "​",
            "style": "IPY_MODEL_7e8479b4c2754108924776d99bd16a83",
            "value": " 2/? [12:25&lt;00:00, 367.55s/it]"
          }
        },
        "bbf299a3700746888bfca91889c39045": {
          "model_module": "@jupyter-widgets/base",
          "model_name": "LayoutModel",
          "model_module_version": "1.2.0",
          "state": {
            "_model_module": "@jupyter-widgets/base",
            "_model_module_version": "1.2.0",
            "_model_name": "LayoutModel",
            "_view_count": null,
            "_view_module": "@jupyter-widgets/base",
            "_view_module_version": "1.2.0",
            "_view_name": "LayoutView",
            "align_content": null,
            "align_items": null,
            "align_self": null,
            "border": null,
            "bottom": null,
            "display": null,
            "flex": null,
            "flex_flow": null,
            "grid_area": null,
            "grid_auto_columns": null,
            "grid_auto_flow": null,
            "grid_auto_rows": null,
            "grid_column": null,
            "grid_gap": null,
            "grid_row": null,
            "grid_template_areas": null,
            "grid_template_columns": null,
            "grid_template_rows": null,
            "height": null,
            "justify_content": null,
            "justify_items": null,
            "left": null,
            "margin": null,
            "max_height": null,
            "max_width": null,
            "min_height": null,
            "min_width": null,
            "object_fit": null,
            "object_position": null,
            "order": null,
            "overflow": null,
            "overflow_x": null,
            "overflow_y": null,
            "padding": null,
            "right": null,
            "top": null,
            "visibility": null,
            "width": null
          }
        },
        "eabacb48873248b8958f4cfc54ca21cd": {
          "model_module": "@jupyter-widgets/base",
          "model_name": "LayoutModel",
          "model_module_version": "1.2.0",
          "state": {
            "_model_module": "@jupyter-widgets/base",
            "_model_module_version": "1.2.0",
            "_model_name": "LayoutModel",
            "_view_count": null,
            "_view_module": "@jupyter-widgets/base",
            "_view_module_version": "1.2.0",
            "_view_name": "LayoutView",
            "align_content": null,
            "align_items": null,
            "align_self": null,
            "border": null,
            "bottom": null,
            "display": null,
            "flex": null,
            "flex_flow": null,
            "grid_area": null,
            "grid_auto_columns": null,
            "grid_auto_flow": null,
            "grid_auto_rows": null,
            "grid_column": null,
            "grid_gap": null,
            "grid_row": null,
            "grid_template_areas": null,
            "grid_template_columns": null,
            "grid_template_rows": null,
            "height": null,
            "justify_content": null,
            "justify_items": null,
            "left": null,
            "margin": null,
            "max_height": null,
            "max_width": null,
            "min_height": null,
            "min_width": null,
            "object_fit": null,
            "object_position": null,
            "order": null,
            "overflow": null,
            "overflow_x": null,
            "overflow_y": null,
            "padding": null,
            "right": null,
            "top": null,
            "visibility": null,
            "width": null
          }
        },
        "2fc6a6fc8bc340aea1ec887bd8acf0fe": {
          "model_module": "@jupyter-widgets/controls",
          "model_name": "DescriptionStyleModel",
          "model_module_version": "1.5.0",
          "state": {
            "_model_module": "@jupyter-widgets/controls",
            "_model_module_version": "1.5.0",
            "_model_name": "DescriptionStyleModel",
            "_view_count": null,
            "_view_module": "@jupyter-widgets/base",
            "_view_module_version": "1.2.0",
            "_view_name": "StyleView",
            "description_width": ""
          }
        },
        "080992592c4d4dccba427b2a65a28820": {
          "model_module": "@jupyter-widgets/base",
          "model_name": "LayoutModel",
          "model_module_version": "1.2.0",
          "state": {
            "_model_module": "@jupyter-widgets/base",
            "_model_module_version": "1.2.0",
            "_model_name": "LayoutModel",
            "_view_count": null,
            "_view_module": "@jupyter-widgets/base",
            "_view_module_version": "1.2.0",
            "_view_name": "LayoutView",
            "align_content": null,
            "align_items": null,
            "align_self": null,
            "border": null,
            "bottom": null,
            "display": null,
            "flex": null,
            "flex_flow": null,
            "grid_area": null,
            "grid_auto_columns": null,
            "grid_auto_flow": null,
            "grid_auto_rows": null,
            "grid_column": null,
            "grid_gap": null,
            "grid_row": null,
            "grid_template_areas": null,
            "grid_template_columns": null,
            "grid_template_rows": null,
            "height": null,
            "justify_content": null,
            "justify_items": null,
            "left": null,
            "margin": null,
            "max_height": null,
            "max_width": null,
            "min_height": null,
            "min_width": null,
            "object_fit": null,
            "object_position": null,
            "order": null,
            "overflow": null,
            "overflow_x": null,
            "overflow_y": null,
            "padding": null,
            "right": null,
            "top": null,
            "visibility": null,
            "width": "20px"
          }
        },
        "b84869437528468c823be5ff2add24f4": {
          "model_module": "@jupyter-widgets/controls",
          "model_name": "ProgressStyleModel",
          "model_module_version": "1.5.0",
          "state": {
            "_model_module": "@jupyter-widgets/controls",
            "_model_module_version": "1.5.0",
            "_model_name": "ProgressStyleModel",
            "_view_count": null,
            "_view_module": "@jupyter-widgets/base",
            "_view_module_version": "1.2.0",
            "_view_name": "StyleView",
            "bar_color": null,
            "description_width": ""
          }
        },
        "9223f2562f334c9bbd292e7569725231": {
          "model_module": "@jupyter-widgets/base",
          "model_name": "LayoutModel",
          "model_module_version": "1.2.0",
          "state": {
            "_model_module": "@jupyter-widgets/base",
            "_model_module_version": "1.2.0",
            "_model_name": "LayoutModel",
            "_view_count": null,
            "_view_module": "@jupyter-widgets/base",
            "_view_module_version": "1.2.0",
            "_view_name": "LayoutView",
            "align_content": null,
            "align_items": null,
            "align_self": null,
            "border": null,
            "bottom": null,
            "display": null,
            "flex": null,
            "flex_flow": null,
            "grid_area": null,
            "grid_auto_columns": null,
            "grid_auto_flow": null,
            "grid_auto_rows": null,
            "grid_column": null,
            "grid_gap": null,
            "grid_row": null,
            "grid_template_areas": null,
            "grid_template_columns": null,
            "grid_template_rows": null,
            "height": null,
            "justify_content": null,
            "justify_items": null,
            "left": null,
            "margin": null,
            "max_height": null,
            "max_width": null,
            "min_height": null,
            "min_width": null,
            "object_fit": null,
            "object_position": null,
            "order": null,
            "overflow": null,
            "overflow_x": null,
            "overflow_y": null,
            "padding": null,
            "right": null,
            "top": null,
            "visibility": null,
            "width": null
          }
        },
        "7e8479b4c2754108924776d99bd16a83": {
          "model_module": "@jupyter-widgets/controls",
          "model_name": "DescriptionStyleModel",
          "model_module_version": "1.5.0",
          "state": {
            "_model_module": "@jupyter-widgets/controls",
            "_model_module_version": "1.5.0",
            "_model_name": "DescriptionStyleModel",
            "_view_count": null,
            "_view_module": "@jupyter-widgets/base",
            "_view_module_version": "1.2.0",
            "_view_name": "StyleView",
            "description_width": ""
          }
        },
        "863b19de45ee400fa342ab6fca34b051": {
          "model_module": "@jupyter-widgets/controls",
          "model_name": "HBoxModel",
          "model_module_version": "1.5.0",
          "state": {
            "_dom_classes": [],
            "_model_module": "@jupyter-widgets/controls",
            "_model_module_version": "1.5.0",
            "_model_name": "HBoxModel",
            "_view_count": null,
            "_view_module": "@jupyter-widgets/controls",
            "_view_module_version": "1.5.0",
            "_view_name": "HBoxView",
            "box_style": "",
            "children": [
              "IPY_MODEL_40f1dd6617bc4511afdd77c1f8056911",
              "IPY_MODEL_28b4da5738ff47729db5af9d4a8d5aad",
              "IPY_MODEL_13f5fbff140e4ea38756422aa3b4c307"
            ],
            "layout": "IPY_MODEL_9441c22ef35b4bd78a1d477306c1f3b6"
          }
        },
        "40f1dd6617bc4511afdd77c1f8056911": {
          "model_module": "@jupyter-widgets/controls",
          "model_name": "HTMLModel",
          "model_module_version": "1.5.0",
          "state": {
            "_dom_classes": [],
            "_model_module": "@jupyter-widgets/controls",
            "_model_module_version": "1.5.0",
            "_model_name": "HTMLModel",
            "_view_count": null,
            "_view_module": "@jupyter-widgets/controls",
            "_view_module_version": "1.5.0",
            "_view_name": "HTMLView",
            "description": "",
            "description_tooltip": null,
            "layout": "IPY_MODEL_27b5541f88164614b580ba351e375aa5",
            "placeholder": "​",
            "style": "IPY_MODEL_7365f93ce5f542caa72c0f85745a06dc",
            "value": "sampling loop time step: 100%"
          }
        },
        "28b4da5738ff47729db5af9d4a8d5aad": {
          "model_module": "@jupyter-widgets/controls",
          "model_name": "FloatProgressModel",
          "model_module_version": "1.5.0",
          "state": {
            "_dom_classes": [],
            "_model_module": "@jupyter-widgets/controls",
            "_model_module_version": "1.5.0",
            "_model_name": "FloatProgressModel",
            "_view_count": null,
            "_view_module": "@jupyter-widgets/controls",
            "_view_module_version": "1.5.0",
            "_view_name": "ProgressView",
            "bar_style": "success",
            "description": "",
            "description_tooltip": null,
            "layout": "IPY_MODEL_fb4a7c2d80664855983f3a4d783d8953",
            "max": 1000,
            "min": 0,
            "orientation": "horizontal",
            "style": "IPY_MODEL_8128844ee7db4f299811bf7179e362ae",
            "value": 1000
          }
        },
        "13f5fbff140e4ea38756422aa3b4c307": {
          "model_module": "@jupyter-widgets/controls",
          "model_name": "HTMLModel",
          "model_module_version": "1.5.0",
          "state": {
            "_dom_classes": [],
            "_model_module": "@jupyter-widgets/controls",
            "_model_module_version": "1.5.0",
            "_model_name": "HTMLModel",
            "_view_count": null,
            "_view_module": "@jupyter-widgets/controls",
            "_view_module_version": "1.5.0",
            "_view_name": "HTMLView",
            "description": "",
            "description_tooltip": null,
            "layout": "IPY_MODEL_d10ee223d6414581bdaec5ce52e4be3b",
            "placeholder": "​",
            "style": "IPY_MODEL_8c4a1176f6a14ae88be87d21a313dec3",
            "value": " 1000/1000 [06:40&lt;00:00,  2.51it/s]"
          }
        },
        "9441c22ef35b4bd78a1d477306c1f3b6": {
          "model_module": "@jupyter-widgets/base",
          "model_name": "LayoutModel",
          "model_module_version": "1.2.0",
          "state": {
            "_model_module": "@jupyter-widgets/base",
            "_model_module_version": "1.2.0",
            "_model_name": "LayoutModel",
            "_view_count": null,
            "_view_module": "@jupyter-widgets/base",
            "_view_module_version": "1.2.0",
            "_view_name": "LayoutView",
            "align_content": null,
            "align_items": null,
            "align_self": null,
            "border": null,
            "bottom": null,
            "display": null,
            "flex": null,
            "flex_flow": null,
            "grid_area": null,
            "grid_auto_columns": null,
            "grid_auto_flow": null,
            "grid_auto_rows": null,
            "grid_column": null,
            "grid_gap": null,
            "grid_row": null,
            "grid_template_areas": null,
            "grid_template_columns": null,
            "grid_template_rows": null,
            "height": null,
            "justify_content": null,
            "justify_items": null,
            "left": null,
            "margin": null,
            "max_height": null,
            "max_width": null,
            "min_height": null,
            "min_width": null,
            "object_fit": null,
            "object_position": null,
            "order": null,
            "overflow": null,
            "overflow_x": null,
            "overflow_y": null,
            "padding": null,
            "right": null,
            "top": null,
            "visibility": null,
            "width": null
          }
        },
        "27b5541f88164614b580ba351e375aa5": {
          "model_module": "@jupyter-widgets/base",
          "model_name": "LayoutModel",
          "model_module_version": "1.2.0",
          "state": {
            "_model_module": "@jupyter-widgets/base",
            "_model_module_version": "1.2.0",
            "_model_name": "LayoutModel",
            "_view_count": null,
            "_view_module": "@jupyter-widgets/base",
            "_view_module_version": "1.2.0",
            "_view_name": "LayoutView",
            "align_content": null,
            "align_items": null,
            "align_self": null,
            "border": null,
            "bottom": null,
            "display": null,
            "flex": null,
            "flex_flow": null,
            "grid_area": null,
            "grid_auto_columns": null,
            "grid_auto_flow": null,
            "grid_auto_rows": null,
            "grid_column": null,
            "grid_gap": null,
            "grid_row": null,
            "grid_template_areas": null,
            "grid_template_columns": null,
            "grid_template_rows": null,
            "height": null,
            "justify_content": null,
            "justify_items": null,
            "left": null,
            "margin": null,
            "max_height": null,
            "max_width": null,
            "min_height": null,
            "min_width": null,
            "object_fit": null,
            "object_position": null,
            "order": null,
            "overflow": null,
            "overflow_x": null,
            "overflow_y": null,
            "padding": null,
            "right": null,
            "top": null,
            "visibility": null,
            "width": null
          }
        },
        "7365f93ce5f542caa72c0f85745a06dc": {
          "model_module": "@jupyter-widgets/controls",
          "model_name": "DescriptionStyleModel",
          "model_module_version": "1.5.0",
          "state": {
            "_model_module": "@jupyter-widgets/controls",
            "_model_module_version": "1.5.0",
            "_model_name": "DescriptionStyleModel",
            "_view_count": null,
            "_view_module": "@jupyter-widgets/base",
            "_view_module_version": "1.2.0",
            "_view_name": "StyleView",
            "description_width": ""
          }
        },
        "fb4a7c2d80664855983f3a4d783d8953": {
          "model_module": "@jupyter-widgets/base",
          "model_name": "LayoutModel",
          "model_module_version": "1.2.0",
          "state": {
            "_model_module": "@jupyter-widgets/base",
            "_model_module_version": "1.2.0",
            "_model_name": "LayoutModel",
            "_view_count": null,
            "_view_module": "@jupyter-widgets/base",
            "_view_module_version": "1.2.0",
            "_view_name": "LayoutView",
            "align_content": null,
            "align_items": null,
            "align_self": null,
            "border": null,
            "bottom": null,
            "display": null,
            "flex": null,
            "flex_flow": null,
            "grid_area": null,
            "grid_auto_columns": null,
            "grid_auto_flow": null,
            "grid_auto_rows": null,
            "grid_column": null,
            "grid_gap": null,
            "grid_row": null,
            "grid_template_areas": null,
            "grid_template_columns": null,
            "grid_template_rows": null,
            "height": null,
            "justify_content": null,
            "justify_items": null,
            "left": null,
            "margin": null,
            "max_height": null,
            "max_width": null,
            "min_height": null,
            "min_width": null,
            "object_fit": null,
            "object_position": null,
            "order": null,
            "overflow": null,
            "overflow_x": null,
            "overflow_y": null,
            "padding": null,
            "right": null,
            "top": null,
            "visibility": null,
            "width": null
          }
        },
        "8128844ee7db4f299811bf7179e362ae": {
          "model_module": "@jupyter-widgets/controls",
          "model_name": "ProgressStyleModel",
          "model_module_version": "1.5.0",
          "state": {
            "_model_module": "@jupyter-widgets/controls",
            "_model_module_version": "1.5.0",
            "_model_name": "ProgressStyleModel",
            "_view_count": null,
            "_view_module": "@jupyter-widgets/base",
            "_view_module_version": "1.2.0",
            "_view_name": "StyleView",
            "bar_color": null,
            "description_width": ""
          }
        },
        "d10ee223d6414581bdaec5ce52e4be3b": {
          "model_module": "@jupyter-widgets/base",
          "model_name": "LayoutModel",
          "model_module_version": "1.2.0",
          "state": {
            "_model_module": "@jupyter-widgets/base",
            "_model_module_version": "1.2.0",
            "_model_name": "LayoutModel",
            "_view_count": null,
            "_view_module": "@jupyter-widgets/base",
            "_view_module_version": "1.2.0",
            "_view_name": "LayoutView",
            "align_content": null,
            "align_items": null,
            "align_self": null,
            "border": null,
            "bottom": null,
            "display": null,
            "flex": null,
            "flex_flow": null,
            "grid_area": null,
            "grid_auto_columns": null,
            "grid_auto_flow": null,
            "grid_auto_rows": null,
            "grid_column": null,
            "grid_gap": null,
            "grid_row": null,
            "grid_template_areas": null,
            "grid_template_columns": null,
            "grid_template_rows": null,
            "height": null,
            "justify_content": null,
            "justify_items": null,
            "left": null,
            "margin": null,
            "max_height": null,
            "max_width": null,
            "min_height": null,
            "min_width": null,
            "object_fit": null,
            "object_position": null,
            "order": null,
            "overflow": null,
            "overflow_x": null,
            "overflow_y": null,
            "padding": null,
            "right": null,
            "top": null,
            "visibility": null,
            "width": null
          }
        },
        "8c4a1176f6a14ae88be87d21a313dec3": {
          "model_module": "@jupyter-widgets/controls",
          "model_name": "DescriptionStyleModel",
          "model_module_version": "1.5.0",
          "state": {
            "_model_module": "@jupyter-widgets/controls",
            "_model_module_version": "1.5.0",
            "_model_name": "DescriptionStyleModel",
            "_view_count": null,
            "_view_module": "@jupyter-widgets/base",
            "_view_module_version": "1.2.0",
            "_view_name": "StyleView",
            "description_width": ""
          }
        },
        "34ff94b2590244a9aa3c2116df8807cc": {
          "model_module": "@jupyter-widgets/controls",
          "model_name": "HBoxModel",
          "model_module_version": "1.5.0",
          "state": {
            "_dom_classes": [],
            "_model_module": "@jupyter-widgets/controls",
            "_model_module_version": "1.5.0",
            "_model_name": "HBoxModel",
            "_view_count": null,
            "_view_module": "@jupyter-widgets/controls",
            "_view_module_version": "1.5.0",
            "_view_name": "HBoxView",
            "box_style": "",
            "children": [
              "IPY_MODEL_2262efaf71a14383891b9c40bb84c5a1",
              "IPY_MODEL_70b753968e604ec7b67949573b1cff15",
              "IPY_MODEL_554a32d68a5f435285508a27f5428471"
            ],
            "layout": "IPY_MODEL_e38abe122a384605b5cfd0e0f90a7e16"
          }
        },
        "2262efaf71a14383891b9c40bb84c5a1": {
          "model_module": "@jupyter-widgets/controls",
          "model_name": "HTMLModel",
          "model_module_version": "1.5.0",
          "state": {
            "_dom_classes": [],
            "_model_module": "@jupyter-widgets/controls",
            "_model_module_version": "1.5.0",
            "_model_name": "HTMLModel",
            "_view_count": null,
            "_view_module": "@jupyter-widgets/controls",
            "_view_module_version": "1.5.0",
            "_view_name": "HTMLView",
            "description": "",
            "description_tooltip": null,
            "layout": "IPY_MODEL_0574659fc58e40828d4933afced9d72d",
            "placeholder": "​",
            "style": "IPY_MODEL_c6300e594b01492e89494ab7cd92b254",
            "value": "sampling loop time step: 100%"
          }
        },
        "70b753968e604ec7b67949573b1cff15": {
          "model_module": "@jupyter-widgets/controls",
          "model_name": "FloatProgressModel",
          "model_module_version": "1.5.0",
          "state": {
            "_dom_classes": [],
            "_model_module": "@jupyter-widgets/controls",
            "_model_module_version": "1.5.0",
            "_model_name": "FloatProgressModel",
            "_view_count": null,
            "_view_module": "@jupyter-widgets/controls",
            "_view_module_version": "1.5.0",
            "_view_name": "ProgressView",
            "bar_style": "success",
            "description": "",
            "description_tooltip": null,
            "layout": "IPY_MODEL_b63f9ed36cc3454395ec8e96694f1287",
            "max": 1000,
            "min": 0,
            "orientation": "horizontal",
            "style": "IPY_MODEL_9a73b39a8943435eaa29c6b82b9a50f4",
            "value": 1000
          }
        },
        "554a32d68a5f435285508a27f5428471": {
          "model_module": "@jupyter-widgets/controls",
          "model_name": "HTMLModel",
          "model_module_version": "1.5.0",
          "state": {
            "_dom_classes": [],
            "_model_module": "@jupyter-widgets/controls",
            "_model_module_version": "1.5.0",
            "_model_name": "HTMLModel",
            "_view_count": null,
            "_view_module": "@jupyter-widgets/controls",
            "_view_module_version": "1.5.0",
            "_view_name": "HTMLView",
            "description": "",
            "description_tooltip": null,
            "layout": "IPY_MODEL_d2e33695c12d488cb11fb18448c34484",
            "placeholder": "​",
            "style": "IPY_MODEL_dfa0058cdc154d9d8943d87103e64782",
            "value": " 1000/1000 [05:43&lt;00:00,  2.91it/s]"
          }
        },
        "e38abe122a384605b5cfd0e0f90a7e16": {
          "model_module": "@jupyter-widgets/base",
          "model_name": "LayoutModel",
          "model_module_version": "1.2.0",
          "state": {
            "_model_module": "@jupyter-widgets/base",
            "_model_module_version": "1.2.0",
            "_model_name": "LayoutModel",
            "_view_count": null,
            "_view_module": "@jupyter-widgets/base",
            "_view_module_version": "1.2.0",
            "_view_name": "LayoutView",
            "align_content": null,
            "align_items": null,
            "align_self": null,
            "border": null,
            "bottom": null,
            "display": null,
            "flex": null,
            "flex_flow": null,
            "grid_area": null,
            "grid_auto_columns": null,
            "grid_auto_flow": null,
            "grid_auto_rows": null,
            "grid_column": null,
            "grid_gap": null,
            "grid_row": null,
            "grid_template_areas": null,
            "grid_template_columns": null,
            "grid_template_rows": null,
            "height": null,
            "justify_content": null,
            "justify_items": null,
            "left": null,
            "margin": null,
            "max_height": null,
            "max_width": null,
            "min_height": null,
            "min_width": null,
            "object_fit": null,
            "object_position": null,
            "order": null,
            "overflow": null,
            "overflow_x": null,
            "overflow_y": null,
            "padding": null,
            "right": null,
            "top": null,
            "visibility": null,
            "width": null
          }
        },
        "0574659fc58e40828d4933afced9d72d": {
          "model_module": "@jupyter-widgets/base",
          "model_name": "LayoutModel",
          "model_module_version": "1.2.0",
          "state": {
            "_model_module": "@jupyter-widgets/base",
            "_model_module_version": "1.2.0",
            "_model_name": "LayoutModel",
            "_view_count": null,
            "_view_module": "@jupyter-widgets/base",
            "_view_module_version": "1.2.0",
            "_view_name": "LayoutView",
            "align_content": null,
            "align_items": null,
            "align_self": null,
            "border": null,
            "bottom": null,
            "display": null,
            "flex": null,
            "flex_flow": null,
            "grid_area": null,
            "grid_auto_columns": null,
            "grid_auto_flow": null,
            "grid_auto_rows": null,
            "grid_column": null,
            "grid_gap": null,
            "grid_row": null,
            "grid_template_areas": null,
            "grid_template_columns": null,
            "grid_template_rows": null,
            "height": null,
            "justify_content": null,
            "justify_items": null,
            "left": null,
            "margin": null,
            "max_height": null,
            "max_width": null,
            "min_height": null,
            "min_width": null,
            "object_fit": null,
            "object_position": null,
            "order": null,
            "overflow": null,
            "overflow_x": null,
            "overflow_y": null,
            "padding": null,
            "right": null,
            "top": null,
            "visibility": null,
            "width": null
          }
        },
        "c6300e594b01492e89494ab7cd92b254": {
          "model_module": "@jupyter-widgets/controls",
          "model_name": "DescriptionStyleModel",
          "model_module_version": "1.5.0",
          "state": {
            "_model_module": "@jupyter-widgets/controls",
            "_model_module_version": "1.5.0",
            "_model_name": "DescriptionStyleModel",
            "_view_count": null,
            "_view_module": "@jupyter-widgets/base",
            "_view_module_version": "1.2.0",
            "_view_name": "StyleView",
            "description_width": ""
          }
        },
        "b63f9ed36cc3454395ec8e96694f1287": {
          "model_module": "@jupyter-widgets/base",
          "model_name": "LayoutModel",
          "model_module_version": "1.2.0",
          "state": {
            "_model_module": "@jupyter-widgets/base",
            "_model_module_version": "1.2.0",
            "_model_name": "LayoutModel",
            "_view_count": null,
            "_view_module": "@jupyter-widgets/base",
            "_view_module_version": "1.2.0",
            "_view_name": "LayoutView",
            "align_content": null,
            "align_items": null,
            "align_self": null,
            "border": null,
            "bottom": null,
            "display": null,
            "flex": null,
            "flex_flow": null,
            "grid_area": null,
            "grid_auto_columns": null,
            "grid_auto_flow": null,
            "grid_auto_rows": null,
            "grid_column": null,
            "grid_gap": null,
            "grid_row": null,
            "grid_template_areas": null,
            "grid_template_columns": null,
            "grid_template_rows": null,
            "height": null,
            "justify_content": null,
            "justify_items": null,
            "left": null,
            "margin": null,
            "max_height": null,
            "max_width": null,
            "min_height": null,
            "min_width": null,
            "object_fit": null,
            "object_position": null,
            "order": null,
            "overflow": null,
            "overflow_x": null,
            "overflow_y": null,
            "padding": null,
            "right": null,
            "top": null,
            "visibility": null,
            "width": null
          }
        },
        "9a73b39a8943435eaa29c6b82b9a50f4": {
          "model_module": "@jupyter-widgets/controls",
          "model_name": "ProgressStyleModel",
          "model_module_version": "1.5.0",
          "state": {
            "_model_module": "@jupyter-widgets/controls",
            "_model_module_version": "1.5.0",
            "_model_name": "ProgressStyleModel",
            "_view_count": null,
            "_view_module": "@jupyter-widgets/base",
            "_view_module_version": "1.2.0",
            "_view_name": "StyleView",
            "bar_color": null,
            "description_width": ""
          }
        },
        "d2e33695c12d488cb11fb18448c34484": {
          "model_module": "@jupyter-widgets/base",
          "model_name": "LayoutModel",
          "model_module_version": "1.2.0",
          "state": {
            "_model_module": "@jupyter-widgets/base",
            "_model_module_version": "1.2.0",
            "_model_name": "LayoutModel",
            "_view_count": null,
            "_view_module": "@jupyter-widgets/base",
            "_view_module_version": "1.2.0",
            "_view_name": "LayoutView",
            "align_content": null,
            "align_items": null,
            "align_self": null,
            "border": null,
            "bottom": null,
            "display": null,
            "flex": null,
            "flex_flow": null,
            "grid_area": null,
            "grid_auto_columns": null,
            "grid_auto_flow": null,
            "grid_auto_rows": null,
            "grid_column": null,
            "grid_gap": null,
            "grid_row": null,
            "grid_template_areas": null,
            "grid_template_columns": null,
            "grid_template_rows": null,
            "height": null,
            "justify_content": null,
            "justify_items": null,
            "left": null,
            "margin": null,
            "max_height": null,
            "max_width": null,
            "min_height": null,
            "min_width": null,
            "object_fit": null,
            "object_position": null,
            "order": null,
            "overflow": null,
            "overflow_x": null,
            "overflow_y": null,
            "padding": null,
            "right": null,
            "top": null,
            "visibility": null,
            "width": null
          }
        },
        "dfa0058cdc154d9d8943d87103e64782": {
          "model_module": "@jupyter-widgets/controls",
          "model_name": "DescriptionStyleModel",
          "model_module_version": "1.5.0",
          "state": {
            "_model_module": "@jupyter-widgets/controls",
            "_model_module_version": "1.5.0",
            "_model_name": "DescriptionStyleModel",
            "_view_count": null,
            "_view_module": "@jupyter-widgets/base",
            "_view_module_version": "1.2.0",
            "_view_name": "StyleView",
            "description_width": ""
          }
        },
        "b488c75391be4202b70d6022b0ee3104": {
          "model_module": "@jupyter-widgets/controls",
          "model_name": "HBoxModel",
          "model_module_version": "1.5.0",
          "state": {
            "_dom_classes": [],
            "_model_module": "@jupyter-widgets/controls",
            "_model_module_version": "1.5.0",
            "_model_name": "HBoxModel",
            "_view_count": null,
            "_view_module": "@jupyter-widgets/controls",
            "_view_module_version": "1.5.0",
            "_view_name": "HBoxView",
            "box_style": "",
            "children": [
              "IPY_MODEL_85b86e5a61f1463aad44097c75af7533",
              "IPY_MODEL_5be0bc275b884208b487623ef2d4fcb8",
              "IPY_MODEL_55cfc92263234b8589472a49747d4732"
            ],
            "layout": "IPY_MODEL_cd737467230347e29c873e77d5b0584b"
          }
        },
        "85b86e5a61f1463aad44097c75af7533": {
          "model_module": "@jupyter-widgets/controls",
          "model_name": "HTMLModel",
          "model_module_version": "1.5.0",
          "state": {
            "_dom_classes": [],
            "_model_module": "@jupyter-widgets/controls",
            "_model_module_version": "1.5.0",
            "_model_name": "HTMLModel",
            "_view_count": null,
            "_view_module": "@jupyter-widgets/controls",
            "_view_module_version": "1.5.0",
            "_view_name": "HTMLView",
            "description": "",
            "description_tooltip": null,
            "layout": "IPY_MODEL_35c2e6b390ce430f9e86b6e832b5addf",
            "placeholder": "​",
            "style": "IPY_MODEL_5271fde640eb4dbba5e8aa03ce0b1630",
            "value": "Downloading (…)lve/main/config.json: 100%"
          }
        },
        "5be0bc275b884208b487623ef2d4fcb8": {
          "model_module": "@jupyter-widgets/controls",
          "model_name": "FloatProgressModel",
          "model_module_version": "1.5.0",
          "state": {
            "_dom_classes": [],
            "_model_module": "@jupyter-widgets/controls",
            "_model_module_version": "1.5.0",
            "_model_name": "FloatProgressModel",
            "_view_count": null,
            "_view_module": "@jupyter-widgets/controls",
            "_view_module_version": "1.5.0",
            "_view_name": "ProgressView",
            "bar_style": "success",
            "description": "",
            "description_tooltip": null,
            "layout": "IPY_MODEL_5812f960f2c9402dafd283d833341f10",
            "max": 605,
            "min": 0,
            "orientation": "horizontal",
            "style": "IPY_MODEL_206d2b6f0d4e4bff83080c9b12be181d",
            "value": 605
          }
        },
        "55cfc92263234b8589472a49747d4732": {
          "model_module": "@jupyter-widgets/controls",
          "model_name": "HTMLModel",
          "model_module_version": "1.5.0",
          "state": {
            "_dom_classes": [],
            "_model_module": "@jupyter-widgets/controls",
            "_model_module_version": "1.5.0",
            "_model_name": "HTMLModel",
            "_view_count": null,
            "_view_module": "@jupyter-widgets/controls",
            "_view_module_version": "1.5.0",
            "_view_name": "HTMLView",
            "description": "",
            "description_tooltip": null,
            "layout": "IPY_MODEL_f26953538b7247bbaf63dbe292ecc8aa",
            "placeholder": "​",
            "style": "IPY_MODEL_7a47ee2114b840b4ba559ce173011923",
            "value": " 605/605 [00:00&lt;00:00, 19.4kB/s]"
          }
        },
        "cd737467230347e29c873e77d5b0584b": {
          "model_module": "@jupyter-widgets/base",
          "model_name": "LayoutModel",
          "model_module_version": "1.2.0",
          "state": {
            "_model_module": "@jupyter-widgets/base",
            "_model_module_version": "1.2.0",
            "_model_name": "LayoutModel",
            "_view_count": null,
            "_view_module": "@jupyter-widgets/base",
            "_view_module_version": "1.2.0",
            "_view_name": "LayoutView",
            "align_content": null,
            "align_items": null,
            "align_self": null,
            "border": null,
            "bottom": null,
            "display": null,
            "flex": null,
            "flex_flow": null,
            "grid_area": null,
            "grid_auto_columns": null,
            "grid_auto_flow": null,
            "grid_auto_rows": null,
            "grid_column": null,
            "grid_gap": null,
            "grid_row": null,
            "grid_template_areas": null,
            "grid_template_columns": null,
            "grid_template_rows": null,
            "height": null,
            "justify_content": null,
            "justify_items": null,
            "left": null,
            "margin": null,
            "max_height": null,
            "max_width": null,
            "min_height": null,
            "min_width": null,
            "object_fit": null,
            "object_position": null,
            "order": null,
            "overflow": null,
            "overflow_x": null,
            "overflow_y": null,
            "padding": null,
            "right": null,
            "top": null,
            "visibility": null,
            "width": null
          }
        },
        "35c2e6b390ce430f9e86b6e832b5addf": {
          "model_module": "@jupyter-widgets/base",
          "model_name": "LayoutModel",
          "model_module_version": "1.2.0",
          "state": {
            "_model_module": "@jupyter-widgets/base",
            "_model_module_version": "1.2.0",
            "_model_name": "LayoutModel",
            "_view_count": null,
            "_view_module": "@jupyter-widgets/base",
            "_view_module_version": "1.2.0",
            "_view_name": "LayoutView",
            "align_content": null,
            "align_items": null,
            "align_self": null,
            "border": null,
            "bottom": null,
            "display": null,
            "flex": null,
            "flex_flow": null,
            "grid_area": null,
            "grid_auto_columns": null,
            "grid_auto_flow": null,
            "grid_auto_rows": null,
            "grid_column": null,
            "grid_gap": null,
            "grid_row": null,
            "grid_template_areas": null,
            "grid_template_columns": null,
            "grid_template_rows": null,
            "height": null,
            "justify_content": null,
            "justify_items": null,
            "left": null,
            "margin": null,
            "max_height": null,
            "max_width": null,
            "min_height": null,
            "min_width": null,
            "object_fit": null,
            "object_position": null,
            "order": null,
            "overflow": null,
            "overflow_x": null,
            "overflow_y": null,
            "padding": null,
            "right": null,
            "top": null,
            "visibility": null,
            "width": null
          }
        },
        "5271fde640eb4dbba5e8aa03ce0b1630": {
          "model_module": "@jupyter-widgets/controls",
          "model_name": "DescriptionStyleModel",
          "model_module_version": "1.5.0",
          "state": {
            "_model_module": "@jupyter-widgets/controls",
            "_model_module_version": "1.5.0",
            "_model_name": "DescriptionStyleModel",
            "_view_count": null,
            "_view_module": "@jupyter-widgets/base",
            "_view_module_version": "1.2.0",
            "_view_name": "StyleView",
            "description_width": ""
          }
        },
        "5812f960f2c9402dafd283d833341f10": {
          "model_module": "@jupyter-widgets/base",
          "model_name": "LayoutModel",
          "model_module_version": "1.2.0",
          "state": {
            "_model_module": "@jupyter-widgets/base",
            "_model_module_version": "1.2.0",
            "_model_name": "LayoutModel",
            "_view_count": null,
            "_view_module": "@jupyter-widgets/base",
            "_view_module_version": "1.2.0",
            "_view_name": "LayoutView",
            "align_content": null,
            "align_items": null,
            "align_self": null,
            "border": null,
            "bottom": null,
            "display": null,
            "flex": null,
            "flex_flow": null,
            "grid_area": null,
            "grid_auto_columns": null,
            "grid_auto_flow": null,
            "grid_auto_rows": null,
            "grid_column": null,
            "grid_gap": null,
            "grid_row": null,
            "grid_template_areas": null,
            "grid_template_columns": null,
            "grid_template_rows": null,
            "height": null,
            "justify_content": null,
            "justify_items": null,
            "left": null,
            "margin": null,
            "max_height": null,
            "max_width": null,
            "min_height": null,
            "min_width": null,
            "object_fit": null,
            "object_position": null,
            "order": null,
            "overflow": null,
            "overflow_x": null,
            "overflow_y": null,
            "padding": null,
            "right": null,
            "top": null,
            "visibility": null,
            "width": null
          }
        },
        "206d2b6f0d4e4bff83080c9b12be181d": {
          "model_module": "@jupyter-widgets/controls",
          "model_name": "ProgressStyleModel",
          "model_module_version": "1.5.0",
          "state": {
            "_model_module": "@jupyter-widgets/controls",
            "_model_module_version": "1.5.0",
            "_model_name": "ProgressStyleModel",
            "_view_count": null,
            "_view_module": "@jupyter-widgets/base",
            "_view_module_version": "1.2.0",
            "_view_name": "StyleView",
            "bar_color": null,
            "description_width": ""
          }
        },
        "f26953538b7247bbaf63dbe292ecc8aa": {
          "model_module": "@jupyter-widgets/base",
          "model_name": "LayoutModel",
          "model_module_version": "1.2.0",
          "state": {
            "_model_module": "@jupyter-widgets/base",
            "_model_module_version": "1.2.0",
            "_model_name": "LayoutModel",
            "_view_count": null,
            "_view_module": "@jupyter-widgets/base",
            "_view_module_version": "1.2.0",
            "_view_name": "LayoutView",
            "align_content": null,
            "align_items": null,
            "align_self": null,
            "border": null,
            "bottom": null,
            "display": null,
            "flex": null,
            "flex_flow": null,
            "grid_area": null,
            "grid_auto_columns": null,
            "grid_auto_flow": null,
            "grid_auto_rows": null,
            "grid_column": null,
            "grid_gap": null,
            "grid_row": null,
            "grid_template_areas": null,
            "grid_template_columns": null,
            "grid_template_rows": null,
            "height": null,
            "justify_content": null,
            "justify_items": null,
            "left": null,
            "margin": null,
            "max_height": null,
            "max_width": null,
            "min_height": null,
            "min_width": null,
            "object_fit": null,
            "object_position": null,
            "order": null,
            "overflow": null,
            "overflow_x": null,
            "overflow_y": null,
            "padding": null,
            "right": null,
            "top": null,
            "visibility": null,
            "width": null
          }
        },
        "7a47ee2114b840b4ba559ce173011923": {
          "model_module": "@jupyter-widgets/controls",
          "model_name": "DescriptionStyleModel",
          "model_module_version": "1.5.0",
          "state": {
            "_model_module": "@jupyter-widgets/controls",
            "_model_module_version": "1.5.0",
            "_model_name": "DescriptionStyleModel",
            "_view_count": null,
            "_view_module": "@jupyter-widgets/base",
            "_view_module_version": "1.2.0",
            "_view_name": "StyleView",
            "description_width": ""
          }
        },
        "3c8b2a287601403e8082a831eb67293e": {
          "model_module": "@jupyter-widgets/controls",
          "model_name": "HBoxModel",
          "model_module_version": "1.5.0",
          "state": {
            "_dom_classes": [],
            "_model_module": "@jupyter-widgets/controls",
            "_model_module_version": "1.5.0",
            "_model_name": "HBoxModel",
            "_view_count": null,
            "_view_module": "@jupyter-widgets/controls",
            "_view_module_version": "1.5.0",
            "_view_name": "HBoxView",
            "box_style": "",
            "children": [
              "IPY_MODEL_1b8a2391f13e4f6c8e988fb07b9292bc",
              "IPY_MODEL_f98097e36ad9441d98d06012f6077027",
              "IPY_MODEL_c64c3bb208e640cea5962bfc2f44cfe1"
            ],
            "layout": "IPY_MODEL_a70ae5166716463b844ba98ed54fc986"
          }
        },
        "1b8a2391f13e4f6c8e988fb07b9292bc": {
          "model_module": "@jupyter-widgets/controls",
          "model_name": "HTMLModel",
          "model_module_version": "1.5.0",
          "state": {
            "_dom_classes": [],
            "_model_module": "@jupyter-widgets/controls",
            "_model_module_version": "1.5.0",
            "_model_name": "HTMLModel",
            "_view_count": null,
            "_view_module": "@jupyter-widgets/controls",
            "_view_module_version": "1.5.0",
            "_view_name": "HTMLView",
            "description": "",
            "description_tooltip": null,
            "layout": "IPY_MODEL_115296fd31934b98b1a08d7e4ccd277e",
            "placeholder": "​",
            "style": "IPY_MODEL_af8291444cd24100825fe748fa9a6cd2",
            "value": "Downloading (…)lve/main/config.json: 100%"
          }
        },
        "f98097e36ad9441d98d06012f6077027": {
          "model_module": "@jupyter-widgets/controls",
          "model_name": "FloatProgressModel",
          "model_module_version": "1.5.0",
          "state": {
            "_dom_classes": [],
            "_model_module": "@jupyter-widgets/controls",
            "_model_module_version": "1.5.0",
            "_model_name": "FloatProgressModel",
            "_view_count": null,
            "_view_module": "@jupyter-widgets/controls",
            "_view_module_version": "1.5.0",
            "_view_name": "ProgressView",
            "bar_style": "success",
            "description": "",
            "description_tooltip": null,
            "layout": "IPY_MODEL_2eb0568b6f4b4953a1a202d9bfd3d579",
            "max": 1209,
            "min": 0,
            "orientation": "horizontal",
            "style": "IPY_MODEL_804b3f88acc34deaa33080c4237e638f",
            "value": 1209
          }
        },
        "c64c3bb208e640cea5962bfc2f44cfe1": {
          "model_module": "@jupyter-widgets/controls",
          "model_name": "HTMLModel",
          "model_module_version": "1.5.0",
          "state": {
            "_dom_classes": [],
            "_model_module": "@jupyter-widgets/controls",
            "_model_module_version": "1.5.0",
            "_model_name": "HTMLModel",
            "_view_count": null,
            "_view_module": "@jupyter-widgets/controls",
            "_view_module_version": "1.5.0",
            "_view_name": "HTMLView",
            "description": "",
            "description_tooltip": null,
            "layout": "IPY_MODEL_81ec4c01132d44bcb7f75c2ec6ff4666",
            "placeholder": "​",
            "style": "IPY_MODEL_51f660ca9f1f44bdb3a36aaf7aff6d7c",
            "value": " 1.21k/1.21k [00:00&lt;00:00, 56.9kB/s]"
          }
        },
        "a70ae5166716463b844ba98ed54fc986": {
          "model_module": "@jupyter-widgets/base",
          "model_name": "LayoutModel",
          "model_module_version": "1.2.0",
          "state": {
            "_model_module": "@jupyter-widgets/base",
            "_model_module_version": "1.2.0",
            "_model_name": "LayoutModel",
            "_view_count": null,
            "_view_module": "@jupyter-widgets/base",
            "_view_module_version": "1.2.0",
            "_view_name": "LayoutView",
            "align_content": null,
            "align_items": null,
            "align_self": null,
            "border": null,
            "bottom": null,
            "display": null,
            "flex": null,
            "flex_flow": null,
            "grid_area": null,
            "grid_auto_columns": null,
            "grid_auto_flow": null,
            "grid_auto_rows": null,
            "grid_column": null,
            "grid_gap": null,
            "grid_row": null,
            "grid_template_areas": null,
            "grid_template_columns": null,
            "grid_template_rows": null,
            "height": null,
            "justify_content": null,
            "justify_items": null,
            "left": null,
            "margin": null,
            "max_height": null,
            "max_width": null,
            "min_height": null,
            "min_width": null,
            "object_fit": null,
            "object_position": null,
            "order": null,
            "overflow": null,
            "overflow_x": null,
            "overflow_y": null,
            "padding": null,
            "right": null,
            "top": null,
            "visibility": null,
            "width": null
          }
        },
        "115296fd31934b98b1a08d7e4ccd277e": {
          "model_module": "@jupyter-widgets/base",
          "model_name": "LayoutModel",
          "model_module_version": "1.2.0",
          "state": {
            "_model_module": "@jupyter-widgets/base",
            "_model_module_version": "1.2.0",
            "_model_name": "LayoutModel",
            "_view_count": null,
            "_view_module": "@jupyter-widgets/base",
            "_view_module_version": "1.2.0",
            "_view_name": "LayoutView",
            "align_content": null,
            "align_items": null,
            "align_self": null,
            "border": null,
            "bottom": null,
            "display": null,
            "flex": null,
            "flex_flow": null,
            "grid_area": null,
            "grid_auto_columns": null,
            "grid_auto_flow": null,
            "grid_auto_rows": null,
            "grid_column": null,
            "grid_gap": null,
            "grid_row": null,
            "grid_template_areas": null,
            "grid_template_columns": null,
            "grid_template_rows": null,
            "height": null,
            "justify_content": null,
            "justify_items": null,
            "left": null,
            "margin": null,
            "max_height": null,
            "max_width": null,
            "min_height": null,
            "min_width": null,
            "object_fit": null,
            "object_position": null,
            "order": null,
            "overflow": null,
            "overflow_x": null,
            "overflow_y": null,
            "padding": null,
            "right": null,
            "top": null,
            "visibility": null,
            "width": null
          }
        },
        "af8291444cd24100825fe748fa9a6cd2": {
          "model_module": "@jupyter-widgets/controls",
          "model_name": "DescriptionStyleModel",
          "model_module_version": "1.5.0",
          "state": {
            "_model_module": "@jupyter-widgets/controls",
            "_model_module_version": "1.5.0",
            "_model_name": "DescriptionStyleModel",
            "_view_count": null,
            "_view_module": "@jupyter-widgets/base",
            "_view_module_version": "1.2.0",
            "_view_name": "StyleView",
            "description_width": ""
          }
        },
        "2eb0568b6f4b4953a1a202d9bfd3d579": {
          "model_module": "@jupyter-widgets/base",
          "model_name": "LayoutModel",
          "model_module_version": "1.2.0",
          "state": {
            "_model_module": "@jupyter-widgets/base",
            "_model_module_version": "1.2.0",
            "_model_name": "LayoutModel",
            "_view_count": null,
            "_view_module": "@jupyter-widgets/base",
            "_view_module_version": "1.2.0",
            "_view_name": "LayoutView",
            "align_content": null,
            "align_items": null,
            "align_self": null,
            "border": null,
            "bottom": null,
            "display": null,
            "flex": null,
            "flex_flow": null,
            "grid_area": null,
            "grid_auto_columns": null,
            "grid_auto_flow": null,
            "grid_auto_rows": null,
            "grid_column": null,
            "grid_gap": null,
            "grid_row": null,
            "grid_template_areas": null,
            "grid_template_columns": null,
            "grid_template_rows": null,
            "height": null,
            "justify_content": null,
            "justify_items": null,
            "left": null,
            "margin": null,
            "max_height": null,
            "max_width": null,
            "min_height": null,
            "min_width": null,
            "object_fit": null,
            "object_position": null,
            "order": null,
            "overflow": null,
            "overflow_x": null,
            "overflow_y": null,
            "padding": null,
            "right": null,
            "top": null,
            "visibility": null,
            "width": null
          }
        },
        "804b3f88acc34deaa33080c4237e638f": {
          "model_module": "@jupyter-widgets/controls",
          "model_name": "ProgressStyleModel",
          "model_module_version": "1.5.0",
          "state": {
            "_model_module": "@jupyter-widgets/controls",
            "_model_module_version": "1.5.0",
            "_model_name": "ProgressStyleModel",
            "_view_count": null,
            "_view_module": "@jupyter-widgets/base",
            "_view_module_version": "1.2.0",
            "_view_name": "StyleView",
            "bar_color": null,
            "description_width": ""
          }
        },
        "81ec4c01132d44bcb7f75c2ec6ff4666": {
          "model_module": "@jupyter-widgets/base",
          "model_name": "LayoutModel",
          "model_module_version": "1.2.0",
          "state": {
            "_model_module": "@jupyter-widgets/base",
            "_model_module_version": "1.2.0",
            "_model_name": "LayoutModel",
            "_view_count": null,
            "_view_module": "@jupyter-widgets/base",
            "_view_module_version": "1.2.0",
            "_view_name": "LayoutView",
            "align_content": null,
            "align_items": null,
            "align_self": null,
            "border": null,
            "bottom": null,
            "display": null,
            "flex": null,
            "flex_flow": null,
            "grid_area": null,
            "grid_auto_columns": null,
            "grid_auto_flow": null,
            "grid_auto_rows": null,
            "grid_column": null,
            "grid_gap": null,
            "grid_row": null,
            "grid_template_areas": null,
            "grid_template_columns": null,
            "grid_template_rows": null,
            "height": null,
            "justify_content": null,
            "justify_items": null,
            "left": null,
            "margin": null,
            "max_height": null,
            "max_width": null,
            "min_height": null,
            "min_width": null,
            "object_fit": null,
            "object_position": null,
            "order": null,
            "overflow": null,
            "overflow_x": null,
            "overflow_y": null,
            "padding": null,
            "right": null,
            "top": null,
            "visibility": null,
            "width": null
          }
        },
        "51f660ca9f1f44bdb3a36aaf7aff6d7c": {
          "model_module": "@jupyter-widgets/controls",
          "model_name": "DescriptionStyleModel",
          "model_module_version": "1.5.0",
          "state": {
            "_model_module": "@jupyter-widgets/controls",
            "_model_module_version": "1.5.0",
            "_model_name": "DescriptionStyleModel",
            "_view_count": null,
            "_view_module": "@jupyter-widgets/base",
            "_view_module_version": "1.2.0",
            "_view_name": "StyleView",
            "description_width": ""
          }
        },
        "3c80ab83c84b41a696ef2c99fed5d03f": {
          "model_module": "@jupyter-widgets/controls",
          "model_name": "HBoxModel",
          "model_module_version": "1.5.0",
          "state": {
            "_dom_classes": [],
            "_model_module": "@jupyter-widgets/controls",
            "_model_module_version": "1.5.0",
            "_model_name": "HBoxModel",
            "_view_count": null,
            "_view_module": "@jupyter-widgets/controls",
            "_view_module_version": "1.5.0",
            "_view_name": "HBoxView",
            "box_style": "",
            "children": [
              "IPY_MODEL_5b1003d71f334100b8789ece7452713b",
              "IPY_MODEL_ac55dddbe34148bd91ac897c9e0a7c45",
              "IPY_MODEL_92396284bcf74f6db9d1391e22085f6d"
            ],
            "layout": "IPY_MODEL_3352b3c431d546d5b66e20cde07b4cb3"
          }
        },
        "5b1003d71f334100b8789ece7452713b": {
          "model_module": "@jupyter-widgets/controls",
          "model_name": "HTMLModel",
          "model_module_version": "1.5.0",
          "state": {
            "_dom_classes": [],
            "_model_module": "@jupyter-widgets/controls",
            "_model_module_version": "1.5.0",
            "_model_name": "HTMLModel",
            "_view_count": null,
            "_view_module": "@jupyter-widgets/controls",
            "_view_module_version": "1.5.0",
            "_view_name": "HTMLView",
            "description": "",
            "description_tooltip": null,
            "layout": "IPY_MODEL_1c0012154860427bb774001a2e5f85bf",
            "placeholder": "​",
            "style": "IPY_MODEL_90c31bb86ff04e6eb9a8bd5988f52144",
            "value": "Downloading (…)&quot;pytorch_model.bin&quot;;: 100%"
          }
        },
        "ac55dddbe34148bd91ac897c9e0a7c45": {
          "model_module": "@jupyter-widgets/controls",
          "model_name": "FloatProgressModel",
          "model_module_version": "1.5.0",
          "state": {
            "_dom_classes": [],
            "_model_module": "@jupyter-widgets/controls",
            "_model_module_version": "1.5.0",
            "_model_name": "FloatProgressModel",
            "_view_count": null,
            "_view_module": "@jupyter-widgets/controls",
            "_view_module_version": "1.5.0",
            "_view_name": "ProgressView",
            "bar_style": "success",
            "description": "",
            "description_tooltip": null,
            "layout": "IPY_MODEL_96f654cf196d47cf824e150ba98ebdef",
            "max": 2950825948,
            "min": 0,
            "orientation": "horizontal",
            "style": "IPY_MODEL_1b0f00fef472456f8016ad1a241a8d6a",
            "value": 2950825948
          }
        },
        "92396284bcf74f6db9d1391e22085f6d": {
          "model_module": "@jupyter-widgets/controls",
          "model_name": "HTMLModel",
          "model_module_version": "1.5.0",
          "state": {
            "_dom_classes": [],
            "_model_module": "@jupyter-widgets/controls",
            "_model_module_version": "1.5.0",
            "_model_name": "HTMLModel",
            "_view_count": null,
            "_view_module": "@jupyter-widgets/controls",
            "_view_module_version": "1.5.0",
            "_view_name": "HTMLView",
            "description": "",
            "description_tooltip": null,
            "layout": "IPY_MODEL_59d3d6c3fbba425a89c73b909f374ed2",
            "placeholder": "​",
            "style": "IPY_MODEL_324fecd4457942a0a78ce35e7963229e",
            "value": " 2.95G/2.95G [00:45&lt;00:00, 47.1MB/s]"
          }
        },
        "3352b3c431d546d5b66e20cde07b4cb3": {
          "model_module": "@jupyter-widgets/base",
          "model_name": "LayoutModel",
          "model_module_version": "1.2.0",
          "state": {
            "_model_module": "@jupyter-widgets/base",
            "_model_module_version": "1.2.0",
            "_model_name": "LayoutModel",
            "_view_count": null,
            "_view_module": "@jupyter-widgets/base",
            "_view_module_version": "1.2.0",
            "_view_name": "LayoutView",
            "align_content": null,
            "align_items": null,
            "align_self": null,
            "border": null,
            "bottom": null,
            "display": null,
            "flex": null,
            "flex_flow": null,
            "grid_area": null,
            "grid_auto_columns": null,
            "grid_auto_flow": null,
            "grid_auto_rows": null,
            "grid_column": null,
            "grid_gap": null,
            "grid_row": null,
            "grid_template_areas": null,
            "grid_template_columns": null,
            "grid_template_rows": null,
            "height": null,
            "justify_content": null,
            "justify_items": null,
            "left": null,
            "margin": null,
            "max_height": null,
            "max_width": null,
            "min_height": null,
            "min_width": null,
            "object_fit": null,
            "object_position": null,
            "order": null,
            "overflow": null,
            "overflow_x": null,
            "overflow_y": null,
            "padding": null,
            "right": null,
            "top": null,
            "visibility": null,
            "width": null
          }
        },
        "1c0012154860427bb774001a2e5f85bf": {
          "model_module": "@jupyter-widgets/base",
          "model_name": "LayoutModel",
          "model_module_version": "1.2.0",
          "state": {
            "_model_module": "@jupyter-widgets/base",
            "_model_module_version": "1.2.0",
            "_model_name": "LayoutModel",
            "_view_count": null,
            "_view_module": "@jupyter-widgets/base",
            "_view_module_version": "1.2.0",
            "_view_name": "LayoutView",
            "align_content": null,
            "align_items": null,
            "align_self": null,
            "border": null,
            "bottom": null,
            "display": null,
            "flex": null,
            "flex_flow": null,
            "grid_area": null,
            "grid_auto_columns": null,
            "grid_auto_flow": null,
            "grid_auto_rows": null,
            "grid_column": null,
            "grid_gap": null,
            "grid_row": null,
            "grid_template_areas": null,
            "grid_template_columns": null,
            "grid_template_rows": null,
            "height": null,
            "justify_content": null,
            "justify_items": null,
            "left": null,
            "margin": null,
            "max_height": null,
            "max_width": null,
            "min_height": null,
            "min_width": null,
            "object_fit": null,
            "object_position": null,
            "order": null,
            "overflow": null,
            "overflow_x": null,
            "overflow_y": null,
            "padding": null,
            "right": null,
            "top": null,
            "visibility": null,
            "width": null
          }
        },
        "90c31bb86ff04e6eb9a8bd5988f52144": {
          "model_module": "@jupyter-widgets/controls",
          "model_name": "DescriptionStyleModel",
          "model_module_version": "1.5.0",
          "state": {
            "_model_module": "@jupyter-widgets/controls",
            "_model_module_version": "1.5.0",
            "_model_name": "DescriptionStyleModel",
            "_view_count": null,
            "_view_module": "@jupyter-widgets/base",
            "_view_module_version": "1.2.0",
            "_view_name": "StyleView",
            "description_width": ""
          }
        },
        "96f654cf196d47cf824e150ba98ebdef": {
          "model_module": "@jupyter-widgets/base",
          "model_name": "LayoutModel",
          "model_module_version": "1.2.0",
          "state": {
            "_model_module": "@jupyter-widgets/base",
            "_model_module_version": "1.2.0",
            "_model_name": "LayoutModel",
            "_view_count": null,
            "_view_module": "@jupyter-widgets/base",
            "_view_module_version": "1.2.0",
            "_view_name": "LayoutView",
            "align_content": null,
            "align_items": null,
            "align_self": null,
            "border": null,
            "bottom": null,
            "display": null,
            "flex": null,
            "flex_flow": null,
            "grid_area": null,
            "grid_auto_columns": null,
            "grid_auto_flow": null,
            "grid_auto_rows": null,
            "grid_column": null,
            "grid_gap": null,
            "grid_row": null,
            "grid_template_areas": null,
            "grid_template_columns": null,
            "grid_template_rows": null,
            "height": null,
            "justify_content": null,
            "justify_items": null,
            "left": null,
            "margin": null,
            "max_height": null,
            "max_width": null,
            "min_height": null,
            "min_width": null,
            "object_fit": null,
            "object_position": null,
            "order": null,
            "overflow": null,
            "overflow_x": null,
            "overflow_y": null,
            "padding": null,
            "right": null,
            "top": null,
            "visibility": null,
            "width": null
          }
        },
        "1b0f00fef472456f8016ad1a241a8d6a": {
          "model_module": "@jupyter-widgets/controls",
          "model_name": "ProgressStyleModel",
          "model_module_version": "1.5.0",
          "state": {
            "_model_module": "@jupyter-widgets/controls",
            "_model_module_version": "1.5.0",
            "_model_name": "ProgressStyleModel",
            "_view_count": null,
            "_view_module": "@jupyter-widgets/base",
            "_view_module_version": "1.2.0",
            "_view_name": "StyleView",
            "bar_color": null,
            "description_width": ""
          }
        },
        "59d3d6c3fbba425a89c73b909f374ed2": {
          "model_module": "@jupyter-widgets/base",
          "model_name": "LayoutModel",
          "model_module_version": "1.2.0",
          "state": {
            "_model_module": "@jupyter-widgets/base",
            "_model_module_version": "1.2.0",
            "_model_name": "LayoutModel",
            "_view_count": null,
            "_view_module": "@jupyter-widgets/base",
            "_view_module_version": "1.2.0",
            "_view_name": "LayoutView",
            "align_content": null,
            "align_items": null,
            "align_self": null,
            "border": null,
            "bottom": null,
            "display": null,
            "flex": null,
            "flex_flow": null,
            "grid_area": null,
            "grid_auto_columns": null,
            "grid_auto_flow": null,
            "grid_auto_rows": null,
            "grid_column": null,
            "grid_gap": null,
            "grid_row": null,
            "grid_template_areas": null,
            "grid_template_columns": null,
            "grid_template_rows": null,
            "height": null,
            "justify_content": null,
            "justify_items": null,
            "left": null,
            "margin": null,
            "max_height": null,
            "max_width": null,
            "min_height": null,
            "min_width": null,
            "object_fit": null,
            "object_position": null,
            "order": null,
            "overflow": null,
            "overflow_x": null,
            "overflow_y": null,
            "padding": null,
            "right": null,
            "top": null,
            "visibility": null,
            "width": null
          }
        },
        "324fecd4457942a0a78ce35e7963229e": {
          "model_module": "@jupyter-widgets/controls",
          "model_name": "DescriptionStyleModel",
          "model_module_version": "1.5.0",
          "state": {
            "_model_module": "@jupyter-widgets/controls",
            "_model_module_version": "1.5.0",
            "_model_name": "DescriptionStyleModel",
            "_view_count": null,
            "_view_module": "@jupyter-widgets/base",
            "_view_module_version": "1.2.0",
            "_view_name": "StyleView",
            "description_width": ""
          }
        },
        "4bf11b299ec541a6b9df1f66cf41b222": {
          "model_module": "@jupyter-widgets/controls",
          "model_name": "HBoxModel",
          "model_module_version": "1.5.0",
          "state": {
            "_dom_classes": [],
            "_model_module": "@jupyter-widgets/controls",
            "_model_module_version": "1.5.0",
            "_model_name": "HBoxModel",
            "_view_count": null,
            "_view_module": "@jupyter-widgets/controls",
            "_view_module_version": "1.5.0",
            "_view_name": "HBoxView",
            "box_style": "",
            "children": [
              "IPY_MODEL_d58795b5895047079ce909d73aceced6",
              "IPY_MODEL_738d2f810d014718903200386f66bdab",
              "IPY_MODEL_0930c530ee6f42789b531c00fbd89781"
            ],
            "layout": "IPY_MODEL_61bff237373c4eaa81f3ce14becebf9f"
          }
        },
        "d58795b5895047079ce909d73aceced6": {
          "model_module": "@jupyter-widgets/controls",
          "model_name": "HTMLModel",
          "model_module_version": "1.5.0",
          "state": {
            "_dom_classes": [],
            "_model_module": "@jupyter-widgets/controls",
            "_model_module_version": "1.5.0",
            "_model_name": "HTMLModel",
            "_view_count": null,
            "_view_module": "@jupyter-widgets/controls",
            "_view_module_version": "1.5.0",
            "_view_name": "HTMLView",
            "description": "",
            "description_tooltip": null,
            "layout": "IPY_MODEL_33cd46a7bffc482d909e7a8200ab2590",
            "placeholder": "​",
            "style": "IPY_MODEL_3f5343e5a5cc463c9034ddc4a76cd639",
            "value": "Downloading (…)ve/main/spiece.model: 100%"
          }
        },
        "738d2f810d014718903200386f66bdab": {
          "model_module": "@jupyter-widgets/controls",
          "model_name": "FloatProgressModel",
          "model_module_version": "1.5.0",
          "state": {
            "_dom_classes": [],
            "_model_module": "@jupyter-widgets/controls",
            "_model_module_version": "1.5.0",
            "_model_name": "FloatProgressModel",
            "_view_count": null,
            "_view_module": "@jupyter-widgets/controls",
            "_view_module_version": "1.5.0",
            "_view_name": "ProgressView",
            "bar_style": "success",
            "description": "",
            "description_tooltip": null,
            "layout": "IPY_MODEL_86affb1ae281438cab9ac22d8e3d287d",
            "max": 791656,
            "min": 0,
            "orientation": "horizontal",
            "style": "IPY_MODEL_c7531bac65d74119a2ebe5948694c915",
            "value": 791656
          }
        },
        "0930c530ee6f42789b531c00fbd89781": {
          "model_module": "@jupyter-widgets/controls",
          "model_name": "HTMLModel",
          "model_module_version": "1.5.0",
          "state": {
            "_dom_classes": [],
            "_model_module": "@jupyter-widgets/controls",
            "_model_module_version": "1.5.0",
            "_model_name": "HTMLModel",
            "_view_count": null,
            "_view_module": "@jupyter-widgets/controls",
            "_view_module_version": "1.5.0",
            "_view_name": "HTMLView",
            "description": "",
            "description_tooltip": null,
            "layout": "IPY_MODEL_52974f5fc1964b70ab9c18d1e5f318fe",
            "placeholder": "​",
            "style": "IPY_MODEL_6d3c3f9b8ce54567a5de19dfc1a44de3",
            "value": " 792k/792k [00:01&lt;00:00, 596kB/s]"
          }
        },
        "61bff237373c4eaa81f3ce14becebf9f": {
          "model_module": "@jupyter-widgets/base",
          "model_name": "LayoutModel",
          "model_module_version": "1.2.0",
          "state": {
            "_model_module": "@jupyter-widgets/base",
            "_model_module_version": "1.2.0",
            "_model_name": "LayoutModel",
            "_view_count": null,
            "_view_module": "@jupyter-widgets/base",
            "_view_module_version": "1.2.0",
            "_view_name": "LayoutView",
            "align_content": null,
            "align_items": null,
            "align_self": null,
            "border": null,
            "bottom": null,
            "display": null,
            "flex": null,
            "flex_flow": null,
            "grid_area": null,
            "grid_auto_columns": null,
            "grid_auto_flow": null,
            "grid_auto_rows": null,
            "grid_column": null,
            "grid_gap": null,
            "grid_row": null,
            "grid_template_areas": null,
            "grid_template_columns": null,
            "grid_template_rows": null,
            "height": null,
            "justify_content": null,
            "justify_items": null,
            "left": null,
            "margin": null,
            "max_height": null,
            "max_width": null,
            "min_height": null,
            "min_width": null,
            "object_fit": null,
            "object_position": null,
            "order": null,
            "overflow": null,
            "overflow_x": null,
            "overflow_y": null,
            "padding": null,
            "right": null,
            "top": null,
            "visibility": null,
            "width": null
          }
        },
        "33cd46a7bffc482d909e7a8200ab2590": {
          "model_module": "@jupyter-widgets/base",
          "model_name": "LayoutModel",
          "model_module_version": "1.2.0",
          "state": {
            "_model_module": "@jupyter-widgets/base",
            "_model_module_version": "1.2.0",
            "_model_name": "LayoutModel",
            "_view_count": null,
            "_view_module": "@jupyter-widgets/base",
            "_view_module_version": "1.2.0",
            "_view_name": "LayoutView",
            "align_content": null,
            "align_items": null,
            "align_self": null,
            "border": null,
            "bottom": null,
            "display": null,
            "flex": null,
            "flex_flow": null,
            "grid_area": null,
            "grid_auto_columns": null,
            "grid_auto_flow": null,
            "grid_auto_rows": null,
            "grid_column": null,
            "grid_gap": null,
            "grid_row": null,
            "grid_template_areas": null,
            "grid_template_columns": null,
            "grid_template_rows": null,
            "height": null,
            "justify_content": null,
            "justify_items": null,
            "left": null,
            "margin": null,
            "max_height": null,
            "max_width": null,
            "min_height": null,
            "min_width": null,
            "object_fit": null,
            "object_position": null,
            "order": null,
            "overflow": null,
            "overflow_x": null,
            "overflow_y": null,
            "padding": null,
            "right": null,
            "top": null,
            "visibility": null,
            "width": null
          }
        },
        "3f5343e5a5cc463c9034ddc4a76cd639": {
          "model_module": "@jupyter-widgets/controls",
          "model_name": "DescriptionStyleModel",
          "model_module_version": "1.5.0",
          "state": {
            "_model_module": "@jupyter-widgets/controls",
            "_model_module_version": "1.5.0",
            "_model_name": "DescriptionStyleModel",
            "_view_count": null,
            "_view_module": "@jupyter-widgets/base",
            "_view_module_version": "1.2.0",
            "_view_name": "StyleView",
            "description_width": ""
          }
        },
        "86affb1ae281438cab9ac22d8e3d287d": {
          "model_module": "@jupyter-widgets/base",
          "model_name": "LayoutModel",
          "model_module_version": "1.2.0",
          "state": {
            "_model_module": "@jupyter-widgets/base",
            "_model_module_version": "1.2.0",
            "_model_name": "LayoutModel",
            "_view_count": null,
            "_view_module": "@jupyter-widgets/base",
            "_view_module_version": "1.2.0",
            "_view_name": "LayoutView",
            "align_content": null,
            "align_items": null,
            "align_self": null,
            "border": null,
            "bottom": null,
            "display": null,
            "flex": null,
            "flex_flow": null,
            "grid_area": null,
            "grid_auto_columns": null,
            "grid_auto_flow": null,
            "grid_auto_rows": null,
            "grid_column": null,
            "grid_gap": null,
            "grid_row": null,
            "grid_template_areas": null,
            "grid_template_columns": null,
            "grid_template_rows": null,
            "height": null,
            "justify_content": null,
            "justify_items": null,
            "left": null,
            "margin": null,
            "max_height": null,
            "max_width": null,
            "min_height": null,
            "min_width": null,
            "object_fit": null,
            "object_position": null,
            "order": null,
            "overflow": null,
            "overflow_x": null,
            "overflow_y": null,
            "padding": null,
            "right": null,
            "top": null,
            "visibility": null,
            "width": null
          }
        },
        "c7531bac65d74119a2ebe5948694c915": {
          "model_module": "@jupyter-widgets/controls",
          "model_name": "ProgressStyleModel",
          "model_module_version": "1.5.0",
          "state": {
            "_model_module": "@jupyter-widgets/controls",
            "_model_module_version": "1.5.0",
            "_model_name": "ProgressStyleModel",
            "_view_count": null,
            "_view_module": "@jupyter-widgets/base",
            "_view_module_version": "1.2.0",
            "_view_name": "StyleView",
            "bar_color": null,
            "description_width": ""
          }
        },
        "52974f5fc1964b70ab9c18d1e5f318fe": {
          "model_module": "@jupyter-widgets/base",
          "model_name": "LayoutModel",
          "model_module_version": "1.2.0",
          "state": {
            "_model_module": "@jupyter-widgets/base",
            "_model_module_version": "1.2.0",
            "_model_name": "LayoutModel",
            "_view_count": null,
            "_view_module": "@jupyter-widgets/base",
            "_view_module_version": "1.2.0",
            "_view_name": "LayoutView",
            "align_content": null,
            "align_items": null,
            "align_self": null,
            "border": null,
            "bottom": null,
            "display": null,
            "flex": null,
            "flex_flow": null,
            "grid_area": null,
            "grid_auto_columns": null,
            "grid_auto_flow": null,
            "grid_auto_rows": null,
            "grid_column": null,
            "grid_gap": null,
            "grid_row": null,
            "grid_template_areas": null,
            "grid_template_columns": null,
            "grid_template_rows": null,
            "height": null,
            "justify_content": null,
            "justify_items": null,
            "left": null,
            "margin": null,
            "max_height": null,
            "max_width": null,
            "min_height": null,
            "min_width": null,
            "object_fit": null,
            "object_position": null,
            "order": null,
            "overflow": null,
            "overflow_x": null,
            "overflow_y": null,
            "padding": null,
            "right": null,
            "top": null,
            "visibility": null,
            "width": null
          }
        },
        "6d3c3f9b8ce54567a5de19dfc1a44de3": {
          "model_module": "@jupyter-widgets/controls",
          "model_name": "DescriptionStyleModel",
          "model_module_version": "1.5.0",
          "state": {
            "_model_module": "@jupyter-widgets/controls",
            "_model_module_version": "1.5.0",
            "_model_name": "DescriptionStyleModel",
            "_view_count": null,
            "_view_module": "@jupyter-widgets/base",
            "_view_module_version": "1.2.0",
            "_view_name": "StyleView",
            "description_width": ""
          }
        }
      }
    }
  },
  "cells": [
    {
      "cell_type": "markdown",
      "metadata": {
        "id": "view-in-github",
        "colab_type": "text"
      },
      "source": [
        "<a href=\"https://colab.research.google.com/github/alif-munim/AR-Examples/blob/master/imagen_text2image.ipynb\" target=\"_parent\"><img src=\"https://colab.research.google.com/assets/colab-badge.svg\" alt=\"Open In Colab\"/></a>"
      ]
    },
    {
      "cell_type": "code",
      "source": [
        "# ! pip install huggingface huggingface_hub"
      ],
      "metadata": {
        "id": "MLgZtMpyj4CF"
      },
      "execution_count": null,
      "outputs": []
    },
    {
      "cell_type": "code",
      "source": [
        "! pip install tokenizers sentencepiece sacremoses"
      ],
      "metadata": {
        "id": "dlRzHfSoj68_"
      },
      "execution_count": null,
      "outputs": []
    },
    {
      "cell_type": "code",
      "source": [
        "# ! pip install video_diffusion_pytorch"
      ],
      "metadata": {
        "id": "vcq9e-f1OeTI"
      },
      "execution_count": null,
      "outputs": []
    },
    {
      "cell_type": "code",
      "source": [
        "! pip install --upgrade imageio"
      ],
      "metadata": {
        "id": "JINkU62PqjcP"
      },
      "execution_count": null,
      "outputs": []
    },
    {
      "cell_type": "code",
      "source": [
        "! pip install imageio[pyav]"
      ],
      "metadata": {
        "id": "NAGioIH8_JKX"
      },
      "execution_count": null,
      "outputs": []
    },
    {
      "cell_type": "code",
      "source": [
        "! pip install imagen-pytorch"
      ],
      "metadata": {
        "id": "nnQXNJSfpg1i"
      },
      "execution_count": null,
      "outputs": []
    },
    {
      "cell_type": "code",
      "source": [
        "! nvidia-smi"
      ],
      "metadata": {
        "id": "jwXgFIMEpg3i",
        "colab": {
          "base_uri": "https://localhost:8080/"
        },
        "outputId": "31142fd2-063a-45cc-8bfc-393e8bdfd26b"
      },
      "execution_count": null,
      "outputs": [
        {
          "output_type": "stream",
          "name": "stdout",
          "text": [
            "Fri Feb  3 20:18:55 2023       \n",
            "+-----------------------------------------------------------------------------+\n",
            "| NVIDIA-SMI 510.47.03    Driver Version: 510.47.03    CUDA Version: 11.6     |\n",
            "|-------------------------------+----------------------+----------------------+\n",
            "| GPU  Name        Persistence-M| Bus-Id        Disp.A | Volatile Uncorr. ECC |\n",
            "| Fan  Temp  Perf  Pwr:Usage/Cap|         Memory-Usage | GPU-Util  Compute M. |\n",
            "|                               |                      |               MIG M. |\n",
            "|===============================+======================+======================|\n",
            "|   0  Tesla T4            Off  | 00000000:00:04.0 Off |                    0 |\n",
            "| N/A   62C    P0    28W /  70W |      0MiB / 15360MiB |      0%      Default |\n",
            "|                               |                      |                  N/A |\n",
            "+-------------------------------+----------------------+----------------------+\n",
            "                                                                               \n",
            "+-----------------------------------------------------------------------------+\n",
            "| Processes:                                                                  |\n",
            "|  GPU   GI   CI        PID   Type   Process name                  GPU Memory |\n",
            "|        ID   ID                                                   Usage      |\n",
            "|=============================================================================|\n",
            "|  No running processes found                                                 |\n",
            "+-----------------------------------------------------------------------------+\n"
          ]
        }
      ]
    },
    {
      "cell_type": "code",
      "source": [],
      "metadata": {
        "id": "c2iFvNoXq-TF"
      },
      "execution_count": null,
      "outputs": []
    },
    {
      "cell_type": "code",
      "source": [
        "# trainer.save('./path/to/checkpoint.pt')\n",
        "# trainer.load('./path/to/checkpoint.pt')"
      ],
      "metadata": {
        "id": "LqTfp1yHqSW2"
      },
      "execution_count": null,
      "outputs": []
    },
    {
      "cell_type": "code",
      "source": [
        "import imageio.v3 as iio\n",
        "import numpy as np \n",
        "import os\n",
        "import torch\n",
        "from PIL import Image"
      ],
      "metadata": {
        "id": "bxT0d0J9hr49"
      },
      "execution_count": null,
      "outputs": []
    },
    {
      "cell_type": "code",
      "source": [
        "with open('/content/gif_descriptions.txt') as f:\n",
        "    lines = f.read().splitlines() "
      ],
      "metadata": {
        "id": "V4tKzD-WZdNM"
      },
      "execution_count": null,
      "outputs": []
    },
    {
      "cell_type": "code",
      "source": [
        "f = []\n",
        "gifs = []\n",
        "\n",
        "for (dirpath, dirnames, filenames) in os.walk('/content/gifs'):\n",
        "    f.extend(filenames)\n",
        "    break\n",
        "\n",
        "for filename in f:\n",
        "    gifs.append(int(os.path.splitext(filename)[0]))\n",
        "    \n",
        "gifs = sorted(gifs)"
      ],
      "metadata": {
        "id": "jZujPumfa88q"
      },
      "execution_count": null,
      "outputs": []
    },
    {
      "cell_type": "code",
      "source": [
        "# Sometimes iio throws an error; just run the cell again\n",
        "# Otherwise, pip install --upgrade imageio\n",
        "\n",
        "# If you get pillow errors, restart the runtime\n",
        "count = 0\n",
        "gif_tensors = []\n",
        "gif_descriptions = []\n",
        "\n",
        "for gif in gifs:\n",
        "    im_path = '/content/gifs/' + str(gif) + '.gif'\n",
        "\n",
        "    im = iio.imread(im_path, index=None)\n",
        "    gif_arr = np.asarray([im])\n",
        "    gif_arr = np.moveaxis(gif_arr, -1, 1)\n",
        "    gif_tensor = torch.from_numpy(gif_arr)\n",
        "    gif_tensor = gif_tensor.type(torch.float32)\n",
        "    gif_tensor = gif_tensor.to(device=\"cuda\")\n",
        "\n",
        "    # print(gif_tensor.shape)\n",
        "\n",
        "    gif_desc = [lines[count]]\n",
        "    count += 1\n",
        "\n",
        "    gif_tensors.append(gif_tensor)\n",
        "    gif_descriptions.append(gif_desc)"
      ],
      "metadata": {
        "id": "D7d8xyHlf6y1"
      },
      "execution_count": null,
      "outputs": []
    },
    {
      "cell_type": "code",
      "source": [
        "# for img in gifs:\n",
        "#   im_path = '/content/gifs/' + str(gif) + '.gif'\n",
        "#   im = iio.imread(im_path, index=None)\n",
        "#   im = Image.fromarray(im[0])\n",
        "\n",
        "#   img_arr = np.array(img_descriptions)"
      ],
      "metadata": {
        "id": "APVX2eI93u7U"
      },
      "execution_count": null,
      "outputs": []
    },
    {
      "cell_type": "code",
      "source": [
        "count = 0\n",
        "img_tensors = []\n",
        "img_descriptions = []\n",
        "\n",
        "for img in gifs:\n",
        "  im_path = '/content/gifs/' + str(gif) + '.gif'\n",
        "  im = iio.imread(im_path, index=None)\n",
        "  im = Image.fromarray(im[0])\n",
        "\n",
        "  img_arr = np.array(im)\n",
        "  img_tensor = torch.from_numpy(img_arr)\n",
        "\n",
        "  img_tensor = img_tensor.type(torch.float32)\n",
        "  img_tensor = img_tensor.to(device=\"cuda\")\n",
        "\n",
        "  img_desc = [lines[count]]\n",
        "  count += 1\n",
        "\n",
        "  img_tensors.append(img_tensor)\n",
        "  img_descriptions.append(img_desc)"
      ],
      "metadata": {
        "id": "7Nmc2l3712Tf"
      },
      "execution_count": null,
      "outputs": []
    },
    {
      "cell_type": "code",
      "source": [
        "x = img_tensors[0].cpu().detach().numpy()\n",
        "x = x.astype(np.uint8)"
      ],
      "metadata": {
        "id": "wqSQ-Htl4FyH"
      },
      "execution_count": null,
      "outputs": []
    },
    {
      "cell_type": "code",
      "source": [
        "from matplotlib.pyplot import imshow\n",
        "imshow(x)"
      ],
      "metadata": {
        "colab": {
          "base_uri": "https://localhost:8080/",
          "height": 286
        },
        "id": "k5XaWyqeGJAL",
        "outputId": "3f91201d-2643-4ae6-eb07-1f568f61d0d1"
      },
      "execution_count": null,
      "outputs": [
        {
          "output_type": "execute_result",
          "data": {
            "text/plain": [
              "<matplotlib.image.AxesImage at 0x7f8b0d374220>"
            ]
          },
          "metadata": {},
          "execution_count": 7
        },
        {
          "output_type": "display_data",
          "data": {
            "text/plain": [
              "<Figure size 432x288 with 1 Axes>"
            ],
            "image/png": "[encoded data removed]"
          },
          "metadata": {
            "needs_background": "light"
          }
        }
      ]
    },
    {
      "cell_type": "code",
      "source": [
        "def get_image(gif):\n",
        "  im_path = '/content/gifs/' + str(gif) + '.gif'\n",
        "  im = iio.imread(im_path, index=None)\n",
        "  im = Image.fromarray(im[0])\n",
        "\n",
        "  img_arr = np.array(im)\n",
        "  # img_tensor = torch.from_numpy(img_arr)\n",
        "\n",
        "  # img_tensor = img_tensor.type(torch.float32)\n",
        "  # img_tensor = img_tensor.to(device=\"cuda\")\n",
        "\n",
        "  # img_desc = [lines[count]]\n",
        "  # count += 1\n",
        "\n",
        "  # img_tensors.append(img_tensor)\n",
        "  # img_descriptions.append(img_desc)\n",
        "  print(img_arr.shape)\n",
        "\n",
        "  x = img_arr.astype(np.uint8)\n",
        "  imshow(x)"
      ],
      "metadata": {
        "id": "n9wtM_dEqfPe"
      },
      "execution_count": null,
      "outputs": []
    },
    {
      "cell_type": "code",
      "source": [
        "get_image('0')"
      ],
      "metadata": {
        "colab": {
          "base_uri": "https://localhost:8080/",
          "height": 286
        },
        "id": "3fFxyyKQqsHY",
        "outputId": "db30dbf5-f7a5-43c9-d4f5-6dfb2ee708c5"
      },
      "execution_count": null,
      "outputs": [
        {
          "output_type": "stream",
          "name": "stdout",
          "text": [
            "(112, 112, 3)\n"
          ]
        },
        {
          "output_type": "display_data",
          "data": {
            "text/plain": [
              "<Figure size 432x288 with 1 Axes>"
            ],
            "image/png": "[encoded data removed]"
          },
          "metadata": {
            "needs_background": "light"
          }
        }
      ]
    },
    {
      "cell_type": "code",
      "source": [
        "get_image('2')"
      ],
      "metadata": {
        "colab": {
          "base_uri": "https://localhost:8080/",
          "height": 286
        },
        "id": "xXLyPxcQqunH",
        "outputId": "0b185f8a-ae68-48f2-bd56-9e7638488380"
      },
      "execution_count": null,
      "outputs": [
        {
          "output_type": "stream",
          "name": "stdout",
          "text": [
            "(112, 112, 3)\n"
          ]
        },
        {
          "output_type": "display_data",
          "data": {
            "text/plain": [
              "<Figure size 432x288 with 1 Axes>"
            ],
            "image/png": "[encoded data removed]"
          },
          "metadata": {
            "needs_background": "light"
          }
        }
      ]
    },
    {
      "cell_type": "code",
      "source": [
        "# EVERY VIDEO IS THE SAME!!\n",
        "# RE-RUN VIDEO DIFFUSION, IMAGEN TEXT TO VIDEO, IMAGEN TEXT TO IMAGE"
      ],
      "metadata": {
        "id": "sU6eoNB4qxIt"
      },
      "execution_count": null,
      "outputs": []
    },
    {
      "cell_type": "code",
      "source": [
        "# x = Image.fromarray(x) \n",
        "# x"
      ],
      "metadata": {
        "id": "SsXnR6EwFZKB"
      },
      "execution_count": null,
      "outputs": []
    },
    {
      "cell_type": "code",
      "source": [
        "img_batches = []\n",
        "\n",
        "for i in range(0, len(img_tensors), 4):\n",
        "\n",
        "  if len(img_tensors) - (i + 3) > 0:\n",
        "    a = img_tensors[i]\n",
        "    b = img_tensors[i+1]\n",
        "    c = img_tensors[i+2]\n",
        "    d = img_tensors[i+3]\n",
        "\n",
        "    z = torch.stack((a,b,c,d), dim=0)\n",
        "    img_batches.append(z)"
      ],
      "metadata": {
        "id": "x7jRgFzXFiCl"
      },
      "execution_count": null,
      "outputs": []
    },
    {
      "cell_type": "code",
      "source": [
        "# x = img_batches[0].moveaxis(-1,1)\n",
        "\n",
        "# x = x[0].cpu().detach().numpy()\n",
        "# x = np.moveaxis(x, 0, -1)\n",
        "\n",
        "# x = x.astype(np.uint8)\n",
        "# x = Image.fromarray(x) \n",
        "# x"
      ],
      "metadata": {
        "id": "nJCwm46j6G2Y"
      },
      "execution_count": null,
      "outputs": []
    },
    {
      "cell_type": "code",
      "source": [
        "# y = x.resize((64, 64))\n",
        "# y"
      ],
      "metadata": {
        "id": "Cci4hdOkHetH"
      },
      "execution_count": null,
      "outputs": []
    },
    {
      "cell_type": "code",
      "source": [
        "desc_batches = []\n",
        "\n",
        "for i in range(0, len(gif_descriptions), 4):\n",
        "\n",
        "  if len(gif_tensors) - (i + 3) > 0:\n",
        "    a = gif_descriptions[i][0]\n",
        "    b = gif_descriptions[i + 1][0]\n",
        "    c = gif_descriptions[i + 2][0]\n",
        "    d = gif_descriptions[i + 3][0]\n",
        "\n",
        "    z = [a,b,c,d]\n",
        "\n",
        "    desc_batches.append(z)"
      ],
      "metadata": {
        "id": "vZZZ5BnascMs"
      },
      "execution_count": null,
      "outputs": []
    },
    {
      "cell_type": "code",
      "source": [
        "desc_batches[0][0]"
      ],
      "metadata": {
        "colab": {
          "base_uri": "https://localhost:8080/",
          "height": 35
        },
        "id": "nGoKz-YDjfqj",
        "outputId": "c1de1f93-2235-40c4-806f-622a744e41b9"
      },
      "execution_count": null,
      "outputs": [
        {
          "output_type": "execute_result",
          "data": {
            "text/plain": [
              "'age: 56.0, sex: F, ef: 63.2, esv: 34.6, edv: 94.0'"
            ],
            "application/vnd.google.colaboratory.intrinsic+json": {
              "type": "string"
            }
          },
          "metadata": {},
          "execution_count": 13
        }
      ]
    },
    {
      "cell_type": "code",
      "source": [
        "# from imagen_pytorch import t5\n",
        "\n",
        "# x = t5.t5_encode_text(desc_batches[0])"
      ],
      "metadata": {
        "id": "ZxtWypR7ouI1"
      },
      "execution_count": null,
      "outputs": []
    },
    {
      "cell_type": "code",
      "source": [
        "# x.shape"
      ],
      "metadata": {
        "colab": {
          "base_uri": "https://localhost:8080/"
        },
        "id": "UpbfiASApCPS",
        "outputId": "fd63d1dc-7876-4a68-d6ed-16d8c8327db9"
      },
      "execution_count": null,
      "outputs": [
        {
          "output_type": "execute_result",
          "data": {
            "text/plain": [
              "torch.Size([4, 38, 768])"
            ]
          },
          "metadata": {},
          "execution_count": 307
        }
      ]
    },
    {
      "cell_type": "code",
      "source": [
        "from transformers import T5Tokenizer, T5ForConditionalGeneration\n",
        "\n",
        "tokenizer = T5Tokenizer.from_pretrained(\"t5-large\")\n",
        "# model = T5ForConditionalGeneration.from_pretrained(\"t5-large\")"
      ],
      "metadata": {
        "colab": {
          "base_uri": "https://localhost:8080/"
        },
        "id": "8Lvyi3pEje-S",
        "outputId": "b9c1d07f-1556-4d21-bff1-8d8ae0653c65"
      },
      "execution_count": null,
      "outputs": [
        {
          "output_type": "stream",
          "name": "stderr",
          "text": [
            "/usr/local/lib/python3.8/dist-packages/transformers/models/t5/tokenization_t5.py:163: FutureWarning: This tokenizer was incorrectly instantiated with a model max length of 512 which will be corrected in Transformers v5.\n",
            "For now, this behavior is kept to avoid breaking backwards compatibility when padding/encoding with `truncation is True`.\n",
            "- Be aware that you SHOULD NOT rely on t5-large automatically truncating your input to 512 when padding/encoding.\n",
            "- If you want to encode/pad to sequences longer than 512 you can either instantiate this tokenizer with `model_max_length` or pass `max_length` when encoding/padding.\n",
            "- To avoid this warning, please instantiate this tokenizer with `model_max_length` set to your preferred value.\n",
            "  warnings.warn(\n"
          ]
        }
      ]
    },
    {
      "cell_type": "code",
      "source": [
        "# input_ids = tokenizer(\"age: 56.0, sex: F, ef: 63.2, esv: 34.6, edv: 94.0\", return_tensors=\"pt\").input_ids"
      ],
      "metadata": {
        "id": "6BFB6WsYjliS"
      },
      "execution_count": null,
      "outputs": []
    },
    {
      "cell_type": "code",
      "source": [
        "# input_ids.shape"
      ],
      "metadata": {
        "colab": {
          "base_uri": "https://localhost:8080/"
        },
        "id": "SDwv5WgJkIAz",
        "outputId": "ab3059a0-b63f-4cca-dc33-8c934a15dc64"
      },
      "execution_count": null,
      "outputs": [
        {
          "output_type": "execute_result",
          "data": {
            "text/plain": [
              "torch.Size([1, 34])"
            ]
          },
          "metadata": {},
          "execution_count": 264
        }
      ]
    },
    {
      "cell_type": "code",
      "source": [
        "! pip install --upgrade pillow"
      ],
      "metadata": {
        "colab": {
          "base_uri": "https://localhost:8080/"
        },
        "id": "rG7_o3r_G7Y3",
        "outputId": "f6ad51ee-56af-4632-e965-96ac0d9bfd86"
      },
      "execution_count": null,
      "outputs": [
        {
          "output_type": "stream",
          "name": "stdout",
          "text": [
            "Looking in indexes: https://pypi.org/simple, https://us-python.pkg.dev/colab-wheels/public/simple/\n",
            "Requirement already satisfied: pillow in /usr/local/lib/python3.8/dist-packages (9.4.0)\n"
          ]
        }
      ]
    },
    {
      "cell_type": "code",
      "source": [
        "from imagen_pytorch import t5\n",
        "\n",
        "embed_batches = []\n",
        "\n",
        "for i in range(len(desc_batches)):\n",
        "  # encoded_input = tokenizer(desc_batches[i], padding=True, return_tensors='pt')\n",
        "  encoded_input = t5.t5_encode_text(desc_batches[i], name='t5-large')\n",
        "  embed_batches.append(encoded_input)"
      ],
      "metadata": {
        "id": "q-Eu2wfXmBAK",
        "colab": {
          "base_uri": "https://localhost:8080/",
          "height": 145,
          "referenced_widgets": [
            "b488c75391be4202b70d6022b0ee3104",
            "85b86e5a61f1463aad44097c75af7533",
            "5be0bc275b884208b487623ef2d4fcb8",
            "55cfc92263234b8589472a49747d4732",
            "cd737467230347e29c873e77d5b0584b",
            "35c2e6b390ce430f9e86b6e832b5addf",
            "5271fde640eb4dbba5e8aa03ce0b1630",
            "5812f960f2c9402dafd283d833341f10",
            "206d2b6f0d4e4bff83080c9b12be181d",
            "f26953538b7247bbaf63dbe292ecc8aa",
            "7a47ee2114b840b4ba559ce173011923",
            "3c8b2a287601403e8082a831eb67293e",
            "1b8a2391f13e4f6c8e988fb07b9292bc",
            "f98097e36ad9441d98d06012f6077027",
            "c64c3bb208e640cea5962bfc2f44cfe1",
            "a70ae5166716463b844ba98ed54fc986",
            "115296fd31934b98b1a08d7e4ccd277e",
            "af8291444cd24100825fe748fa9a6cd2",
            "2eb0568b6f4b4953a1a202d9bfd3d579",
            "804b3f88acc34deaa33080c4237e638f",
            "81ec4c01132d44bcb7f75c2ec6ff4666",
            "51f660ca9f1f44bdb3a36aaf7aff6d7c",
            "3c80ab83c84b41a696ef2c99fed5d03f",
            "5b1003d71f334100b8789ece7452713b",
            "ac55dddbe34148bd91ac897c9e0a7c45",
            "92396284bcf74f6db9d1391e22085f6d",
            "3352b3c431d546d5b66e20cde07b4cb3",
            "1c0012154860427bb774001a2e5f85bf",
            "90c31bb86ff04e6eb9a8bd5988f52144",
            "96f654cf196d47cf824e150ba98ebdef",
            "1b0f00fef472456f8016ad1a241a8d6a",
            "59d3d6c3fbba425a89c73b909f374ed2",
            "324fecd4457942a0a78ce35e7963229e",
            "4bf11b299ec541a6b9df1f66cf41b222",
            "d58795b5895047079ce909d73aceced6",
            "738d2f810d014718903200386f66bdab",
            "0930c530ee6f42789b531c00fbd89781",
            "61bff237373c4eaa81f3ce14becebf9f",
            "33cd46a7bffc482d909e7a8200ab2590",
            "3f5343e5a5cc463c9034ddc4a76cd639",
            "86affb1ae281438cab9ac22d8e3d287d",
            "c7531bac65d74119a2ebe5948694c915",
            "52974f5fc1964b70ab9c18d1e5f318fe",
            "6d3c3f9b8ce54567a5de19dfc1a44de3"
          ]
        },
        "outputId": "e3fe991a-aee8-4070-fb20-e6a14013d32c"
      },
      "execution_count": null,
      "outputs": [
        {
          "output_type": "display_data",
          "data": {
            "text/plain": [
              "Downloading (…)lve/main/config.json:   0%|          | 0.00/605 [00:00<?, ?B/s]"
            ],
            "application/vnd.jupyter.widget-view+json": {
              "version_major": 2,
              "version_minor": 0,
              "model_id": "b488c75391be4202b70d6022b0ee3104"
            }
          },
          "metadata": {}
        },
        {
          "output_type": "display_data",
          "data": {
            "text/plain": [
              "Downloading (…)lve/main/config.json:   0%|          | 0.00/1.21k [00:00<?, ?B/s]"
            ],
            "application/vnd.jupyter.widget-view+json": {
              "version_major": 2,
              "version_minor": 0,
              "model_id": "3c8b2a287601403e8082a831eb67293e"
            }
          },
          "metadata": {}
        },
        {
          "output_type": "display_data",
          "data": {
            "text/plain": [
              "Downloading (…)\"pytorch_model.bin\";:   0%|          | 0.00/2.95G [00:00<?, ?B/s]"
            ],
            "application/vnd.jupyter.widget-view+json": {
              "version_major": 2,
              "version_minor": 0,
              "model_id": "3c80ab83c84b41a696ef2c99fed5d03f"
            }
          },
          "metadata": {}
        },
        {
          "output_type": "display_data",
          "data": {
            "text/plain": [
              "Downloading (…)ve/main/spiece.model:   0%|          | 0.00/792k [00:00<?, ?B/s]"
            ],
            "application/vnd.jupyter.widget-view+json": {
              "version_major": 2,
              "version_minor": 0,
              "model_id": "4bf11b299ec541a6b9df1f66cf41b222"
            }
          },
          "metadata": {}
        }
      ]
    },
    {
      "cell_type": "code",
      "source": [
        "# embed_batches[0]['input_ids'].shape\n",
        "embed_batches[0].shape"
      ],
      "metadata": {
        "colab": {
          "base_uri": "https://localhost:8080/"
        },
        "id": "dQxIVHaumYU1",
        "outputId": "9aa20e82-9a5d-431a-86fa-fe73a008531e"
      },
      "execution_count": null,
      "outputs": [
        {
          "output_type": "execute_result",
          "data": {
            "text/plain": [
              "torch.Size([4, 38, 1024])"
            ]
          },
          "metadata": {},
          "execution_count": 15
        }
      ]
    },
    {
      "cell_type": "code",
      "source": [
        "# embed_batches = []\n",
        "\n",
        "# for i in range(0, len(gif_descriptions), 4):\n",
        "\n",
        "#   if len(gif_tensors) - (i + 3) > 0:\n",
        "\n",
        "#     a = tokenizer(gif_descriptions[i][0], return_tensors=\"pt\", max_length=50, padding=\"longest\").input_ids\n",
        "#     b = tokenizer(gif_descriptions[i+1][0], return_tensors=\"pt\", max_length=50, padding=\"longest\").input_ids\n",
        "#     c = tokenizer(gif_descriptions[i+2][0], return_tensors=\"pt\", max_length=50, padding=\"longest\").input_ids\n",
        "#     d = tokenizer(gif_descriptions[i+3][0], return_tensors=\"pt\", max_length=50, padding=\"longest\").input_ids\n",
        "\n",
        "#     z = torch.stack((a,b,c,d), dim=0)\n",
        "#     embed_batches.append(z)"
      ],
      "metadata": {
        "id": "uhW_j-YQkPun"
      },
      "execution_count": null,
      "outputs": []
    },
    {
      "cell_type": "code",
      "source": [
        "# embed_batches[1]"
      ],
      "metadata": {
        "id": "5eVJdbEjkeTG"
      },
      "execution_count": null,
      "outputs": []
    },
    {
      "cell_type": "code",
      "source": [
        "# embed_batches[1].shape"
      ],
      "metadata": {
        "id": "wm64LUqlkiLo"
      },
      "execution_count": null,
      "outputs": []
    },
    {
      "cell_type": "code",
      "source": [
        "desc_batches[1]"
      ],
      "metadata": {
        "colab": {
          "base_uri": "https://localhost:8080/"
        },
        "id": "iM1Sl3ZNsuoo",
        "outputId": "fe5ddff9-6399-4547-ae5d-d13708ad9263"
      },
      "execution_count": null,
      "outputs": [
        {
          "output_type": "execute_result",
          "data": {
            "text/plain": [
              "['age: 74.0, sex: M, ef: 55.8, esv: 35.6, edv: 80.6',\n",
              " 'age: 70.0, sex: M, ef: 52.5, esv: 46.8, edv: 98.6',\n",
              " 'age: 51.0, sex: M, ef: 36.3, esv: 139.1, edv: 218.6',\n",
              " 'age: 50.0, sex: M, ef: 31.6, esv: 206.2, edv: 301.5']"
            ]
          },
          "metadata": {},
          "execution_count": 16
        }
      ]
    },
    {
      "cell_type": "code",
      "source": [
        "# for i in range(len(gif_batches)):\n",
        "#   print(gif_batches[i].shape)"
      ],
      "metadata": {
        "id": "mC-xcinQGd6I"
      },
      "execution_count": null,
      "outputs": []
    },
    {
      "cell_type": "code",
      "source": [
        "# a = gif_batches[0][0]\n",
        "# b = gif_batches[1][0]\n",
        "# c = gif_batches[2][0]\n",
        "# d = gif_batches[3][0]\n",
        "\n",
        "# z = torch.stack((a,b,c,d), dim=0)\n",
        "# z.shape"
      ],
      "metadata": {
        "id": "88nisLxEEusy"
      },
      "execution_count": null,
      "outputs": []
    },
    {
      "cell_type": "code",
      "source": [
        "len(img_batches)"
      ],
      "metadata": {
        "id": "qmJUS1AvFdVY",
        "colab": {
          "base_uri": "https://localhost:8080/"
        },
        "outputId": "65e4936a-d742-4be9-f8b6-d06e40d92d80"
      },
      "execution_count": null,
      "outputs": [
        {
          "output_type": "execute_result",
          "data": {
            "text/plain": [
              "93"
            ]
          },
          "metadata": {},
          "execution_count": 253
        }
      ]
    },
    {
      "cell_type": "code",
      "source": [
        "len(desc_batches)"
      ],
      "metadata": {
        "colab": {
          "base_uri": "https://localhost:8080/"
        },
        "id": "H7nVCt4ewNyJ",
        "outputId": "befce256-0d81-44ba-b8df-71c341f8a3aa"
      },
      "execution_count": null,
      "outputs": [
        {
          "output_type": "execute_result",
          "data": {
            "text/plain": [
              "93"
            ]
          },
          "metadata": {},
          "execution_count": 252
        }
      ]
    },
    {
      "cell_type": "code",
      "source": [
        "# # wrap imagen with the trainer class\n",
        "\n",
        "# trainer = ImagenTrainer(imagen)\n",
        "\n",
        "# # mock images (get a lot of this) and text encodings from large T5\n",
        "\n",
        "# text_embeds = torch.randn(64, 256, 1024).cuda()\n",
        "# images = torch.randn(64, 3, 256, 256).cuda()\n",
        "\n",
        "# # feed images into imagen, training each unet in the cascade\n",
        "\n",
        "# loss = trainer(\n",
        "#     images,\n",
        "#     text_embeds = text_embeds,\n",
        "#     unet_number = 1,            # training on unet number 1 in this example, but you will have to also save checkpoints and then reload and continue training on unet number 2\n",
        "#     max_batch_size = 4          # auto divide the batch of 64 up into batch size of 4 and accumulate gradients, so it all fits in memory\n",
        "# )\n",
        "\n",
        "# trainer.update(unet_number = 1)\n",
        "\n",
        "# # do the above for many many many many steps\n",
        "# # now you can sample an image based on the text embeddings from the cascading ddpm\n",
        "\n",
        "# images = trainer.sample(texts = [\n",
        "#     'a puppy looking anxiously at a giant donut on the table',\n",
        "#     'the milky way galaxy in the style of monet'\n",
        "# ], cond_scale = 3.)\n",
        "\n",
        "# images.shape # (2, 3, 256, 256)"
      ],
      "metadata": {
        "id": "IokpdUJMqGU6"
      },
      "execution_count": null,
      "outputs": []
    },
    {
      "cell_type": "code",
      "source": [
        "# wrap imagen with the trainer class\n",
        "\n",
        "# mock images (get a lot of this) and text encodings from large T5\n",
        "\n",
        "# text_embeds = torch.randn(64, 256, 1024).cuda()\n",
        "# images = torch.randn(64, 3, 256, 256).cuda()\n",
        "\n",
        "# feed images into imagen, training each unet in the cascade\n",
        "\n",
        "# loss = trainer(\n",
        "#     images,\n",
        "#     text_embeds = text_embeds,\n",
        "#     unet_number = 1,            # training on unet number 1 in this example, but you will have to also save checkpoints and then reload and continue training on unet number 2\n",
        "#     max_batch_size = 4          # auto divide the batch of 64 up into batch size of 4 and accumulate gradients, so it all fits in memory\n",
        "# )\n",
        "\n",
        "# trainer.update(unet_number = 1)\n",
        "\n",
        "# # do the above for many many many many steps\n",
        "# # now you can sample an image based on the text embeddings from the cascading ddpm\n",
        "\n",
        "# images = trainer.sample(texts = [\n",
        "#     'a puppy looking anxiously at a giant donut on the table',\n",
        "#     'the milky way galaxy in the style of monet'\n",
        "# ], cond_scale = 3.)\n",
        "\n",
        "# images.shape # (2, 3, 256, 256)"
      ],
      "metadata": {
        "id": "MA7twWtqwePF"
      },
      "execution_count": null,
      "outputs": []
    },
    {
      "cell_type": "code",
      "source": [
        "img_batches[0].moveaxis(-1, 1).shape"
      ],
      "metadata": {
        "colab": {
          "base_uri": "https://localhost:8080/"
        },
        "id": "n0D3qUFCI_yb",
        "outputId": "c78983b5-13fc-4718-b16e-0ff07eeae8db"
      },
      "execution_count": null,
      "outputs": [
        {
          "output_type": "execute_result",
          "data": {
            "text/plain": [
              "torch.Size([4, 3, 112, 112])"
            ]
          },
          "metadata": {},
          "execution_count": 255
        }
      ]
    },
    {
      "cell_type": "code",
      "source": [
        "desc_batches[0]"
      ],
      "metadata": {
        "colab": {
          "base_uri": "https://localhost:8080/"
        },
        "id": "lnLt_4ySJDRk",
        "outputId": "096579ea-d83c-4cd7-d493-9f883e43948d"
      },
      "execution_count": null,
      "outputs": [
        {
          "output_type": "execute_result",
          "data": {
            "text/plain": [
              "['age: 56.0, sex: F, ef: 63.2, esv: 34.6, edv: 94.0',\n",
              " 'age: 36.0, sex: F, ef: 55.4, esv: 47.1, edv: 105.7',\n",
              " 'age: 79.0, sex: F, ef: 62.1, esv: 37.1, edv: 97.9',\n",
              " 'age: 78.0, sex: F, ef: 53.4, esv: 32.8, edv: 70.5']"
            ]
          },
          "metadata": {},
          "execution_count": 256
        }
      ]
    },
    {
      "cell_type": "code",
      "source": [
        "import torch\n",
        "from imagen_pytorch import Unet, Imagen, ImagenTrainer\n",
        "\n",
        "# unet for imagen\n",
        "\n",
        "unet1 = Unet(\n",
        "    dim = 32,\n",
        "    cond_dim = 512,\n",
        "    dim_mults = (1, 2, 4, 8),\n",
        "    num_resnet_blocks = 3,\n",
        "    layer_attns = (False, True, True, True),\n",
        ")\n",
        "\n",
        "# unet2 = Unet(\n",
        "#     dim = 32,\n",
        "#     cond_dim = 512,\n",
        "#     dim_mults = (1, 2, 4, 8),\n",
        "#     num_resnet_blocks = (2, 4, 8, 8),\n",
        "#     layer_attns = (False, False, False, True),\n",
        "#     layer_cross_attns = (False, False, False, True)\n",
        "# )\n",
        "\n",
        "# imagen, which contains the unets above (base unet and super resoluting ones)\n",
        "\n",
        "imagen = Imagen(\n",
        "    unets = (unet1),\n",
        "    text_encoder_name = 't5-large',\n",
        "    image_sizes = (112),\n",
        "    timesteps = 1000,\n",
        "    cond_drop_prob = 0.1\n",
        ").cuda()"
      ],
      "metadata": {
        "id": "_uunHQcjndI5"
      },
      "execution_count": null,
      "outputs": []
    },
    {
      "cell_type": "code",
      "source": [
        "trainer = ImagenTrainer(imagen)\n",
        "trainer.load('imagen_1unet_text2image_epoch75.ckpt')\n",
        "current_epoch = 75\n",
        "num_epochs = 50\n",
        "\n",
        "for epoch in range(num_epochs):\n",
        "\n",
        "  print(f'Beginning epoch {current_epoch + epoch + 1}...')\n",
        "\n",
        "  for i in range(len(img_batches)):\n",
        "    image_batch = img_batches[i]\n",
        "    image_batch = image_batch.moveaxis(-1, 1)\n",
        "    image_batch = image_batch.to(device=\"cuda\")\n",
        "    # embed_batch = embed_batches[i]['input_ids']\n",
        "    embed_batch = embed_batches[i]\n",
        "    # text_batch = text_batch.cuda()\n",
        "\n",
        "    loss = trainer(\n",
        "      image_batch,\n",
        "      text_embeds = embed_batch,\n",
        "      unet_number = 1,            # training on unet number 1 in this example, but you will have to also save checkpoints and then reload and continue training on unet number 2\n",
        "      max_batch_size = 4          # auto divide the batch of 64 up into batch size of 4 and accumulate gradients, so it all fits in memory\n",
        "    )\n",
        "\n",
        "    trainer.update(unet_number = 1)\n",
        "\n",
        "    if i % 5 == 0 or i == (len(img_batches) - 1):\n",
        "      print(f'Image batches processed: {i}/{len(img_batches)}')\n",
        "\n",
        "  if ((current_epoch + epoch + 1) % 5) == 0:\n",
        "    trainer.save(f'imagen_1unet_text2image_epoch{current_epoch + epoch + 1}.ckpt')\n",
        "    print(f'Saved checkpoint for epoch {current_epoch + epoch + 1}')\n",
        "  \n",
        "  print(f'\\n\\n')"
      ],
      "metadata": {
        "id": "LScENhfswa1T"
      },
      "execution_count": null,
      "outputs": []
    },
    {
      "cell_type": "code",
      "source": [
        "# trainer = ImagenTrainer(imagen)\n",
        "checkpoint_epoch = 25\n",
        "num_epochs = 25\n",
        "\n",
        "for epoch in range(num_epochs):\n",
        "\n",
        "  print(f'Beginning epoch {checkpoint_epoch + epoch + 1}...')\n",
        "\n",
        "  for i in range(len(img_batches)):\n",
        "    image_batch = img_batches[i]\n",
        "    image_batch = image_batch.moveaxis(-1, 1)\n",
        "    image_batch = image_batch.to(device=\"cuda\")\n",
        "    # embed_batch = embed_batches[i]['input_ids']\n",
        "    embed_batch = embed_batches[i]\n",
        "    # text_batch = text_batch.cuda()\n",
        "\n",
        "    loss = trainer(\n",
        "      image_batch,\n",
        "      text_embeds = embed_batch,\n",
        "      unet_number = 1,            # training on unet number 1 in this example, but you will have to also save checkpoints and then reload and continue training on unet number 2\n",
        "      max_batch_size = 4          # auto divide the batch of 64 up into batch size of 4 and accumulate gradients, so it all fits in memory\n",
        "    )\n",
        "\n",
        "    trainer.update(unet_number = 1)\n",
        "\n",
        "    if i % 5 == 0 or i == (len(img_batches) - 1):\n",
        "      print(f'Image batches processed: {i}/{len(img_batches)}')\n",
        "\n",
        "  if (epoch + 1) % 5 == 0:\n",
        "  #   torch.save(diffusion.state_dict(), f'text2vid_epoch{epoch}.ckpt')\n",
        "    trainer.save(f'imagen_text2image_epoch{checkpoint_epoch + epoch + 1}.ckpt')\n",
        "  \n",
        "  print(f'\\n\\n')"
      ],
      "metadata": {
        "id": "3DgANhZWO_N-"
      },
      "execution_count": null,
      "outputs": []
    },
    {
      "cell_type": "code",
      "source": [
        "# trainer = ImagenTrainer(imagen)\n",
        "checkpoint_epoch = 50\n",
        "num_epochs = 25\n",
        "\n",
        "for epoch in range(num_epochs):\n",
        "\n",
        "  print(f'Beginning epoch {checkpoint_epoch + epoch + 1}...')\n",
        "\n",
        "  for i in range(len(img_batches)):\n",
        "    image_batch = img_batches[i]\n",
        "    image_batch = image_batch.moveaxis(-1, 1)\n",
        "    image_batch = image_batch.to(device=\"cuda\")\n",
        "    # embed_batch = embed_batches[i]['input_ids']\n",
        "    embed_batch = embed_batches[i]\n",
        "    # text_batch = text_batch.cuda()\n",
        "\n",
        "    loss = trainer(\n",
        "      image_batch,\n",
        "      text_embeds = embed_batch,\n",
        "      unet_number = 1,            # training on unet number 1 in this example, but you will have to also save checkpoints and then reload and continue training on unet number 2\n",
        "      max_batch_size = 4          # auto divide the batch of 64 up into batch size of 4 and accumulate gradients, so it all fits in memory\n",
        "    )\n",
        "\n",
        "    trainer.update(unet_number = 1)\n",
        "\n",
        "    if i % 5 == 0 or i == (len(img_batches) - 1):\n",
        "      print(f'Image batches processed: {i}/{len(img_batches)}')\n",
        "\n",
        "  if (epoch + 1) % 5 == 0:\n",
        "  #   torch.save(diffusion.state_dict(), f'text2vid_epoch{epoch}.ckpt')\n",
        "    trainer.save(f'imagen_text2image_epoch{checkpoint_epoch + epoch + 1}.ckpt')\n",
        "  \n",
        "  print(f'\\n\\n')"
      ],
      "metadata": {
        "id": "w66gCw96ZeKi"
      },
      "execution_count": null,
      "outputs": []
    },
    {
      "cell_type": "code",
      "source": [
        "# trainer = ImagenTrainer(imagen)\n",
        "checkpoint_epoch = 75\n",
        "num_epochs = 25\n",
        "\n",
        "for epoch in range(num_epochs):\n",
        "\n",
        "  print(f'Beginning epoch {checkpoint_epoch + epoch + 1}...')\n",
        "\n",
        "  for i in range(len(img_batches)):\n",
        "    image_batch = img_batches[i]\n",
        "    image_batch = image_batch.moveaxis(-1, 1)\n",
        "    image_batch = image_batch.to(device=\"cuda\")\n",
        "    # embed_batch = embed_batches[i]['input_ids']\n",
        "    embed_batch = embed_batches[i]\n",
        "    # text_batch = text_batch.cuda()\n",
        "\n",
        "    loss = trainer(\n",
        "      image_batch,\n",
        "      text_embeds = embed_batch,\n",
        "      unet_number = 1,            # training on unet number 1 in this example, but you will have to also save checkpoints and then reload and continue training on unet number 2\n",
        "      max_batch_size = 4          # auto divide the batch of 64 up into batch size of 4 and accumulate gradients, so it all fits in memory\n",
        "    )\n",
        "\n",
        "    trainer.update(unet_number = 1)\n",
        "\n",
        "    if i % 5 == 0 or i == (len(img_batches) - 1):\n",
        "      print(f'Image batches processed: {i}/{len(img_batches)}')\n",
        "\n",
        "  if (epoch + 1) % 5 == 0:\n",
        "  #   torch.save(diffusion.state_dict(), f'text2vid_epoch{epoch}.ckpt')\n",
        "    trainer.save(f'imagen_text2image_epoch{checkpoint_epoch + epoch + 1}.ckpt')\n",
        "  \n",
        "  print(f'\\n\\n')"
      ],
      "metadata": {
        "id": "RonSFaE9f7T_"
      },
      "execution_count": null,
      "outputs": []
    },
    {
      "cell_type": "code",
      "source": [
        "from google.colab import files\n",
        "files.download('imagen_text2image_epoch24.ckpt') "
      ],
      "metadata": {
        "colab": {
          "base_uri": "https://localhost:8080/",
          "height": 34
        },
        "id": "qVhpVyOHM5X2",
        "outputId": "c142d479-32d9-47cf-f234-504019dc9337"
      },
      "execution_count": null,
      "outputs": [
        {
          "output_type": "display_data",
          "data": {
            "text/plain": [
              "<IPython.core.display.Javascript object>"
            ],
            "application/javascript": [
              "\n",
              "    async function download(id, filename, size) {\n",
              "      if (!google.colab.kernel.accessAllowed) {\n",
              "        return;\n",
              "      }\n",
              "      const div = document.createElement('div');\n",
              "      const label = document.createElement('label');\n",
              "      label.textContent = `Downloading \"${filename}\": `;\n",
              "      div.appendChild(label);\n",
              "      const progress = document.createElement('progress');\n",
              "      progress.max = size;\n",
              "      div.appendChild(progress);\n",
              "      document.body.appendChild(div);\n",
              "\n",
              "      const buffers = [];\n",
              "      let downloaded = 0;\n",
              "\n",
              "      const channel = await google.colab.kernel.comms.open(id);\n",
              "      // Send a message to notify the kernel that we're ready.\n",
              "      channel.send({})\n",
              "\n",
              "      for await (const message of channel.messages) {\n",
              "        // Send a message to notify the kernel that we're ready.\n",
              "        channel.send({})\n",
              "        if (message.buffers) {\n",
              "          for (const buffer of message.buffers) {\n",
              "            buffers.push(buffer);\n",
              "            downloaded += buffer.byteLength;\n",
              "            progress.value = downloaded;\n",
              "          }\n",
              "        }\n",
              "      }\n",
              "      const blob = new Blob(buffers, {type: 'application/binary'});\n",
              "      const a = document.createElement('a');\n",
              "      a.href = window.URL.createObjectURL(blob);\n",
              "      a.download = filename;\n",
              "      div.appendChild(a);\n",
              "      a.click();\n",
              "      div.remove();\n",
              "    }\n",
              "  "
            ]
          },
          "metadata": {}
        },
        {
          "output_type": "display_data",
          "data": {
            "text/plain": [
              "<IPython.core.display.Javascript object>"
            ],
            "application/javascript": [
              "download(\"download_ac66343e-eca5-4485-b718-0d5166283b87\", \"imagen_text2image_epoch24.ckpt\", 845001614)"
            ]
          },
          "metadata": {}
        }
      ]
    },
    {
      "cell_type": "code",
      "source": [
        "desc_batches[0]"
      ],
      "metadata": {
        "colab": {
          "base_uri": "https://localhost:8080/"
        },
        "id": "ErakHGLqVDFC",
        "outputId": "989acf02-a26e-479e-9f23-f72398823894"
      },
      "execution_count": null,
      "outputs": [
        {
          "output_type": "execute_result",
          "data": {
            "text/plain": [
              "['age: 56.0, sex: F, ef: 63.2, esv: 34.6, edv: 94.0',\n",
              " 'age: 36.0, sex: F, ef: 55.4, esv: 47.1, edv: 105.7',\n",
              " 'age: 79.0, sex: F, ef: 62.1, esv: 37.1, edv: 97.9',\n",
              " 'age: 78.0, sex: F, ef: 53.4, esv: 32.8, edv: 70.5']"
            ]
          },
          "metadata": {},
          "execution_count": 21
        }
      ]
    },
    {
      "cell_type": "code",
      "source": [
        "images = imagen.sample(\n",
        "    texts = desc_batches[0],            \n",
        "    cond_scale = 3.)"
      ],
      "metadata": {
        "colab": {
          "base_uri": "https://localhost:8080/",
          "height": 113,
          "referenced_widgets": [
            "25a9ae89164c4c7aa3481a6a53642fda",
            "ac559f487fd7453cb3d9ca26db5f754f",
            "20cdc3f524a2482a9c6dbbe08a160e9a",
            "45e300500e8440e994f3eab4e32e3f53",
            "bbf299a3700746888bfca91889c39045",
            "eabacb48873248b8958f4cfc54ca21cd",
            "2fc6a6fc8bc340aea1ec887bd8acf0fe",
            "080992592c4d4dccba427b2a65a28820",
            "b84869437528468c823be5ff2add24f4",
            "9223f2562f334c9bbd292e7569725231",
            "7e8479b4c2754108924776d99bd16a83",
            "863b19de45ee400fa342ab6fca34b051",
            "40f1dd6617bc4511afdd77c1f8056911",
            "28b4da5738ff47729db5af9d4a8d5aad",
            "13f5fbff140e4ea38756422aa3b4c307",
            "9441c22ef35b4bd78a1d477306c1f3b6",
            "27b5541f88164614b580ba351e375aa5",
            "7365f93ce5f542caa72c0f85745a06dc",
            "fb4a7c2d80664855983f3a4d783d8953",
            "8128844ee7db4f299811bf7179e362ae",
            "d10ee223d6414581bdaec5ce52e4be3b",
            "8c4a1176f6a14ae88be87d21a313dec3",
            "34ff94b2590244a9aa3c2116df8807cc",
            "2262efaf71a14383891b9c40bb84c5a1",
            "70b753968e604ec7b67949573b1cff15",
            "554a32d68a5f435285508a27f5428471",
            "e38abe122a384605b5cfd0e0f90a7e16",
            "0574659fc58e40828d4933afced9d72d",
            "c6300e594b01492e89494ab7cd92b254",
            "b63f9ed36cc3454395ec8e96694f1287",
            "9a73b39a8943435eaa29c6b82b9a50f4",
            "d2e33695c12d488cb11fb18448c34484",
            "dfa0058cdc154d9d8943d87103e64782"
          ]
        },
        "id": "SiLit2LVU5Hy",
        "outputId": "a9945539-c019-40fe-917f-9707bf3ca199"
      },
      "execution_count": null,
      "outputs": [
        {
          "output_type": "display_data",
          "data": {
            "text/plain": [
              "0it [00:00, ?it/s]"
            ],
            "application/vnd.jupyter.widget-view+json": {
              "version_major": 2,
              "version_minor": 0,
              "model_id": "25a9ae89164c4c7aa3481a6a53642fda"
            }
          },
          "metadata": {}
        },
        {
          "output_type": "display_data",
          "data": {
            "text/plain": [
              "sampling loop time step:   0%|          | 0/1000 [00:00<?, ?it/s]"
            ],
            "application/vnd.jupyter.widget-view+json": {
              "version_major": 2,
              "version_minor": 0,
              "model_id": "863b19de45ee400fa342ab6fca34b051"
            }
          },
          "metadata": {}
        },
        {
          "output_type": "display_data",
          "data": {
            "text/plain": [
              "sampling loop time step:   0%|          | 0/1000 [00:00<?, ?it/s]"
            ],
            "application/vnd.jupyter.widget-view+json": {
              "version_major": 2,
              "version_minor": 0,
              "model_id": "34ff94b2590244a9aa3c2116df8807cc"
            }
          },
          "metadata": {}
        }
      ]
    },
    {
      "cell_type": "code",
      "source": [
        "images.shape"
      ],
      "metadata": {
        "colab": {
          "base_uri": "https://localhost:8080/"
        },
        "id": "PWDge_slYkgH",
        "outputId": "9045f380-43b0-4234-8716-4fc18cf9ee64"
      },
      "execution_count": null,
      "outputs": [
        {
          "output_type": "execute_result",
          "data": {
            "text/plain": [
              "torch.Size([4, 3, 224, 224])"
            ]
          },
          "metadata": {},
          "execution_count": 40
        }
      ]
    },
    {
      "cell_type": "code",
      "source": [
        "images[0].moveaxis(0,-1).shape"
      ],
      "metadata": {
        "colab": {
          "base_uri": "https://localhost:8080/"
        },
        "id": "V5J2mwAhYtro",
        "outputId": "1f0d54a1-3d85-4ce9-b0ce-afa533cbd5c3"
      },
      "execution_count": null,
      "outputs": [
        {
          "output_type": "execute_result",
          "data": {
            "text/plain": [
              "torch.Size([224, 224, 3])"
            ]
          },
          "metadata": {},
          "execution_count": 41
        }
      ]
    },
    {
      "cell_type": "code",
      "source": [
        "x = images[2].cpu().detach().numpy()\n",
        "x = np.moveaxis(x, 0, -1)\n",
        "x.shape"
      ],
      "metadata": {
        "colab": {
          "base_uri": "https://localhost:8080/"
        },
        "id": "EfGDub9PY4Hq",
        "outputId": "0ecf92ce-7b31-4512-b0a4-8982e159fc7e"
      },
      "execution_count": null,
      "outputs": [
        {
          "output_type": "execute_result",
          "data": {
            "text/plain": [
              "(224, 224, 3)"
            ]
          },
          "metadata": {},
          "execution_count": 42
        }
      ]
    },
    {
      "cell_type": "code",
      "source": [
        "# x = img_tensors[0].cpu().detach().numpy()\n",
        "# x = x\n",
        "x = x.astype(np.uint8)\n",
        "\n",
        "from matplotlib.pyplot import imshow\n",
        "imshow(x)"
      ],
      "metadata": {
        "colab": {
          "base_uri": "https://localhost:8080/",
          "height": 287
        },
        "id": "EUyAx63kYr3U",
        "outputId": "d8b48887-9ed9-4d07-9d55-2eaaf9e53775"
      },
      "execution_count": null,
      "outputs": [
        {
          "output_type": "execute_result",
          "data": {
            "text/plain": [
              "<matplotlib.image.AxesImage at 0x7fcea88e8dc0>"
            ]
          },
          "metadata": {},
          "execution_count": 43
        },
        {
          "output_type": "display_data",
          "data": {
            "text/plain": [
              "<Figure size 432x288 with 1 Axes>"
            ],
            "image/png": "[encoded data removed]"
          },
          "metadata": {
            "needs_background": "light"
          }
        }
      ]
    },
    {
      "cell_type": "code",
      "source": [
        "x = img_batches[50][0]\n",
        "x = x.cpu().detach().numpy()\n",
        "x = x.astype(np.uint8)\n",
        "\n",
        "from matplotlib.pyplot import imshow\n",
        "imshow(x)"
      ],
      "metadata": {
        "colab": {
          "base_uri": "https://localhost:8080/",
          "height": 286
        },
        "id": "KmWKbLZApQUO",
        "outputId": "1bb97eff-c5b0-4929-e469-4be8d3cec108"
      },
      "execution_count": null,
      "outputs": [
        {
          "output_type": "execute_result",
          "data": {
            "text/plain": [
              "<matplotlib.image.AxesImage at 0x7fce660e4fd0>"
            ]
          },
          "metadata": {},
          "execution_count": 48
        },
        {
          "output_type": "display_data",
          "data": {
            "text/plain": [
              "<Figure size 432x288 with 1 Axes>"
            ],
            "image/png": "[encoded data removed]"
          },
          "metadata": {
            "needs_background": "light"
          }
        }
      ]
    },
    {
      "cell_type": "code",
      "source": [
        "x = img_batches[4][3]\n",
        "x = x.cpu().detach().numpy()\n",
        "x = x.astype(np.uint8)\n",
        "\n",
        "from matplotlib.pyplot import imshow\n",
        "imshow(x)"
      ],
      "metadata": {
        "colab": {
          "base_uri": "https://localhost:8080/",
          "height": 286
        },
        "id": "_76GF7p6VRVg",
        "outputId": "76666757-b714-46b8-aa73-2202c41b08c8"
      },
      "execution_count": null,
      "outputs": [
        {
          "output_type": "execute_result",
          "data": {
            "text/plain": [
              "<matplotlib.image.AxesImage at 0x7fcea8a72e20>"
            ]
          },
          "metadata": {},
          "execution_count": 51
        },
        {
          "output_type": "display_data",
          "data": {
            "text/plain": [
              "<Figure size 432x288 with 1 Axes>"
            ],
            "image/png": "[encoded data removed]"
          },
          "metadata": {
            "needs_background": "light"
          }
        }
      ]
    },
    {
      "cell_type": "code",
      "source": [
        "import torch\n",
        "from imagen_pytorch import Unet, NullUnet, Imagen\n",
        "\n",
        "# unet for imagen\n",
        "\n",
        "unet1 = NullUnet()  # add a placeholder \"null\" unet for the base unet\n",
        "\n",
        "unet2 = Unet(\n",
        "    dim = 32,\n",
        "    cond_dim = 512,\n",
        "    dim_mults = (1, 2, 4, 8),\n",
        "    num_resnet_blocks = (2, 4, 8, 8),\n",
        "    layer_attns = (False, False, False, True),\n",
        "    layer_cross_attns = (False, False, False, True)\n",
        ")\n",
        "\n",
        "# imagen, which contains the unets above (base unet and super resoluting ones)\n",
        "\n",
        "imagen = Imagen(\n",
        "    unets = (unet1, unet2),\n",
        "    image_sizes = (64, 256),\n",
        "    timesteps = 250,\n",
        "    cond_drop_prob = 0.1\n",
        ").cuda()\n",
        "\n",
        "# mock images (get a lot of this) and text encodings from large T5\n",
        "\n",
        "text_embeds = torch.randn(4, 256, 768).cuda()\n",
        "images = torch.randn(4, 3, 256, 256).cuda()\n",
        "\n",
        "# feed images into imagen, training each unet in the cascade\n",
        "\n",
        "loss = imagen(images, text_embeds = text_embeds, unet_number = 2)\n",
        "loss.backward()\n",
        "\n",
        "# do the above for many many many many steps\n",
        "# now you can sample an image based on the text embeddings as well as low resolution images\n",
        "\n",
        "lowres_images = torch.randn(3, 3, 64, 64).cuda()  # starting un-resoluted images\n",
        "\n",
        "images = imagen.sample(\n",
        "    texts = [\n",
        "        'a whale breaching from afar',\n",
        "        'young girl blowing out candles on her birthday cake',\n",
        "        'fireworks with blue and green sparkles'\n",
        "    ],\n",
        "    start_at_unet_number = 2,              # start at unet number 2\n",
        "    start_image_or_video = lowres_images,  # pass in low resolution images to be resoluted\n",
        "    cond_scale = 3.)\n",
        "\n",
        "images.shape # (3, 3, 256, 256)"
      ],
      "metadata": {
        "colab": {
          "base_uri": "https://localhost:8080/",
          "height": 497
        },
        "id": "QcU_mIx0iDPa",
        "outputId": "4100bd8a-51f1-4a5a-a6f7-d2737e0ac209"
      },
      "execution_count": null,
      "outputs": [
        {
          "output_type": "error",
          "ename": "KeyboardInterrupt",
          "evalue": "ignored",
          "traceback": [
            "\u001b[0;31m---------------------------------------------------------------------------\u001b[0m",
            "\u001b[0;31mKeyboardInterrupt\u001b[0m                         Traceback (most recent call last)",
            "\u001b[0;32m<ipython-input-258-0cad73caec83>\u001b[0m in \u001b[0;36m<module>\u001b[0;34m\u001b[0m\n\u001b[1;32m     31\u001b[0m \u001b[0;31m# feed images into imagen, training each unet in the cascade\u001b[0m\u001b[0;34m\u001b[0m\u001b[0;34m\u001b[0m\u001b[0;34m\u001b[0m\u001b[0m\n\u001b[1;32m     32\u001b[0m \u001b[0;34m\u001b[0m\u001b[0m\n\u001b[0;32m---> 33\u001b[0;31m \u001b[0mloss\u001b[0m \u001b[0;34m=\u001b[0m \u001b[0mimagen\u001b[0m\u001b[0;34m(\u001b[0m\u001b[0mimages\u001b[0m\u001b[0;34m,\u001b[0m \u001b[0mtext_embeds\u001b[0m \u001b[0;34m=\u001b[0m \u001b[0mtext_embeds\u001b[0m\u001b[0;34m,\u001b[0m \u001b[0munet_number\u001b[0m \u001b[0;34m=\u001b[0m \u001b[0;36m2\u001b[0m\u001b[0;34m)\u001b[0m\u001b[0;34m\u001b[0m\u001b[0;34m\u001b[0m\u001b[0m\n\u001b[0m\u001b[1;32m     34\u001b[0m \u001b[0mloss\u001b[0m\u001b[0;34m.\u001b[0m\u001b[0mbackward\u001b[0m\u001b[0;34m(\u001b[0m\u001b[0;34m)\u001b[0m\u001b[0;34m\u001b[0m\u001b[0;34m\u001b[0m\u001b[0m\n\u001b[1;32m     35\u001b[0m \u001b[0;34m\u001b[0m\u001b[0m\n",
            "\u001b[0;32m/usr/local/lib/python3.8/dist-packages/torch/nn/modules/module.py\u001b[0m in \u001b[0;36m_call_impl\u001b[0;34m(self, *input, **kwargs)\u001b[0m\n\u001b[1;32m   1192\u001b[0m         if not (self._backward_hooks or self._forward_hooks or self._forward_pre_hooks or _global_backward_hooks\n\u001b[1;32m   1193\u001b[0m                 or _global_forward_hooks or _global_forward_pre_hooks):\n\u001b[0;32m-> 1194\u001b[0;31m             \u001b[0;32mreturn\u001b[0m \u001b[0mforward_call\u001b[0m\u001b[0;34m(\u001b[0m\u001b[0;34m*\u001b[0m\u001b[0minput\u001b[0m\u001b[0;34m,\u001b[0m \u001b[0;34m**\u001b[0m\u001b[0mkwargs\u001b[0m\u001b[0;34m)\u001b[0m\u001b[0;34m\u001b[0m\u001b[0;34m\u001b[0m\u001b[0m\n\u001b[0m\u001b[1;32m   1195\u001b[0m         \u001b[0;31m# Do not call functions when jit is used\u001b[0m\u001b[0;34m\u001b[0m\u001b[0;34m\u001b[0m\u001b[0;34m\u001b[0m\u001b[0m\n\u001b[1;32m   1196\u001b[0m         \u001b[0mfull_backward_hooks\u001b[0m\u001b[0;34m,\u001b[0m \u001b[0mnon_full_backward_hooks\u001b[0m \u001b[0;34m=\u001b[0m \u001b[0;34m[\u001b[0m\u001b[0;34m]\u001b[0m\u001b[0;34m,\u001b[0m \u001b[0;34m[\u001b[0m\u001b[0;34m]\u001b[0m\u001b[0;34m\u001b[0m\u001b[0;34m\u001b[0m\u001b[0m\n",
            "\u001b[0;32m<@beartype(imagen_pytorch.imagen_pytorch.Imagen.forward) at 0x7f64320c89d0>\u001b[0m in \u001b[0;36mforward\u001b[0;34m(__beartype_func, __beartype_conf, __beartype_get_violation, __beartype_object_140068313162032, __beartype_getrandbits, *args, **kwargs)\u001b[0m\n",
            "\u001b[0;32m/usr/local/lib/python3.8/dist-packages/imagen_pytorch/imagen_pytorch.py\u001b[0m in \u001b[0;36mforward\u001b[0;34m(self, images, unet, texts, text_embeds, text_masks, unet_number, cond_images, **kwargs)\u001b[0m\n\u001b[1;32m   2580\u001b[0m         \u001b[0mimages\u001b[0m \u001b[0;34m=\u001b[0m \u001b[0mself\u001b[0m\u001b[0;34m.\u001b[0m\u001b[0mresize_to\u001b[0m\u001b[0;34m(\u001b[0m\u001b[0mimages\u001b[0m\u001b[0;34m,\u001b[0m \u001b[0mtarget_image_size\u001b[0m\u001b[0;34m,\u001b[0m \u001b[0;34m**\u001b[0m\u001b[0mframes_to_resize_kwargs\u001b[0m\u001b[0;34m(\u001b[0m\u001b[0mtarget_frame_size\u001b[0m\u001b[0;34m)\u001b[0m\u001b[0;34m)\u001b[0m\u001b[0;34m\u001b[0m\u001b[0;34m\u001b[0m\u001b[0m\n\u001b[1;32m   2581\u001b[0m \u001b[0;34m\u001b[0m\u001b[0m\n\u001b[0;32m-> 2582\u001b[0;31m         \u001b[0;32mreturn\u001b[0m \u001b[0mself\u001b[0m\u001b[0;34m.\u001b[0m\u001b[0mp_losses\u001b[0m\u001b[0;34m(\u001b[0m\u001b[0munet\u001b[0m\u001b[0;34m,\u001b[0m \u001b[0mimages\u001b[0m\u001b[0;34m,\u001b[0m \u001b[0mtimes\u001b[0m\u001b[0;34m,\u001b[0m \u001b[0mtext_embeds\u001b[0m \u001b[0;34m=\u001b[0m \u001b[0mtext_embeds\u001b[0m\u001b[0;34m,\u001b[0m \u001b[0mtext_mask\u001b[0m \u001b[0;34m=\u001b[0m \u001b[0mtext_masks\u001b[0m\u001b[0;34m,\u001b[0m \u001b[0mcond_images\u001b[0m \u001b[0;34m=\u001b[0m \u001b[0mcond_images\u001b[0m\u001b[0;34m,\u001b[0m \u001b[0mnoise_scheduler\u001b[0m \u001b[0;34m=\u001b[0m \u001b[0mnoise_scheduler\u001b[0m\u001b[0;34m,\u001b[0m \u001b[0mlowres_cond_img\u001b[0m \u001b[0;34m=\u001b[0m \u001b[0mlowres_cond_img\u001b[0m\u001b[0;34m,\u001b[0m \u001b[0mlowres_aug_times\u001b[0m \u001b[0;34m=\u001b[0m \u001b[0mlowres_aug_times\u001b[0m\u001b[0;34m,\u001b[0m \u001b[0mpred_objective\u001b[0m \u001b[0;34m=\u001b[0m \u001b[0mpred_objective\u001b[0m\u001b[0;34m,\u001b[0m \u001b[0mp2_loss_weight_gamma\u001b[0m \u001b[0;34m=\u001b[0m \u001b[0mp2_loss_weight_gamma\u001b[0m\u001b[0;34m,\u001b[0m \u001b[0mrandom_crop_size\u001b[0m \u001b[0;34m=\u001b[0m \u001b[0mrandom_crop_size\u001b[0m\u001b[0;34m,\u001b[0m \u001b[0;34m**\u001b[0m\u001b[0mkwargs\u001b[0m\u001b[0;34m)\u001b[0m\u001b[0;34m\u001b[0m\u001b[0;34m\u001b[0m\u001b[0m\n\u001b[0m",
            "\u001b[0;32m<@beartype(imagen_pytorch.imagen_pytorch.Imagen.p_losses) at 0x7f64320c88b0>\u001b[0m in \u001b[0;36mp_losses\u001b[0;34m(__beartype_func, __beartype_conf, __beartype_get_violation, __beartype_object_140068313162032, *args, **kwargs)\u001b[0m\n",
            "\u001b[0;32m/usr/local/lib/python3.8/dist-packages/imagen_pytorch/imagen_pytorch.py\u001b[0m in \u001b[0;36mp_losses\u001b[0;34m(self, unet, x_start, times, noise_scheduler, lowres_cond_img, lowres_aug_times, text_embeds, text_mask, cond_images, noise, times_next, pred_objective, p2_loss_weight_gamma, random_crop_size, **kwargs)\u001b[0m\n\u001b[1;32m   2463\u001b[0m         \u001b[0;31m# get prediction\u001b[0m\u001b[0;34m\u001b[0m\u001b[0;34m\u001b[0m\u001b[0;34m\u001b[0m\u001b[0m\n\u001b[1;32m   2464\u001b[0m \u001b[0;34m\u001b[0m\u001b[0m\n\u001b[0;32m-> 2465\u001b[0;31m         pred = unet.forward(\n\u001b[0m\u001b[1;32m   2466\u001b[0m             \u001b[0mx_noisy\u001b[0m\u001b[0;34m,\u001b[0m\u001b[0;34m\u001b[0m\u001b[0;34m\u001b[0m\u001b[0m\n\u001b[1;32m   2467\u001b[0m             \u001b[0mnoise_cond\u001b[0m\u001b[0;34m,\u001b[0m\u001b[0;34m\u001b[0m\u001b[0;34m\u001b[0m\u001b[0m\n",
            "\u001b[0;32m/usr/local/lib/python3.8/dist-packages/imagen_pytorch/imagen_pytorch.py\u001b[0m in \u001b[0;36mforward\u001b[0;34m(self, x, time, lowres_cond_img, lowres_noise_times, text_embeds, text_mask, cond_images, self_cond, cond_drop_prob)\u001b[0m\n\u001b[1;32m   1546\u001b[0m         \u001b[0;31m# initial convolution\u001b[0m\u001b[0;34m\u001b[0m\u001b[0;34m\u001b[0m\u001b[0;34m\u001b[0m\u001b[0m\n\u001b[1;32m   1547\u001b[0m \u001b[0;34m\u001b[0m\u001b[0m\n\u001b[0;32m-> 1548\u001b[0;31m         \u001b[0mx\u001b[0m \u001b[0;34m=\u001b[0m \u001b[0mself\u001b[0m\u001b[0;34m.\u001b[0m\u001b[0minit_conv\u001b[0m\u001b[0;34m(\u001b[0m\u001b[0mx\u001b[0m\u001b[0;34m)\u001b[0m\u001b[0;34m\u001b[0m\u001b[0;34m\u001b[0m\u001b[0m\n\u001b[0m\u001b[1;32m   1549\u001b[0m \u001b[0;34m\u001b[0m\u001b[0m\n\u001b[1;32m   1550\u001b[0m         \u001b[0;31m# init conv residual\u001b[0m\u001b[0;34m\u001b[0m\u001b[0;34m\u001b[0m\u001b[0;34m\u001b[0m\u001b[0m\n",
            "\u001b[0;32m/usr/local/lib/python3.8/dist-packages/torch/nn/modules/module.py\u001b[0m in \u001b[0;36m_call_impl\u001b[0;34m(self, *input, **kwargs)\u001b[0m\n\u001b[1;32m   1192\u001b[0m         if not (self._backward_hooks or self._forward_hooks or self._forward_pre_hooks or _global_backward_hooks\n\u001b[1;32m   1193\u001b[0m                 or _global_forward_hooks or _global_forward_pre_hooks):\n\u001b[0;32m-> 1194\u001b[0;31m             \u001b[0;32mreturn\u001b[0m \u001b[0mforward_call\u001b[0m\u001b[0;34m(\u001b[0m\u001b[0;34m*\u001b[0m\u001b[0minput\u001b[0m\u001b[0;34m,\u001b[0m \u001b[0;34m**\u001b[0m\u001b[0mkwargs\u001b[0m\u001b[0;34m)\u001b[0m\u001b[0;34m\u001b[0m\u001b[0;34m\u001b[0m\u001b[0m\n\u001b[0m\u001b[1;32m   1195\u001b[0m         \u001b[0;31m# Do not call functions when jit is used\u001b[0m\u001b[0;34m\u001b[0m\u001b[0;34m\u001b[0m\u001b[0;34m\u001b[0m\u001b[0m\n\u001b[1;32m   1196\u001b[0m         \u001b[0mfull_backward_hooks\u001b[0m\u001b[0;34m,\u001b[0m \u001b[0mnon_full_backward_hooks\u001b[0m \u001b[0;34m=\u001b[0m \u001b[0;34m[\u001b[0m\u001b[0;34m]\u001b[0m\u001b[0;34m,\u001b[0m \u001b[0;34m[\u001b[0m\u001b[0;34m]\u001b[0m\u001b[0;34m\u001b[0m\u001b[0;34m\u001b[0m\u001b[0m\n",
            "\u001b[0;32m/usr/local/lib/python3.8/dist-packages/imagen_pytorch/imagen_pytorch.py\u001b[0m in \u001b[0;36mforward\u001b[0;34m(self, x)\u001b[0m\n\u001b[1;32m   1058\u001b[0m \u001b[0;34m\u001b[0m\u001b[0m\n\u001b[1;32m   1059\u001b[0m     \u001b[0;32mdef\u001b[0m \u001b[0mforward\u001b[0m\u001b[0;34m(\u001b[0m\u001b[0mself\u001b[0m\u001b[0;34m,\u001b[0m \u001b[0mx\u001b[0m\u001b[0;34m)\u001b[0m\u001b[0;34m:\u001b[0m\u001b[0;34m\u001b[0m\u001b[0;34m\u001b[0m\u001b[0m\n\u001b[0;32m-> 1060\u001b[0;31m         \u001b[0mfmaps\u001b[0m \u001b[0;34m=\u001b[0m \u001b[0mtuple\u001b[0m\u001b[0;34m(\u001b[0m\u001b[0mmap\u001b[0m\u001b[0;34m(\u001b[0m\u001b[0;32mlambda\u001b[0m \u001b[0mconv\u001b[0m\u001b[0;34m:\u001b[0m \u001b[0mconv\u001b[0m\u001b[0;34m(\u001b[0m\u001b[0mx\u001b[0m\u001b[0;34m)\u001b[0m\u001b[0;34m,\u001b[0m \u001b[0mself\u001b[0m\u001b[0;34m.\u001b[0m\u001b[0mconvs\u001b[0m\u001b[0;34m)\u001b[0m\u001b[0;34m)\u001b[0m\u001b[0;34m\u001b[0m\u001b[0;34m\u001b[0m\u001b[0m\n\u001b[0m\u001b[1;32m   1061\u001b[0m         \u001b[0;32mreturn\u001b[0m \u001b[0mtorch\u001b[0m\u001b[0;34m.\u001b[0m\u001b[0mcat\u001b[0m\u001b[0;34m(\u001b[0m\u001b[0mfmaps\u001b[0m\u001b[0;34m,\u001b[0m \u001b[0mdim\u001b[0m \u001b[0;34m=\u001b[0m \u001b[0;36m1\u001b[0m\u001b[0;34m)\u001b[0m\u001b[0;34m\u001b[0m\u001b[0;34m\u001b[0m\u001b[0m\n\u001b[1;32m   1062\u001b[0m \u001b[0;34m\u001b[0m\u001b[0m\n",
            "\u001b[0;32m/usr/local/lib/python3.8/dist-packages/imagen_pytorch/imagen_pytorch.py\u001b[0m in \u001b[0;36m<lambda>\u001b[0;34m(conv)\u001b[0m\n\u001b[1;32m   1058\u001b[0m \u001b[0;34m\u001b[0m\u001b[0m\n\u001b[1;32m   1059\u001b[0m     \u001b[0;32mdef\u001b[0m \u001b[0mforward\u001b[0m\u001b[0;34m(\u001b[0m\u001b[0mself\u001b[0m\u001b[0;34m,\u001b[0m \u001b[0mx\u001b[0m\u001b[0;34m)\u001b[0m\u001b[0;34m:\u001b[0m\u001b[0;34m\u001b[0m\u001b[0;34m\u001b[0m\u001b[0m\n\u001b[0;32m-> 1060\u001b[0;31m         \u001b[0mfmaps\u001b[0m \u001b[0;34m=\u001b[0m \u001b[0mtuple\u001b[0m\u001b[0;34m(\u001b[0m\u001b[0mmap\u001b[0m\u001b[0;34m(\u001b[0m\u001b[0;32mlambda\u001b[0m \u001b[0mconv\u001b[0m\u001b[0;34m:\u001b[0m \u001b[0mconv\u001b[0m\u001b[0;34m(\u001b[0m\u001b[0mx\u001b[0m\u001b[0;34m)\u001b[0m\u001b[0;34m,\u001b[0m \u001b[0mself\u001b[0m\u001b[0;34m.\u001b[0m\u001b[0mconvs\u001b[0m\u001b[0;34m)\u001b[0m\u001b[0;34m)\u001b[0m\u001b[0;34m\u001b[0m\u001b[0;34m\u001b[0m\u001b[0m\n\u001b[0m\u001b[1;32m   1061\u001b[0m         \u001b[0;32mreturn\u001b[0m \u001b[0mtorch\u001b[0m\u001b[0;34m.\u001b[0m\u001b[0mcat\u001b[0m\u001b[0;34m(\u001b[0m\u001b[0mfmaps\u001b[0m\u001b[0;34m,\u001b[0m \u001b[0mdim\u001b[0m \u001b[0;34m=\u001b[0m \u001b[0;36m1\u001b[0m\u001b[0;34m)\u001b[0m\u001b[0;34m\u001b[0m\u001b[0;34m\u001b[0m\u001b[0m\n\u001b[1;32m   1062\u001b[0m \u001b[0;34m\u001b[0m\u001b[0m\n",
            "\u001b[0;32m/usr/local/lib/python3.8/dist-packages/torch/nn/modules/module.py\u001b[0m in \u001b[0;36m_call_impl\u001b[0;34m(self, *input, **kwargs)\u001b[0m\n\u001b[1;32m   1192\u001b[0m         if not (self._backward_hooks or self._forward_hooks or self._forward_pre_hooks or _global_backward_hooks\n\u001b[1;32m   1193\u001b[0m                 or _global_forward_hooks or _global_forward_pre_hooks):\n\u001b[0;32m-> 1194\u001b[0;31m             \u001b[0;32mreturn\u001b[0m \u001b[0mforward_call\u001b[0m\u001b[0;34m(\u001b[0m\u001b[0;34m*\u001b[0m\u001b[0minput\u001b[0m\u001b[0;34m,\u001b[0m \u001b[0;34m**\u001b[0m\u001b[0mkwargs\u001b[0m\u001b[0;34m)\u001b[0m\u001b[0;34m\u001b[0m\u001b[0;34m\u001b[0m\u001b[0m\n\u001b[0m\u001b[1;32m   1195\u001b[0m         \u001b[0;31m# Do not call functions when jit is used\u001b[0m\u001b[0;34m\u001b[0m\u001b[0;34m\u001b[0m\u001b[0;34m\u001b[0m\u001b[0m\n\u001b[1;32m   1196\u001b[0m         \u001b[0mfull_backward_hooks\u001b[0m\u001b[0;34m,\u001b[0m \u001b[0mnon_full_backward_hooks\u001b[0m \u001b[0;34m=\u001b[0m \u001b[0;34m[\u001b[0m\u001b[0;34m]\u001b[0m\u001b[0;34m,\u001b[0m \u001b[0;34m[\u001b[0m\u001b[0;34m]\u001b[0m\u001b[0;34m\u001b[0m\u001b[0;34m\u001b[0m\u001b[0m\n",
            "\u001b[0;32m/usr/local/lib/python3.8/dist-packages/torch/nn/modules/conv.py\u001b[0m in \u001b[0;36mforward\u001b[0;34m(self, input)\u001b[0m\n\u001b[1;32m    461\u001b[0m \u001b[0;34m\u001b[0m\u001b[0m\n\u001b[1;32m    462\u001b[0m     \u001b[0;32mdef\u001b[0m \u001b[0mforward\u001b[0m\u001b[0;34m(\u001b[0m\u001b[0mself\u001b[0m\u001b[0;34m,\u001b[0m \u001b[0minput\u001b[0m\u001b[0;34m:\u001b[0m \u001b[0mTensor\u001b[0m\u001b[0;34m)\u001b[0m \u001b[0;34m->\u001b[0m \u001b[0mTensor\u001b[0m\u001b[0;34m:\u001b[0m\u001b[0;34m\u001b[0m\u001b[0;34m\u001b[0m\u001b[0m\n\u001b[0;32m--> 463\u001b[0;31m         \u001b[0;32mreturn\u001b[0m \u001b[0mself\u001b[0m\u001b[0;34m.\u001b[0m\u001b[0m_conv_forward\u001b[0m\u001b[0;34m(\u001b[0m\u001b[0minput\u001b[0m\u001b[0;34m,\u001b[0m \u001b[0mself\u001b[0m\u001b[0;34m.\u001b[0m\u001b[0mweight\u001b[0m\u001b[0;34m,\u001b[0m \u001b[0mself\u001b[0m\u001b[0;34m.\u001b[0m\u001b[0mbias\u001b[0m\u001b[0;34m)\u001b[0m\u001b[0;34m\u001b[0m\u001b[0;34m\u001b[0m\u001b[0m\n\u001b[0m\u001b[1;32m    464\u001b[0m \u001b[0;34m\u001b[0m\u001b[0m\n\u001b[1;32m    465\u001b[0m \u001b[0;32mclass\u001b[0m \u001b[0mConv3d\u001b[0m\u001b[0;34m(\u001b[0m\u001b[0m_ConvNd\u001b[0m\u001b[0;34m)\u001b[0m\u001b[0;34m:\u001b[0m\u001b[0;34m\u001b[0m\u001b[0;34m\u001b[0m\u001b[0m\n",
            "\u001b[0;32m/usr/local/lib/python3.8/dist-packages/torch/nn/modules/conv.py\u001b[0m in \u001b[0;36m_conv_forward\u001b[0;34m(self, input, weight, bias)\u001b[0m\n\u001b[1;32m    457\u001b[0m                             \u001b[0mweight\u001b[0m\u001b[0;34m,\u001b[0m \u001b[0mbias\u001b[0m\u001b[0;34m,\u001b[0m \u001b[0mself\u001b[0m\u001b[0;34m.\u001b[0m\u001b[0mstride\u001b[0m\u001b[0;34m,\u001b[0m\u001b[0;34m\u001b[0m\u001b[0;34m\u001b[0m\u001b[0m\n\u001b[1;32m    458\u001b[0m                             _pair(0), self.dilation, self.groups)\n\u001b[0;32m--> 459\u001b[0;31m         return F.conv2d(input, weight, bias, self.stride,\n\u001b[0m\u001b[1;32m    460\u001b[0m                         self.padding, self.dilation, self.groups)\n\u001b[1;32m    461\u001b[0m \u001b[0;34m\u001b[0m\u001b[0m\n",
            "\u001b[0;31mKeyboardInterrupt\u001b[0m: "
          ]
        }
      ]
    },
    {
      "cell_type": "code",
      "source": [],
      "metadata": {
        "id": "WS2_AAAvwY4I"
      },
      "execution_count": null,
      "outputs": []
    },
    {
      "cell_type": "code",
      "source": [
        "import torch\n",
        "from video_diffusion_pytorch import Unet3D, GaussianDiffusion\n",
        "\n",
        "model = Unet3D(\n",
        "    dim = 64,\n",
        "    use_bert_text_cond = True,  # this must be set to True to auto-use the bert model dimensions\n",
        "    dim_mults = (1, 2, 4, 8),\n",
        ")\n",
        "\n",
        "diffusion = GaussianDiffusion(\n",
        "    model,\n",
        "    image_size = 112,    # height and width of frames\n",
        "    num_frames = 16,     # number of video frames\n",
        "    timesteps = 1000,   # number of steps\n",
        "    loss_type = 'l1'    # L1 or L2\n",
        ")\n",
        "\n",
        "model = model.to(device=\"cuda\")\n",
        "diffusion = diffusion.to(device=\"cuda\")"
      ],
      "metadata": {
        "id": "2WVJlTfQjp1U"
      },
      "execution_count": null,
      "outputs": []
    },
    {
      "cell_type": "code",
      "source": [
        "diffusion = GaussianDiffusion(\n",
        "    model,\n",
        "    image_size = 112,    # height and width of frames\n",
        "    num_frames = 16,     # number of video frames\n",
        "    timesteps = 1000,   # number of steps\n",
        "    loss_type = 'l1'    # L1 or L2\n",
        ")\n",
        "diffusion = diffusion.to(device=\"cuda\")\n",
        "\n",
        "diffusion.load_state_dict(torch.load('text2vid_epoch0.ckpt'))"
      ],
      "metadata": {
        "colab": {
          "base_uri": "https://localhost:8080/"
        },
        "id": "AzQxWjGxHzef",
        "outputId": "7907c104-5ef1-4f65-a961-3c6ae7ee07ca"
      },
      "execution_count": null,
      "outputs": [
        {
          "output_type": "execute_result",
          "data": {
            "text/plain": [
              "<All keys matched successfully>"
            ]
          },
          "metadata": {},
          "execution_count": 43
        }
      ]
    },
    {
      "cell_type": "code",
      "source": [
        "# videos = torch.randn(3, 3, 5, 32, 32) # video (batch, channels, frames, height, width)\n",
        "# videos = gif_batches[0].type(torch.float32)\n",
        "# videos = videos.to(device=\"cuda\")\n",
        "\n",
        "\n",
        "# text = [\n",
        "#     'a whale breaching from afar',\n",
        "#     'young girl blowing out candles on her birthday cake',\n",
        "#     'fireworks with blue and green sparkles'\n",
        "# ]\n",
        "# text = gif_descriptions[0]\n",
        "\n",
        "# loss = diffusion(videos, cond = text)\n",
        "# loss.backward()\n",
        "# after a lot of training\n",
        "\n",
        "# sampled_videos = diffusion.sample(cond = text, cond_scale = 2)\n",
        "# sampled_videos.shape # (3, 3, 5, 32, 32)"
      ],
      "metadata": {
        "id": "C3czrucO_knU"
      },
      "execution_count": null,
      "outputs": []
    },
    {
      "cell_type": "code",
      "source": [
        "num_epochs = 1\n",
        "\n",
        "for epoch in range(num_epochs):\n",
        "\n",
        "  print(f'Beginning epoch {epoch}...')\n",
        "\n",
        "  for i in range(len(gif_batches)):\n",
        "    video = gif_batches[i]\n",
        "    video = video.to(device=\"cuda\")\n",
        "    text = gif_descriptions[i]\n",
        "\n",
        "    loss = diffusion(video, cond = text)\n",
        "    loss.backward()\n",
        "\n",
        "    if i % 50 == 0 or i == (len(gif_batches) - 1):\n",
        "      print(f'Videos processed: {i}/{len(gif_batches)}')\n",
        "\n",
        "  if epoch % 1 == 0:\n",
        "    torch.save(diffusion.state_dict(), f'text2vid_epoch{epoch}.ckpt')\n",
        "  \n",
        "  print(f'\\n\\n')"
      ],
      "metadata": {
        "colab": {
          "base_uri": "https://localhost:8080/"
        },
        "id": "B0MiqhxP-fR-",
        "outputId": "a6db56eb-e610-4401-ccf2-4347cb7b39d2"
      },
      "execution_count": null,
      "outputs": [
        {
          "output_type": "stream",
          "name": "stdout",
          "text": [
            "Beginning epoch 0...\n",
            "Videos processed: 0/373\n",
            "Videos processed: 50/373\n",
            "Videos processed: 100/373\n",
            "Videos processed: 150/373\n",
            "Videos processed: 200/373\n",
            "Videos processed: 250/373\n",
            "Videos processed: 300/373\n",
            "Videos processed: 350/373\n",
            "Videos processed: 372/373\n",
            "\n",
            "\n",
            "\n"
          ]
        }
      ]
    },
    {
      "cell_type": "code",
      "source": [
        "from google.colab import files\n",
        "files.download('text2vid_epoch0.ckpt') "
      ],
      "metadata": {
        "colab": {
          "base_uri": "https://localhost:8080/",
          "height": 17
        },
        "id": "VzJhuqe4IIXu",
        "outputId": "698feecd-49b4-4d0d-ad14-01432b73f5b2"
      },
      "execution_count": null,
      "outputs": [
        {
          "output_type": "display_data",
          "data": {
            "text/plain": [
              "<IPython.core.display.Javascript object>"
            ],
            "application/javascript": [
              "\n",
              "    async function download(id, filename, size) {\n",
              "      if (!google.colab.kernel.accessAllowed) {\n",
              "        return;\n",
              "      }\n",
              "      const div = document.createElement('div');\n",
              "      const label = document.createElement('label');\n",
              "      label.textContent = `Downloading \"${filename}\": `;\n",
              "      div.appendChild(label);\n",
              "      const progress = document.createElement('progress');\n",
              "      progress.max = size;\n",
              "      div.appendChild(progress);\n",
              "      document.body.appendChild(div);\n",
              "\n",
              "      const buffers = [];\n",
              "      let downloaded = 0;\n",
              "\n",
              "      const channel = await google.colab.kernel.comms.open(id);\n",
              "      // Send a message to notify the kernel that we're ready.\n",
              "      channel.send({})\n",
              "\n",
              "      for await (const message of channel.messages) {\n",
              "        // Send a message to notify the kernel that we're ready.\n",
              "        channel.send({})\n",
              "        if (message.buffers) {\n",
              "          for (const buffer of message.buffers) {\n",
              "            buffers.push(buffer);\n",
              "            downloaded += buffer.byteLength;\n",
              "            progress.value = downloaded;\n",
              "          }\n",
              "        }\n",
              "      }\n",
              "      const blob = new Blob(buffers, {type: 'application/binary'});\n",
              "      const a = document.createElement('a');\n",
              "      a.href = window.URL.createObjectURL(blob);\n",
              "      a.download = filename;\n",
              "      div.appendChild(a);\n",
              "      a.click();\n",
              "      div.remove();\n",
              "    }\n",
              "  "
            ]
          },
          "metadata": {}
        },
        {
          "output_type": "display_data",
          "data": {
            "text/plain": [
              "<IPython.core.display.Javascript object>"
            ],
            "application/javascript": [
              "download(\"download_03a1775f-bc24-48cf-bf08-2cef16cb23a8\", \"text2vid_epoch0.ckpt\", 167411889)"
            ]
          },
          "metadata": {}
        }
      ]
    },
    {
      "cell_type": "markdown",
      "source": [
        "# Sample"
      ],
      "metadata": {
        "id": "PU7FzST3ABs8"
      }
    },
    {
      "cell_type": "code",
      "source": [
        "import torch\n",
        "from video_diffusion_pytorch import Unet3D, GaussianDiffusion\n",
        "\n",
        "model = Unet3D(\n",
        "    dim = 64,\n",
        "    use_bert_text_cond = True,  # this must be set to True to auto-use the bert model dimensions\n",
        "    dim_mults = (1, 2, 4, 8),\n",
        ")\n",
        "\n",
        "model = model.to(device=\"cuda\")"
      ],
      "metadata": {
        "id": "P0V1dGBZACsh"
      },
      "execution_count": null,
      "outputs": []
    },
    {
      "cell_type": "code",
      "source": [
        "diffusion = GaussianDiffusion(\n",
        "    model,\n",
        "    image_size = 112,    # height and width of frames\n",
        "    num_frames = 16,     # number of video frames\n",
        "    timesteps = 1000,   # number of steps\n",
        "    loss_type = 'l1'    # L1 or L2\n",
        ")\n",
        "diffusion = diffusion.to(device=\"cuda\")\n",
        "\n",
        "diffusion.load_state_dict(torch.load('text2vid_epoch20.ckpt'))"
      ],
      "metadata": {
        "colab": {
          "base_uri": "https://localhost:8080/"
        },
        "id": "tZ3cIghoARca",
        "outputId": "7c78b80a-ab9f-4b7a-f752-f8db45cd7a68"
      },
      "execution_count": null,
      "outputs": [
        {
          "output_type": "execute_result",
          "data": {
            "text/plain": [
              "<All keys matched successfully>"
            ]
          },
          "metadata": {},
          "execution_count": 3
        }
      ]
    },
    {
      "cell_type": "code",
      "source": [
        "text_sample = 'age: 56.0, sex: F, ef: 63.2, esv: 34.6, edv: 94.0'"
      ],
      "metadata": {
        "id": "BUlDGaJ75hcu"
      },
      "execution_count": null,
      "outputs": []
    },
    {
      "cell_type": "code",
      "source": [
        "sampled_videos = diffusion.sample(cond = [text_sample], cond_scale = 2)\n",
        "sampled_videos.shape # (3, 3, 5, 32, 32)"
      ],
      "metadata": {
        "colab": {
          "base_uri": "https://localhost:8080/",
          "height": 358,
          "referenced_widgets": [
            "71245909934a4d218ec3b9ba16091e79",
            "150348cefa7643f39de8b6002830f448",
            "603307e6da9b4b5b8b8891536d5a00ce",
            "fb0e8798fd2244bdbcbbf3627025f760",
            "1d73a4772b5a49b58980a17098d4a4b9",
            "ff259fd4c5c045edb8bee5b6ef371ace",
            "5d26c091e73a4ef4a0937e48953ca900",
            "49381e118ae24878999eff62f1d68540",
            "99077bbd8ab54ea8afddc3dcc3ac6ebe",
            "83c50575896a406090ad01ca81a63dc4",
            "d2391bc166bb4cf989d0657ab57fe112",
            "ce7ef2fcb42048ecbda2f9dcc69c50f2",
            "44d2028fc0714766a3ea33ea160165d9",
            "c0542605ced5493880a4754df8252907",
            "07516a2c1f994a8497329649d0bd886f",
            "7b60811400214792b2751c6fdb7418e2",
            "afdd9c2178684bdca5a7a9aa121b6498",
            "29e0ee785e5142d0a24885d1f5ec67be",
            "80883f259e0b4beda852e1025a92b5f3",
            "baf3cef5130742cbaa0dac498317defa",
            "886e5f75093a4a83831215add8d1cfed",
            "880efaaf9edf46999d0515e180cdd574",
            "aed4cfc8b4984530a488e43e87ddce33",
            "edd6881dae3348f1b77135cb19a9f007",
            "a4a765b292ac428b94d4d2ea75beb83d",
            "e063777b47a94829a7b8a157f4a880b4",
            "1873e29cd62c49cabb3c05ff71e73f70",
            "c300f0a08103461e89562ad8f81dab1d",
            "068bca312451437dae79a00b00f3be79",
            "714d6a5804c34724a0fe1c94c1cbffb7",
            "801e7e6bab254ede8addccb56cc38d7a",
            "d47502412f3d4214b77ceecc3fef9013",
            "1170f3c5b5bd44b3b95ff40bac9321a6",
            "34cfbe9ee913483f8c95c8b390a76deb",
            "a5eac3270e7e43ea84ad2af6ce584f8e",
            "5684ffceb044487eb89fca3378700907",
            "4cbdef2ac1884918b4faa8b98a81bc31",
            "21a4a8ac01614eb9b88731a64f247a97",
            "df18d6215b41485bb1379d17e8193b12",
            "c73131159a724a1aa96c4a44c183a126",
            "d9e98021667047858ccb293e5b6bbb6b",
            "fd098b22bf86485f8323f7b39e2c9bd4",
            "6e1ad87cfa8d494db495b458c9285193",
            "7fcdd757db344e9b82880ceae572f8a9",
            "112728a7a5ca48528031b81019503825",
            "f413578e160a4080ab489e9f13013660",
            "aecafde67ac6404585cd498bfef799fe",
            "47080d30d734457a8ef457e1608e5592",
            "3f4204138854418aab2d31bf5d842e6c",
            "35e5b3dd2ab64fcfbd3b5026bf29cc4f",
            "ee4cd2270fc04037b965b82b78a68aa1",
            "ba2f91467d3448e2ac0f89067518f959",
            "2ac3816d4112478ab5df31029fba48d9",
            "bc8563cb5d074899941c2f2dbf1a060a",
            "d777d144cf2d4b18b00709953313b48d"
          ]
        },
        "id": "b1C1N0caC_c9",
        "outputId": "64dd73a1-0dc6-4a38-9e45-ad0499a4c18a"
      },
      "execution_count": null,
      "outputs": [
        {
          "output_type": "stream",
          "name": "stderr",
          "text": [
            "/usr/local/lib/python3.8/dist-packages/torch/hub.py:267: UserWarning: You are about to download and run code from an untrusted repository. In a future release, this won't be allowed. To add the repository to your trusted list, change the command to {calling_fn}(..., trust_repo=False) and a command prompt will appear asking for an explicit confirmation of trust, or load(..., trust_repo=True), which will assume that the prompt is to be answered with 'yes'. You can also use load(..., trust_repo='check') which will only prompt for confirmation if the repo is not already trusted. This will eventually be the default behaviour\n",
            "  warnings.warn(\n",
            "Downloading: \"https://github.com/huggingface/pytorch-transformers/zipball/main\" to /root/.cache/torch/hub/main.zip\n"
          ]
        },
        {
          "output_type": "display_data",
          "data": {
            "text/plain": [
              "Downloading (…)okenizer_config.json:   0%|          | 0.00/29.0 [00:00<?, ?B/s]"
            ],
            "application/vnd.jupyter.widget-view+json": {
              "version_major": 2,
              "version_minor": 0,
              "model_id": "71245909934a4d218ec3b9ba16091e79"
            }
          },
          "metadata": {}
        },
        {
          "output_type": "display_data",
          "data": {
            "text/plain": [
              "Downloading (…)lve/main/config.json:   0%|          | 0.00/570 [00:00<?, ?B/s]"
            ],
            "application/vnd.jupyter.widget-view+json": {
              "version_major": 2,
              "version_minor": 0,
              "model_id": "ce7ef2fcb42048ecbda2f9dcc69c50f2"
            }
          },
          "metadata": {}
        },
        {
          "output_type": "display_data",
          "data": {
            "text/plain": [
              "Downloading (…)solve/main/vocab.txt:   0%|          | 0.00/213k [00:00<?, ?B/s]"
            ],
            "application/vnd.jupyter.widget-view+json": {
              "version_major": 2,
              "version_minor": 0,
              "model_id": "aed4cfc8b4984530a488e43e87ddce33"
            }
          },
          "metadata": {}
        },
        {
          "output_type": "display_data",
          "data": {
            "text/plain": [
              "Downloading (…)/main/tokenizer.json:   0%|          | 0.00/436k [00:00<?, ?B/s]"
            ],
            "application/vnd.jupyter.widget-view+json": {
              "version_major": 2,
              "version_minor": 0,
              "model_id": "34cfbe9ee913483f8c95c8b390a76deb"
            }
          },
          "metadata": {}
        },
        {
          "output_type": "stream",
          "name": "stderr",
          "text": [
            "Using cache found in /root/.cache/torch/hub/huggingface_pytorch-transformers_main\n"
          ]
        },
        {
          "output_type": "display_data",
          "data": {
            "text/plain": [
              "Downloading (…)\"pytorch_model.bin\";:   0%|          | 0.00/436M [00:00<?, ?B/s]"
            ],
            "application/vnd.jupyter.widget-view+json": {
              "version_major": 2,
              "version_minor": 0,
              "model_id": "112728a7a5ca48528031b81019503825"
            }
          },
          "metadata": {}
        },
        {
          "output_type": "stream",
          "name": "stderr",
          "text": [
            "Some weights of the model checkpoint at bert-base-cased were not used when initializing BertModel: ['cls.predictions.decoder.weight', 'cls.predictions.transform.dense.bias', 'cls.predictions.bias', 'cls.seq_relationship.bias', 'cls.predictions.transform.dense.weight', 'cls.predictions.transform.LayerNorm.bias', 'cls.predictions.transform.LayerNorm.weight', 'cls.seq_relationship.weight']\n",
            "- This IS expected if you are initializing BertModel from the checkpoint of a model trained on another task or with another architecture (e.g. initializing a BertForSequenceClassification model from a BertForPreTraining model).\n",
            "- This IS NOT expected if you are initializing BertModel from the checkpoint of a model that you expect to be exactly identical (initializing a BertForSequenceClassification model from a BertForSequenceClassification model).\n",
            "sampling loop time step: 100%|██████████| 1000/1000 [20:20<00:00,  1.22s/it]\n"
          ]
        },
        {
          "output_type": "execute_result",
          "data": {
            "text/plain": [
              "torch.Size([1, 3, 16, 112, 112])"
            ]
          },
          "metadata": {},
          "execution_count": 8
        }
      ]
    },
    {
      "cell_type": "code",
      "source": [
        "import numpy as np\n",
        "\n",
        "video = sampled_videos[0].cpu().detach().numpy()\n",
        "\n",
        "video_frames = np.moveaxis(video, [0, 1], [-1, 0])\n",
        "video_frames.shape"
      ],
      "metadata": {
        "colab": {
          "base_uri": "https://localhost:8080/"
        },
        "id": "7q9FbBTcqZwc",
        "outputId": "272eaad9-d634-43e7-aab3-40f66dacd44d"
      },
      "execution_count": null,
      "outputs": [
        {
          "output_type": "execute_result",
          "data": {
            "text/plain": [
              "(16, 112, 112, 3)"
            ]
          },
          "metadata": {},
          "execution_count": 9
        }
      ]
    },
    {
      "cell_type": "code",
      "source": [
        "from matplotlib import pyplot as plt\n",
        "plt.imshow(video_frames[0], interpolation='nearest')\n",
        "plt.show()"
      ],
      "metadata": {
        "colab": {
          "base_uri": "https://localhost:8080/",
          "height": 268
        },
        "id": "dlKzd-k9qgL0",
        "outputId": "f5ca5db1-7e26-48a0-d4fa-051a4e7b6884"
      },
      "execution_count": null,
      "outputs": [
        {
          "output_type": "display_data",
          "data": {
            "text/plain": [
              "<Figure size 432x288 with 1 Axes>"
            ],
            "image/png": "[encoded data removed]"
          },
          "metadata": {
            "needs_background": "light"
          }
        }
      ]
    },
    {
      "cell_type": "code",
      "source": [
        "import numpy as np\n",
        "from PIL import Image\n",
        "\n",
        "imgs = video_frames * 255\n",
        "imgs = imgs.astype(np.uint8)\n",
        "imgs = [Image.fromarray(img) for img in imgs]\n",
        "# duration is the number of milliseconds between frames; this is 40 frames per second\n",
        "imgs[0].save(\"array.gif\", save_all=True, append_images=imgs[1:], duration=70, loop=0)"
      ],
      "metadata": {
        "id": "sMqSJB5zrIF9"
      },
      "execution_count": null,
      "outputs": []
    },
    {
      "cell_type": "code",
      "source": [
        "imgs = video_frames * 255\n",
        "imgs = imgs.astype(np.uint8)"
      ],
      "metadata": {
        "id": "PBYPppdaGuUQ"
      },
      "execution_count": null,
      "outputs": []
    },
    {
      "cell_type": "code",
      "source": [
        "imgs = [Image.fromarray(img) for img in imgs]"
      ],
      "metadata": {
        "id": "oijt4S9MJLVF"
      },
      "execution_count": null,
      "outputs": []
    },
    {
      "cell_type": "code",
      "source": [
        "type(imgs[0])"
      ],
      "metadata": {
        "colab": {
          "base_uri": "https://localhost:8080/"
        },
        "id": "3WDr5VsQGv_x",
        "outputId": "9fae33cf-4769-479e-d15a-7837b8e8c960"
      },
      "execution_count": null,
      "outputs": [
        {
          "output_type": "execute_result",
          "data": {
            "text/plain": [
              "PIL.Image.Image"
            ]
          },
          "metadata": {},
          "execution_count": 25
        }
      ]
    },
    {
      "cell_type": "code",
      "source": [
        "np.save('sample.npy', imgs)"
      ],
      "metadata": {
        "id": "ZyHqtL4HG9Al"
      },
      "execution_count": null,
      "outputs": []
    },
    {
      "cell_type": "code",
      "source": [
        "sample = np.load('sample.npy')"
      ],
      "metadata": {
        "id": "QHDo4FdyJHIy"
      },
      "execution_count": null,
      "outputs": []
    },
    {
      "cell_type": "code",
      "source": [
        "sample = [Image.fromarray(img) for img in sample]"
      ],
      "metadata": {
        "id": "UeP2dBKlJQrb"
      },
      "execution_count": null,
      "outputs": []
    },
    {
      "cell_type": "code",
      "source": [
        "type(sample[0])"
      ],
      "metadata": {
        "colab": {
          "base_uri": "https://localhost:8080/"
        },
        "id": "alQunEpoJWLx",
        "outputId": "564167d9-69c8-4855-8fa2-ff3581fe244e"
      },
      "execution_count": null,
      "outputs": [
        {
          "output_type": "execute_result",
          "data": {
            "text/plain": [
              "PIL.Image.Image"
            ]
          },
          "metadata": {},
          "execution_count": 26
        }
      ]
    },
    {
      "cell_type": "code",
      "source": [
        "sample.shape"
      ],
      "metadata": {
        "colab": {
          "base_uri": "https://localhost:8080/"
        },
        "id": "IPc0LwmxJIuU",
        "outputId": "7eaa9de9-b82a-413a-b0b4-26e7fe3ac821"
      },
      "execution_count": null,
      "outputs": [
        {
          "output_type": "execute_result",
          "data": {
            "text/plain": [
              "(16, 112, 112, 3)"
            ]
          },
          "metadata": {},
          "execution_count": 20
        }
      ]
    },
    {
      "cell_type": "code",
      "source": [
        "import numpy as np\n",
        "from PIL import Image\n",
        "\n",
        "sample = np.load('sample.npy')\n",
        "sample = [Image.fromarray(img) for img in sample]\n",
        "sample[0].save(\"sample_01.gif\", save_all=True, append_images=sample[1:], duration=70, loop=0)"
      ],
      "metadata": {
        "id": "Uxn5hbAHHk0S"
      },
      "execution_count": null,
      "outputs": []
    },
    {
      "cell_type": "code",
      "source": [
        "from IPython.core.display import HTML\n",
        "import base64\n",
        "\n",
        "gif_path = '/content/array.gif'\n",
        "\n",
        "b64 = base64.b64encode(open(gif_path,'rb').read()).decode('ascii')\n",
        "display(HTML(f'<img src=\"data:image/gif;base64,{b64}\" width=\"200\"/>'))"
      ],
      "metadata": {
        "colab": {
          "base_uri": "https://localhost:8080/",
          "height": 221
        },
        "id": "3kGPntXWrZ7p",
        "outputId": "4503eb4c-c5ca-4032-f66e-b8d9c719df18"
      },
      "execution_count": null,
      "outputs": [
        {
          "output_type": "display_data",
          "data": {
            "text/plain": [
              "<IPython.core.display.HTML object>"
            ],
            "text/html": [
              "<img src=\"data:image/gif;base64,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\" width=\"200\"/>"
            ]
          },
          "metadata": {}
        }
      ]
    }
  ]
}